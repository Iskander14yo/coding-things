{
 "cells": [
  {
   "cell_type": "markdown",
   "id": "e9d000f4",
   "metadata": {},
   "source": [
    "Доброго времени суток. \n",
    "\n",
    "Была поставлена задача узнать, какие факторы влияют на моральное и физическое истощение сотрудников в некоторой компании Х. С этой целью были проведены первичный EDA и числовой анализ имеющихся данных, их обработка и интерпретация, а также использован некоторый арсенал Машинного обучения. Хотя изначально идеи построить какую-то модель не было и, соответственно, не были использованы best-practices для достижения наилучших цифр, полученный результат кажется достаточно хорошим в абсолютных значениях. Все, что было проделано - под катом."
   ]
  },
  {
   "cell_type": "code",
   "execution_count": 1,
   "id": "c91a2bb8",
   "metadata": {},
   "outputs": [],
   "source": [
    "import numpy as np\n",
    "import pandas as pd\n",
    "import matplotlib.pyplot as plt\n",
    "import seaborn as sns\n",
    "from IPython.display import display\n",
    "sns.set(rc={'figure.figsize':(11, 6)})\n",
    "import re\n",
    "\n",
    "import warnings\n",
    "warnings.filterwarnings(\"ignore\")"
   ]
  },
  {
   "cell_type": "code",
   "execution_count": 2,
   "id": "11f0ca75",
   "metadata": {},
   "outputs": [
    {
     "data": {
      "text/html": [
       "<div>\n",
       "<style scoped>\n",
       "    .dataframe tbody tr th:only-of-type {\n",
       "        vertical-align: middle;\n",
       "    }\n",
       "\n",
       "    .dataframe tbody tr th {\n",
       "        vertical-align: top;\n",
       "    }\n",
       "\n",
       "    .dataframe thead th {\n",
       "        text-align: right;\n",
       "    }\n",
       "</style>\n",
       "<table border=\"1\" class=\"dataframe\">\n",
       "  <thead>\n",
       "    <tr style=\"text-align: right;\">\n",
       "      <th></th>\n",
       "      <th>Age</th>\n",
       "      <th>Attrition</th>\n",
       "      <th>BusinessTravel</th>\n",
       "      <th>DailyRate</th>\n",
       "      <th>Department</th>\n",
       "      <th>DistanceFromHome</th>\n",
       "      <th>Education</th>\n",
       "      <th>EducationField</th>\n",
       "      <th>EmployeeNumber</th>\n",
       "      <th>EnvironmentSatisfaction</th>\n",
       "      <th>...</th>\n",
       "      <th>RelationshipSatisfaction</th>\n",
       "      <th>StandardHours</th>\n",
       "      <th>StockOptionLevel</th>\n",
       "      <th>TotalWorkingYears</th>\n",
       "      <th>TrainingTimesLastYear</th>\n",
       "      <th>WorkLifeBalance</th>\n",
       "      <th>YearsAtCompany</th>\n",
       "      <th>YearsInCurrentRole</th>\n",
       "      <th>YearsSinceLastPromotion</th>\n",
       "      <th>YearsWithCurrManager</th>\n",
       "    </tr>\n",
       "  </thead>\n",
       "  <tbody>\n",
       "    <tr>\n",
       "      <th>0</th>\n",
       "      <td>34</td>\n",
       "      <td>No</td>\n",
       "      <td>Travel_Rarely</td>\n",
       "      <td>628</td>\n",
       "      <td>Research &amp; Development</td>\n",
       "      <td>8</td>\n",
       "      <td>3</td>\n",
       "      <td>Medical</td>\n",
       "      <td>2068</td>\n",
       "      <td>2</td>\n",
       "      <td>...</td>\n",
       "      <td>1</td>\n",
       "      <td>80</td>\n",
       "      <td>0</td>\n",
       "      <td>6</td>\n",
       "      <td>3</td>\n",
       "      <td>4</td>\n",
       "      <td>4</td>\n",
       "      <td>3</td>\n",
       "      <td>1</td>\n",
       "      <td>2</td>\n",
       "    </tr>\n",
       "    <tr>\n",
       "      <th>1</th>\n",
       "      <td>49</td>\n",
       "      <td>No</td>\n",
       "      <td>Travel_Frequently</td>\n",
       "      <td>1023</td>\n",
       "      <td>Sales</td>\n",
       "      <td>2</td>\n",
       "      <td>3</td>\n",
       "      <td>Medical</td>\n",
       "      <td>2065</td>\n",
       "      <td>4</td>\n",
       "      <td>...</td>\n",
       "      <td>4</td>\n",
       "      <td>80</td>\n",
       "      <td>0</td>\n",
       "      <td>17</td>\n",
       "      <td>3</td>\n",
       "      <td>2</td>\n",
       "      <td>9</td>\n",
       "      <td>6</td>\n",
       "      <td>0</td>\n",
       "      <td>8</td>\n",
       "    </tr>\n",
       "    <tr>\n",
       "      <th>2</th>\n",
       "      <td>27</td>\n",
       "      <td>No</td>\n",
       "      <td>Travel_Rarely</td>\n",
       "      <td>155</td>\n",
       "      <td>Research &amp; Development</td>\n",
       "      <td>4</td>\n",
       "      <td>3</td>\n",
       "      <td>Life Sciences</td>\n",
       "      <td>2064</td>\n",
       "      <td>2</td>\n",
       "      <td>...</td>\n",
       "      <td>2</td>\n",
       "      <td>80</td>\n",
       "      <td>1</td>\n",
       "      <td>6</td>\n",
       "      <td>0</td>\n",
       "      <td>3</td>\n",
       "      <td>6</td>\n",
       "      <td>2</td>\n",
       "      <td>0</td>\n",
       "      <td>3</td>\n",
       "    </tr>\n",
       "    <tr>\n",
       "      <th>3</th>\n",
       "      <td>39</td>\n",
       "      <td>No</td>\n",
       "      <td>Travel_Rarely</td>\n",
       "      <td>613</td>\n",
       "      <td>Research &amp; Development</td>\n",
       "      <td>6</td>\n",
       "      <td>1</td>\n",
       "      <td>Medical</td>\n",
       "      <td>2062</td>\n",
       "      <td>4</td>\n",
       "      <td>...</td>\n",
       "      <td>1</td>\n",
       "      <td>80</td>\n",
       "      <td>1</td>\n",
       "      <td>9</td>\n",
       "      <td>5</td>\n",
       "      <td>3</td>\n",
       "      <td>7</td>\n",
       "      <td>7</td>\n",
       "      <td>1</td>\n",
       "      <td>7</td>\n",
       "    </tr>\n",
       "    <tr>\n",
       "      <th>4</th>\n",
       "      <td>36</td>\n",
       "      <td>No</td>\n",
       "      <td>Travel_Frequently</td>\n",
       "      <td>884</td>\n",
       "      <td>Research &amp; Development</td>\n",
       "      <td>23</td>\n",
       "      <td>2</td>\n",
       "      <td>Medical</td>\n",
       "      <td>2061</td>\n",
       "      <td>3</td>\n",
       "      <td>...</td>\n",
       "      <td>3</td>\n",
       "      <td>80</td>\n",
       "      <td>1</td>\n",
       "      <td>17</td>\n",
       "      <td>3</td>\n",
       "      <td>3</td>\n",
       "      <td>5</td>\n",
       "      <td>2</td>\n",
       "      <td>0</td>\n",
       "      <td>3</td>\n",
       "    </tr>\n",
       "    <tr>\n",
       "      <th>...</th>\n",
       "      <td>...</td>\n",
       "      <td>...</td>\n",
       "      <td>...</td>\n",
       "      <td>...</td>\n",
       "      <td>...</td>\n",
       "      <td>...</td>\n",
       "      <td>...</td>\n",
       "      <td>...</td>\n",
       "      <td>...</td>\n",
       "      <td>...</td>\n",
       "      <td>...</td>\n",
       "      <td>...</td>\n",
       "      <td>...</td>\n",
       "      <td>...</td>\n",
       "      <td>...</td>\n",
       "      <td>...</td>\n",
       "      <td>...</td>\n",
       "      <td>...</td>\n",
       "      <td>...</td>\n",
       "      <td>...</td>\n",
       "      <td>...</td>\n",
       "    </tr>\n",
       "    <tr>\n",
       "      <th>1465</th>\n",
       "      <td>27</td>\n",
       "      <td>No</td>\n",
       "      <td>Travel_Rarely</td>\n",
       "      <td>591</td>\n",
       "      <td>Research &amp; Development</td>\n",
       "      <td>2</td>\n",
       "      <td>1</td>\n",
       "      <td>Medical</td>\n",
       "      <td>7</td>\n",
       "      <td>1</td>\n",
       "      <td>...</td>\n",
       "      <td>4</td>\n",
       "      <td>80</td>\n",
       "      <td>1</td>\n",
       "      <td>6</td>\n",
       "      <td>3</td>\n",
       "      <td>3</td>\n",
       "      <td>2</td>\n",
       "      <td>2</td>\n",
       "      <td>2</td>\n",
       "      <td>2</td>\n",
       "    </tr>\n",
       "    <tr>\n",
       "      <th>1466</th>\n",
       "      <td>33</td>\n",
       "      <td>No</td>\n",
       "      <td>Travel_Frequently</td>\n",
       "      <td>1392</td>\n",
       "      <td>Research &amp; Development</td>\n",
       "      <td>3</td>\n",
       "      <td>4</td>\n",
       "      <td>Life Sciences</td>\n",
       "      <td>5</td>\n",
       "      <td>4</td>\n",
       "      <td>...</td>\n",
       "      <td>3</td>\n",
       "      <td>80</td>\n",
       "      <td>0</td>\n",
       "      <td>8</td>\n",
       "      <td>3</td>\n",
       "      <td>3</td>\n",
       "      <td>8</td>\n",
       "      <td>7</td>\n",
       "      <td>3</td>\n",
       "      <td>0</td>\n",
       "    </tr>\n",
       "    <tr>\n",
       "      <th>1467</th>\n",
       "      <td>37</td>\n",
       "      <td>Yes</td>\n",
       "      <td>Travel_Rarely</td>\n",
       "      <td>1373</td>\n",
       "      <td>Research &amp; Development</td>\n",
       "      <td>2</td>\n",
       "      <td>2</td>\n",
       "      <td>Other</td>\n",
       "      <td>4</td>\n",
       "      <td>4</td>\n",
       "      <td>...</td>\n",
       "      <td>2</td>\n",
       "      <td>80</td>\n",
       "      <td>0</td>\n",
       "      <td>7</td>\n",
       "      <td>3</td>\n",
       "      <td>3</td>\n",
       "      <td>0</td>\n",
       "      <td>0</td>\n",
       "      <td>0</td>\n",
       "      <td>0</td>\n",
       "    </tr>\n",
       "    <tr>\n",
       "      <th>1468</th>\n",
       "      <td>49</td>\n",
       "      <td>No</td>\n",
       "      <td>Travel_Frequently</td>\n",
       "      <td>279</td>\n",
       "      <td>Research &amp; Development</td>\n",
       "      <td>8</td>\n",
       "      <td>1</td>\n",
       "      <td>Life Sciences</td>\n",
       "      <td>2</td>\n",
       "      <td>3</td>\n",
       "      <td>...</td>\n",
       "      <td>4</td>\n",
       "      <td>80</td>\n",
       "      <td>1</td>\n",
       "      <td>10</td>\n",
       "      <td>3</td>\n",
       "      <td>3</td>\n",
       "      <td>10</td>\n",
       "      <td>7</td>\n",
       "      <td>1</td>\n",
       "      <td>7</td>\n",
       "    </tr>\n",
       "    <tr>\n",
       "      <th>1469</th>\n",
       "      <td>41</td>\n",
       "      <td>Yes</td>\n",
       "      <td>Travel_Rarely</td>\n",
       "      <td>1102</td>\n",
       "      <td>Sales</td>\n",
       "      <td>1</td>\n",
       "      <td>2</td>\n",
       "      <td>Life Sciences</td>\n",
       "      <td>1</td>\n",
       "      <td>2</td>\n",
       "      <td>...</td>\n",
       "      <td>1</td>\n",
       "      <td>80</td>\n",
       "      <td>0</td>\n",
       "      <td>8</td>\n",
       "      <td>0</td>\n",
       "      <td>1</td>\n",
       "      <td>6</td>\n",
       "      <td>4</td>\n",
       "      <td>0</td>\n",
       "      <td>5</td>\n",
       "    </tr>\n",
       "  </tbody>\n",
       "</table>\n",
       "<p>1470 rows × 34 columns</p>\n",
       "</div>"
      ],
      "text/plain": [
       "      Age Attrition     BusinessTravel  DailyRate              Department  \\\n",
       "0      34        No      Travel_Rarely        628  Research & Development   \n",
       "1      49        No  Travel_Frequently       1023                   Sales   \n",
       "2      27        No      Travel_Rarely        155  Research & Development   \n",
       "3      39        No      Travel_Rarely        613  Research & Development   \n",
       "4      36        No  Travel_Frequently        884  Research & Development   \n",
       "...   ...       ...                ...        ...                     ...   \n",
       "1465   27        No      Travel_Rarely        591  Research & Development   \n",
       "1466   33        No  Travel_Frequently       1392  Research & Development   \n",
       "1467   37       Yes      Travel_Rarely       1373  Research & Development   \n",
       "1468   49        No  Travel_Frequently        279  Research & Development   \n",
       "1469   41       Yes      Travel_Rarely       1102                   Sales   \n",
       "\n",
       "      DistanceFromHome  Education EducationField  EmployeeNumber  \\\n",
       "0                    8          3        Medical            2068   \n",
       "1                    2          3        Medical            2065   \n",
       "2                    4          3  Life Sciences            2064   \n",
       "3                    6          1        Medical            2062   \n",
       "4                   23          2        Medical            2061   \n",
       "...                ...        ...            ...             ...   \n",
       "1465                 2          1        Medical               7   \n",
       "1466                 3          4  Life Sciences               5   \n",
       "1467                 2          2          Other               4   \n",
       "1468                 8          1  Life Sciences               2   \n",
       "1469                 1          2  Life Sciences               1   \n",
       "\n",
       "      EnvironmentSatisfaction  ... RelationshipSatisfaction  StandardHours  \\\n",
       "0                           2  ...                        1             80   \n",
       "1                           4  ...                        4             80   \n",
       "2                           2  ...                        2             80   \n",
       "3                           4  ...                        1             80   \n",
       "4                           3  ...                        3             80   \n",
       "...                       ...  ...                      ...            ...   \n",
       "1465                        1  ...                        4             80   \n",
       "1466                        4  ...                        3             80   \n",
       "1467                        4  ...                        2             80   \n",
       "1468                        3  ...                        4             80   \n",
       "1469                        2  ...                        1             80   \n",
       "\n",
       "      StockOptionLevel  TotalWorkingYears TrainingTimesLastYear  \\\n",
       "0                    0                  6                     3   \n",
       "1                    0                 17                     3   \n",
       "2                    1                  6                     0   \n",
       "3                    1                  9                     5   \n",
       "4                    1                 17                     3   \n",
       "...                ...                ...                   ...   \n",
       "1465                 1                  6                     3   \n",
       "1466                 0                  8                     3   \n",
       "1467                 0                  7                     3   \n",
       "1468                 1                 10                     3   \n",
       "1469                 0                  8                     0   \n",
       "\n",
       "      WorkLifeBalance YearsAtCompany  YearsInCurrentRole  \\\n",
       "0                   4              4                   3   \n",
       "1                   2              9                   6   \n",
       "2                   3              6                   2   \n",
       "3                   3              7                   7   \n",
       "4                   3              5                   2   \n",
       "...               ...            ...                 ...   \n",
       "1465                3              2                   2   \n",
       "1466                3              8                   7   \n",
       "1467                3              0                   0   \n",
       "1468                3             10                   7   \n",
       "1469                1              6                   4   \n",
       "\n",
       "      YearsSinceLastPromotion  YearsWithCurrManager  \n",
       "0                           1                     2  \n",
       "1                           0                     8  \n",
       "2                           0                     3  \n",
       "3                           1                     7  \n",
       "4                           0                     3  \n",
       "...                       ...                   ...  \n",
       "1465                        2                     2  \n",
       "1466                        3                     0  \n",
       "1467                        0                     0  \n",
       "1468                        1                     7  \n",
       "1469                        0                     5  \n",
       "\n",
       "[1470 rows x 34 columns]"
      ]
     },
     "execution_count": 2,
     "metadata": {},
     "output_type": "execute_result"
    }
   ],
   "source": [
    "whole_df = pd.read_csv('df.csv')\n",
    "whole_df"
   ]
  },
  {
   "cell_type": "markdown",
   "id": "5da37224",
   "metadata": {},
   "source": [
    "**--------------------------------------------------------------**\n",
    "# Data preprocessing\n",
    "\n",
    "## Columns\n",
    "\n",
    "* Age\n",
    "* **A t t r i t i o n** (our target)\n",
    "* Business travel\n",
    "* Daily rate\n",
    "* Department\n",
    "* Distancefromhome\n",
    "* Education\n",
    "* Educationfiel\n",
    "* Employeenumber\n",
    "* Environment satisfaction\n",
    "* Gender\t\n",
    "* HourlyRate \n",
    "* JobInvolvement \n",
    "* JobLevel\t\n",
    "* JobRole\t\n",
    "* JobSatisfaction\n",
    "* MaritalStatus\t\n",
    "* MonthlyIncome\t\n",
    "* MonthlyRate\t\n",
    "* NumCompaniesWorked\t\n",
    "* Over18\t\n",
    "* OverTime\t\n",
    "* PercentSalaryHike\t\n",
    "* PerformanceRating\t\n",
    "* RelationshipSatisfaction\t\n",
    "* StandardHours\t\n",
    "* StockOptionLevel\t\n",
    "* TotalWorkingYears\t\n",
    "* TrainingTimesLastYear\t\n",
    "* WorkLifeBalance\t\n",
    "* YearsAtCompany\t\n",
    "* YearsInCurrentRole\t\n",
    "* YearsSinceLastPromotion\t\n",
    "* YearsWithCurrManager"
   ]
  },
  {
   "cell_type": "code",
   "execution_count": 3,
   "id": "97ecf955",
   "metadata": {},
   "outputs": [],
   "source": [
    "whole_df.set_axis(['age', 'target', 'travel', 'drate', 'department', 'dist', 'education', 'field', 'id', 'envsat',\n",
    "            'gender', 'hrate', 'involve', 'level', 'role', 'jobsat', 'marital', 'income',\n",
    "            'mrate', 'exp', 'adult', 'overtime', 'hike', 'rating', 'relatsat', 'standhours', 'stocks',\n",
    "            'total_years', 'trains', 'balance', 'years', 'curyears', 'promoyears', 'manageryears'], axis=1, \n",
    "            inplace=True)"
   ]
  },
  {
   "cell_type": "code",
   "execution_count": 4,
   "id": "a11b2e28",
   "metadata": {},
   "outputs": [],
   "source": [
    "df = whole_df.sample(frac = 0.8) # that is our train df\n",
    "test_df = whole_df.loc[~whole_df.index.isin(df.index)]"
   ]
  },
  {
   "cell_type": "markdown",
   "id": "bded0426",
   "metadata": {},
   "source": [
    "### Age"
   ]
  },
  {
   "cell_type": "code",
   "execution_count": 5,
   "id": "993136dd",
   "metadata": {},
   "outputs": [
    {
     "data": {
      "image/png": "[encoded data removed]",
      "text/plain": [
       "<Figure size 792x432 with 1 Axes>"
      ]
     },
     "metadata": {},
     "output_type": "display_data"
    }
   ],
   "source": [
    "bins = [17, 23, 28, 38, 46, 60]\n",
    "for xc in bins:\n",
    "    plt.axvline(x=xc+0.5, color='k', linestyle='--')\n",
    "sns.histplot(data = df[['age']], x = 'age', discrete = True)\n",
    "plt.title('Disribution of Age', size = 14);"
   ]
  },
  {
   "cell_type": "markdown",
   "id": "acb2a160",
   "metadata": {},
   "source": [
    "Большое количество уникальных значений лучше дискретизировать, то есть разделить на несколько интервалов. В данном случае, можно разбить на интервалы (17,23], (23, 28], (28, 38], (38, 46], (46, 60]. Данное разбиение может иметь смысл, поскольку мы не просто сгруппировали данные, но и внесли в численные значения смысл: 17-23 лет, как правило, время учебы в университете, 37-46 - самое то для кризиса среднего возраста, 46-60 - уже возрастные работники, которым может потребоваться дополнительный уход (или наоборот - высшие грейды, которые хорошо зарабатывают и думают не только о работе)."
   ]
  },
  {
   "cell_type": "code",
   "execution_count": 6,
   "id": "292a979a",
   "metadata": {},
   "outputs": [],
   "source": [
    "cats_age, bins_age = pd.cut(df.age.values, bins = bins, \n",
    "                    labels = ['1', '2', '3', '4', '5'], retbins = True)\n",
    "df.age = cats_age"
   ]
  },
  {
   "cell_type": "code",
   "execution_count": 7,
   "id": "b6d141d0",
   "metadata": {},
   "outputs": [
    {
     "data": {
      "image/png": "[encoded data removed]",
      "text/plain": [
       "<Figure size 792x432 with 1 Axes>"
      ]
     },
     "metadata": {},
     "output_type": "display_data"
    }
   ],
   "source": [
    "sns.histplot(data = df[['age']], x = 'age')\n",
    "plt.title('Disribution of binned Age', size = 14);"
   ]
  },
  {
   "cell_type": "code",
   "execution_count": 8,
   "id": "3ba6c658",
   "metadata": {},
   "outputs": [
    {
     "name": "stdout",
     "output_type": "stream",
     "text": [
      "Pivot table of Age and Attrition\n"
     ]
    },
    {
     "data": {
      "text/html": [
       "<div>\n",
       "<style scoped>\n",
       "    .dataframe tbody tr th:only-of-type {\n",
       "        vertical-align: middle;\n",
       "    }\n",
       "\n",
       "    .dataframe tbody tr th {\n",
       "        vertical-align: top;\n",
       "    }\n",
       "\n",
       "    .dataframe thead th {\n",
       "        text-align: right;\n",
       "    }\n",
       "</style>\n",
       "<table border=\"1\" class=\"dataframe\">\n",
       "  <thead>\n",
       "    <tr style=\"text-align: right;\">\n",
       "      <th></th>\n",
       "      <th></th>\n",
       "      <th>value</th>\n",
       "      <th>value (%)</th>\n",
       "    </tr>\n",
       "    <tr>\n",
       "      <th>age</th>\n",
       "      <th>target</th>\n",
       "      <th></th>\n",
       "      <th></th>\n",
       "    </tr>\n",
       "  </thead>\n",
       "  <tbody>\n",
       "    <tr>\n",
       "      <th rowspan=\"2\" valign=\"top\">1</th>\n",
       "      <th>No</th>\n",
       "      <td>27</td>\n",
       "      <td>60.00</td>\n",
       "    </tr>\n",
       "    <tr>\n",
       "      <th>Yes</th>\n",
       "      <td>18</td>\n",
       "      <td>40.00</td>\n",
       "    </tr>\n",
       "    <tr>\n",
       "      <th rowspan=\"2\" valign=\"top\">2</th>\n",
       "      <th>No</th>\n",
       "      <td>121</td>\n",
       "      <td>79.08</td>\n",
       "    </tr>\n",
       "    <tr>\n",
       "      <th>Yes</th>\n",
       "      <td>32</td>\n",
       "      <td>20.92</td>\n",
       "    </tr>\n",
       "    <tr>\n",
       "      <th rowspan=\"2\" valign=\"top\">3</th>\n",
       "      <th>No</th>\n",
       "      <td>435</td>\n",
       "      <td>83.82</td>\n",
       "    </tr>\n",
       "    <tr>\n",
       "      <th>Yes</th>\n",
       "      <td>84</td>\n",
       "      <td>16.18</td>\n",
       "    </tr>\n",
       "    <tr>\n",
       "      <th rowspan=\"2\" valign=\"top\">4</th>\n",
       "      <th>No</th>\n",
       "      <td>228</td>\n",
       "      <td>88.37</td>\n",
       "    </tr>\n",
       "    <tr>\n",
       "      <th>Yes</th>\n",
       "      <td>30</td>\n",
       "      <td>11.63</td>\n",
       "    </tr>\n",
       "    <tr>\n",
       "      <th rowspan=\"2\" valign=\"top\">5</th>\n",
       "      <th>No</th>\n",
       "      <td>174</td>\n",
       "      <td>86.57</td>\n",
       "    </tr>\n",
       "    <tr>\n",
       "      <th>Yes</th>\n",
       "      <td>27</td>\n",
       "      <td>13.43</td>\n",
       "    </tr>\n",
       "  </tbody>\n",
       "</table>\n",
       "</div>"
      ],
      "text/plain": [
       "            value  value (%)\n",
       "age target                  \n",
       "1   No         27      60.00\n",
       "    Yes        18      40.00\n",
       "2   No        121      79.08\n",
       "    Yes        32      20.92\n",
       "3   No        435      83.82\n",
       "    Yes        84      16.18\n",
       "4   No        228      88.37\n",
       "    Yes        30      11.63\n",
       "5   No        174      86.57\n",
       "    Yes        27      13.43"
      ]
     },
     "metadata": {},
     "output_type": "display_data"
    }
   ],
   "source": [
    "stats_age = df.groupby(['age', 'target']).count().loc[:, 'travel']\n",
    "stats_age_df = round(pd.DataFrame(stats_age / stats_age.groupby(level=0).sum() * 100), 2)\n",
    "stats_age_df.rename({'travel':'value (%)'}, axis = 1, inplace = True)\n",
    "total_age_df = pd.concat([pd.DataFrame(stats_age), stats_age_df], axis = 1)\n",
    "total_age_df.rename({'travel':'value'}, axis = 1, inplace = True)\n",
    "print('Pivot table of Age and Attrition')\n",
    "display(total_age_df)"
   ]
  },
  {
   "cell_type": "code",
   "execution_count": 9,
   "id": "e9691aaf",
   "metadata": {},
   "outputs": [
    {
     "data": {
      "image/png": "[encoded data removed]",
      "text/plain": [
       "<Figure size 792x432 with 1 Axes>"
      ]
     },
     "metadata": {},
     "output_type": "display_data"
    }
   ],
   "source": [
    "total_age_df.drop('value', axis = 1).plot(kind = 'bar', rot = 0);\n",
    "plt.title('Conditional disribution of Age by Attrition (%)', size = 14);"
   ]
  },
  {
   "cell_type": "markdown",
   "id": "7becc0f6",
   "metadata": {},
   "source": [
    "Из рисунка и таблиц выше явно видно, что у молодых ребят истощение идет гораздо более серьезными темпами, чем у более возрастных сотрудников. Связано это может быть в первую очередь с тем, что молодых людей без опыта нанимают на рутинную и вызывающую трудности работу, при этом им зачастую приходится совмещать ее с учебой. И чем выше возраст, тем предположительно более высокое положение занимает сотрудник в компании, становится более ценным ее кадром, и компания старается заботиться о нем."
   ]
  },
  {
   "cell_type": "markdown",
   "id": "4cd7f7ec",
   "metadata": {},
   "source": [
    "### Business travel"
   ]
  },
  {
   "cell_type": "code",
   "execution_count": 10,
   "id": "4238def7",
   "metadata": {},
   "outputs": [
    {
     "data": {
      "text/html": [
       "<div>\n",
       "<style scoped>\n",
       "    .dataframe tbody tr th:only-of-type {\n",
       "        vertical-align: middle;\n",
       "    }\n",
       "\n",
       "    .dataframe tbody tr th {\n",
       "        vertical-align: top;\n",
       "    }\n",
       "\n",
       "    .dataframe thead th {\n",
       "        text-align: right;\n",
       "    }\n",
       "</style>\n",
       "<table border=\"1\" class=\"dataframe\">\n",
       "  <thead>\n",
       "    <tr style=\"text-align: right;\">\n",
       "      <th></th>\n",
       "      <th>travel</th>\n",
       "    </tr>\n",
       "  </thead>\n",
       "  <tbody>\n",
       "    <tr>\n",
       "      <th>1352</th>\n",
       "      <td>Travel_Frequently</td>\n",
       "    </tr>\n",
       "    <tr>\n",
       "      <th>812</th>\n",
       "      <td>Travel_Rarely</td>\n",
       "    </tr>\n",
       "    <tr>\n",
       "      <th>354</th>\n",
       "      <td>Travel_Rarely</td>\n",
       "    </tr>\n",
       "    <tr>\n",
       "      <th>774</th>\n",
       "      <td>Travel_Rarely</td>\n",
       "    </tr>\n",
       "    <tr>\n",
       "      <th>6</th>\n",
       "      <td>Non-Travel</td>\n",
       "    </tr>\n",
       "    <tr>\n",
       "      <th>...</th>\n",
       "      <td>...</td>\n",
       "    </tr>\n",
       "    <tr>\n",
       "      <th>531</th>\n",
       "      <td>Travel_Rarely</td>\n",
       "    </tr>\n",
       "    <tr>\n",
       "      <th>1168</th>\n",
       "      <td>Travel_Rarely</td>\n",
       "    </tr>\n",
       "    <tr>\n",
       "      <th>217</th>\n",
       "      <td>Travel_Rarely</td>\n",
       "    </tr>\n",
       "    <tr>\n",
       "      <th>1239</th>\n",
       "      <td>Travel_Rarely</td>\n",
       "    </tr>\n",
       "    <tr>\n",
       "      <th>666</th>\n",
       "      <td>Non-Travel</td>\n",
       "    </tr>\n",
       "  </tbody>\n",
       "</table>\n",
       "<p>1176 rows × 1 columns</p>\n",
       "</div>"
      ],
      "text/plain": [
       "                 travel\n",
       "1352  Travel_Frequently\n",
       "812       Travel_Rarely\n",
       "354       Travel_Rarely\n",
       "774       Travel_Rarely\n",
       "6            Non-Travel\n",
       "...                 ...\n",
       "531       Travel_Rarely\n",
       "1168      Travel_Rarely\n",
       "217       Travel_Rarely\n",
       "1239      Travel_Rarely\n",
       "666          Non-Travel\n",
       "\n",
       "[1176 rows x 1 columns]"
      ]
     },
     "execution_count": 10,
     "metadata": {},
     "output_type": "execute_result"
    }
   ],
   "source": [
    "pd.DataFrame(df.travel)"
   ]
  },
  {
   "cell_type": "markdown",
   "id": "22b5ee71",
   "metadata": {},
   "source": [
    "Как минимум, нужно исключить 'Travel_' из значений поля."
   ]
  },
  {
   "cell_type": "code",
   "execution_count": 11,
   "id": "19a04da4",
   "metadata": {},
   "outputs": [],
   "source": [
    "df.travel = [word[7:] if 'Travel_' in word else word for word in df.travel]\n",
    "df.travel = df.travel.astype('category')"
   ]
  },
  {
   "cell_type": "code",
   "execution_count": 12,
   "id": "02d08a2c",
   "metadata": {},
   "outputs": [
    {
     "data": {
      "text/html": [
       "<div>\n",
       "<style scoped>\n",
       "    .dataframe tbody tr th:only-of-type {\n",
       "        vertical-align: middle;\n",
       "    }\n",
       "\n",
       "    .dataframe tbody tr th {\n",
       "        vertical-align: top;\n",
       "    }\n",
       "\n",
       "    .dataframe thead th {\n",
       "        text-align: right;\n",
       "    }\n",
       "</style>\n",
       "<table border=\"1\" class=\"dataframe\">\n",
       "  <thead>\n",
       "    <tr style=\"text-align: right;\">\n",
       "      <th></th>\n",
       "      <th>Value in percentage</th>\n",
       "    </tr>\n",
       "  </thead>\n",
       "  <tbody>\n",
       "    <tr>\n",
       "      <th>Rarely</th>\n",
       "      <td>71.34%</td>\n",
       "    </tr>\n",
       "    <tr>\n",
       "      <th>Frequently</th>\n",
       "      <td>19.22%</td>\n",
       "    </tr>\n",
       "    <tr>\n",
       "      <th>Non-Travel</th>\n",
       "      <td>9.44%</td>\n",
       "    </tr>\n",
       "  </tbody>\n",
       "</table>\n",
       "</div>"
      ],
      "text/plain": [
       "           Value in percentage\n",
       "Rarely                  71.34%\n",
       "Frequently              19.22%\n",
       "Non-Travel               9.44%"
      ]
     },
     "metadata": {},
     "output_type": "display_data"
    }
   ],
   "source": [
    "stats = df.travel.value_counts().div(sum(df.travel.value_counts())) * 100\n",
    "display(pd.DataFrame(data = {'Value in percentage' :\n",
    "                     [''.join([str(round(value, 2)), '%']) for value in stats]},\n",
    "                    index = stats.index))"
   ]
  },
  {
   "cell_type": "code",
   "execution_count": 13,
   "id": "7600e6a9",
   "metadata": {},
   "outputs": [
    {
     "name": "stdout",
     "output_type": "stream",
     "text": [
      "Pivot table of Travel and Attrition\n"
     ]
    },
    {
     "data": {
      "text/html": [
       "<div>\n",
       "<style scoped>\n",
       "    .dataframe tbody tr th:only-of-type {\n",
       "        vertical-align: middle;\n",
       "    }\n",
       "\n",
       "    .dataframe tbody tr th {\n",
       "        vertical-align: top;\n",
       "    }\n",
       "\n",
       "    .dataframe thead th {\n",
       "        text-align: right;\n",
       "    }\n",
       "</style>\n",
       "<table border=\"1\" class=\"dataframe\">\n",
       "  <thead>\n",
       "    <tr style=\"text-align: right;\">\n",
       "      <th></th>\n",
       "      <th></th>\n",
       "      <th>value</th>\n",
       "      <th>value (%)</th>\n",
       "    </tr>\n",
       "    <tr>\n",
       "      <th>travel</th>\n",
       "      <th>target</th>\n",
       "      <th></th>\n",
       "      <th></th>\n",
       "    </tr>\n",
       "  </thead>\n",
       "  <tbody>\n",
       "    <tr>\n",
       "      <th rowspan=\"2\" valign=\"top\">Frequently</th>\n",
       "      <th>No</th>\n",
       "      <td>171</td>\n",
       "      <td>75.66</td>\n",
       "    </tr>\n",
       "    <tr>\n",
       "      <th>Yes</th>\n",
       "      <td>55</td>\n",
       "      <td>24.34</td>\n",
       "    </tr>\n",
       "    <tr>\n",
       "      <th rowspan=\"2\" valign=\"top\">Non-Travel</th>\n",
       "      <th>No</th>\n",
       "      <td>100</td>\n",
       "      <td>90.09</td>\n",
       "    </tr>\n",
       "    <tr>\n",
       "      <th>Yes</th>\n",
       "      <td>11</td>\n",
       "      <td>9.91</td>\n",
       "    </tr>\n",
       "    <tr>\n",
       "      <th rowspan=\"2\" valign=\"top\">Rarely</th>\n",
       "      <th>No</th>\n",
       "      <td>714</td>\n",
       "      <td>85.10</td>\n",
       "    </tr>\n",
       "    <tr>\n",
       "      <th>Yes</th>\n",
       "      <td>125</td>\n",
       "      <td>14.90</td>\n",
       "    </tr>\n",
       "  </tbody>\n",
       "</table>\n",
       "</div>"
      ],
      "text/plain": [
       "                   value  value (%)\n",
       "travel     target                  \n",
       "Frequently No        171      75.66\n",
       "           Yes        55      24.34\n",
       "Non-Travel No        100      90.09\n",
       "           Yes        11       9.91\n",
       "Rarely     No        714      85.10\n",
       "           Yes       125      14.90"
      ]
     },
     "metadata": {},
     "output_type": "display_data"
    }
   ],
   "source": [
    "stats_travel = df.groupby(['travel', 'target']).count().loc[:, 'age']\n",
    "stats_travel_df = round(pd.DataFrame(stats_travel / stats_travel.groupby(level=0).sum() * 100), 2)\n",
    "stats_travel_df.rename({'age':'value (%)'}, axis = 1, inplace = True)\n",
    "total_travel_df = pd.concat([pd.DataFrame(stats_travel), stats_travel_df], axis = 1)\n",
    "total_travel_df.rename({'age':'value'}, axis = 1, inplace = True)\n",
    "print('Pivot table of Travel and Attrition')\n",
    "display(total_travel_df)"
   ]
  },
  {
   "cell_type": "code",
   "execution_count": 14,
   "id": "0031af2d",
   "metadata": {},
   "outputs": [
    {
     "data": {
      "image/png": "[encoded data removed]",
      "text/plain": [
       "<Figure size 792x432 with 1 Axes>"
      ]
     },
     "metadata": {},
     "output_type": "display_data"
    }
   ],
   "source": [
    "stats_travel_df.plot(kind = 'bar', rot = 0)\n",
    "plt.title('Conditional disribution of Travel by Attrition (%)', size = 14);"
   ]
  },
  {
   "cell_type": "markdown",
   "id": "0c88df1f",
   "metadata": {},
   "source": [
    "Промежуточный вывод: командировки причиняют дискомфорт. Видимо не всем сотрудникам нравятся частые путешествия по работе."
   ]
  },
  {
   "cell_type": "markdown",
   "id": "56f0db50",
   "metadata": {},
   "source": [
    "### Daily rate"
   ]
  },
  {
   "cell_type": "code",
   "execution_count": 15,
   "id": "71d357ad",
   "metadata": {},
   "outputs": [
    {
     "data": {
      "image/png": "[encoded data removed]",
      "text/plain": [
       "<Figure size 792x432 with 1 Axes>"
      ]
     },
     "metadata": {},
     "output_type": "display_data"
    }
   ],
   "source": [
    "sns.histplot(data = df[['drate']], x = 'drate')\n",
    "plt.title('Disribution of DailyRate', size = 14);"
   ]
  },
  {
   "cell_type": "markdown",
   "id": "0e46d4b5",
   "metadata": {},
   "source": [
    "Похоже на достаточно равномерное распределение."
   ]
  },
  {
   "cell_type": "code",
   "execution_count": 16,
   "id": "b11d1e9e",
   "metadata": {},
   "outputs": [],
   "source": [
    "# df.drate = pd.qcut(df.drate, q = 4, labels = [0, 1, 2, 3]).astype('int')\n",
    "# df.drate.value_counts()"
   ]
  },
  {
   "cell_type": "markdown",
   "id": "d1062eb1",
   "metadata": {},
   "source": [
    "Есть некоторая проблема в том, что я не знаю логику, которая стоит за столбцами 'daily rate', 'hour rate' и 'month rate', а также связи между этими столбцами с полем 'monthly income'. Если под 'daily rate' понимается заработок за день, то как тогда соотносятся 'monthly rate' и 'monthly income'? Или 'daily rate' означает зарплату за одну дневную ставку? В действительности я бы обратился к знающим коллегам или к бизнес-пользователям бд, которые бы смогли мне объяснить логику этих полей в этой таблице, но поскольку я это сделать не могу в текущей ситуации, то тут есть два \"путя\":\n",
    "1. \"Дропнуть\" все эти столбцы\n",
    "2. Пройтись лассо-регрессией, оставив столбцы на месте. <br>\n",
    "\n",
    "В любом случае оставить все 3 столбца 'DailyRate', 'HourlyRate' и 'MonthlyRate' я не могу, потому что они должно быть линейно связаны (см. рисунки ниже - небольшая дисперсия у распределений, концентрация у определенных значений), и это может дать нам проблему 'near multicollinearity', из-за чего мы получим некорректные оценки коэффициентов.<br>\n",
    "\n",
    "**Поэтому 'hour rate' и 'monthly rate' будут убраны из датасета, при этом останется 'daily rate'.**"
   ]
  },
  {
   "cell_type": "code",
   "execution_count": 17,
   "id": "a47c5499",
   "metadata": {},
   "outputs": [
    {
     "data": {
      "image/png": "[encoded data removed]",
      "text/plain": [
       "<Figure size 792x432 with 1 Axes>"
      ]
     },
     "metadata": {},
     "output_type": "display_data"
    }
   ],
   "source": [
    "sns.histplot(data = (df.mrate/df.drate))\n",
    "plt.title('График, получившийся при делении \\'monthly rate\\' на \\'daily rate\\' ', size = 14);"
   ]
  },
  {
   "cell_type": "code",
   "execution_count": 18,
   "id": "1f7a860e",
   "metadata": {},
   "outputs": [
    {
     "data": {
      "image/png": "[encoded data removed]",
      "text/plain": [
       "<Figure size 792x432 with 1 Axes>"
      ]
     },
     "metadata": {},
     "output_type": "display_data"
    }
   ],
   "source": [
    "sns.histplot(data = (df.drate/df.hrate))\n",
    "plt.title('График, получившийся при делении \\'daily rate\\' на \\'hour rate\\' ', size = 14);"
   ]
  },
  {
   "cell_type": "code",
   "execution_count": 19,
   "id": "58759950",
   "metadata": {},
   "outputs": [],
   "source": [
    "df.drop(['hrate', 'mrate'], axis = 1, inplace = True)"
   ]
  },
  {
   "cell_type": "markdown",
   "id": "b3f8d6d8",
   "metadata": {},
   "source": [
    "### Department"
   ]
  },
  {
   "cell_type": "code",
   "execution_count": 20,
   "id": "1728d02a",
   "metadata": {},
   "outputs": [
    {
     "name": "stdout",
     "output_type": "stream",
     "text": [
      "Pivot table of Department and Attrition\n"
     ]
    },
    {
     "data": {
      "text/html": [
       "<div>\n",
       "<style scoped>\n",
       "    .dataframe tbody tr th:only-of-type {\n",
       "        vertical-align: middle;\n",
       "    }\n",
       "\n",
       "    .dataframe tbody tr th {\n",
       "        vertical-align: top;\n",
       "    }\n",
       "\n",
       "    .dataframe thead th {\n",
       "        text-align: right;\n",
       "    }\n",
       "</style>\n",
       "<table border=\"1\" class=\"dataframe\">\n",
       "  <thead>\n",
       "    <tr style=\"text-align: right;\">\n",
       "      <th></th>\n",
       "      <th></th>\n",
       "      <th>value</th>\n",
       "      <th>value (%)</th>\n",
       "    </tr>\n",
       "    <tr>\n",
       "      <th>department</th>\n",
       "      <th>target</th>\n",
       "      <th></th>\n",
       "      <th></th>\n",
       "    </tr>\n",
       "  </thead>\n",
       "  <tbody>\n",
       "    <tr>\n",
       "      <th rowspan=\"2\" valign=\"top\">Human Resources</th>\n",
       "      <th>No</th>\n",
       "      <td>45</td>\n",
       "      <td>81.82</td>\n",
       "    </tr>\n",
       "    <tr>\n",
       "      <th>Yes</th>\n",
       "      <td>10</td>\n",
       "      <td>18.18</td>\n",
       "    </tr>\n",
       "    <tr>\n",
       "      <th rowspan=\"2\" valign=\"top\">Research &amp; Development</th>\n",
       "      <th>No</th>\n",
       "      <td>657</td>\n",
       "      <td>85.88</td>\n",
       "    </tr>\n",
       "    <tr>\n",
       "      <th>Yes</th>\n",
       "      <td>108</td>\n",
       "      <td>14.12</td>\n",
       "    </tr>\n",
       "    <tr>\n",
       "      <th rowspan=\"2\" valign=\"top\">Sales</th>\n",
       "      <th>No</th>\n",
       "      <td>283</td>\n",
       "      <td>79.49</td>\n",
       "    </tr>\n",
       "    <tr>\n",
       "      <th>Yes</th>\n",
       "      <td>73</td>\n",
       "      <td>20.51</td>\n",
       "    </tr>\n",
       "  </tbody>\n",
       "</table>\n",
       "</div>"
      ],
      "text/plain": [
       "                               value  value (%)\n",
       "department             target                  \n",
       "Human Resources        No         45      81.82\n",
       "                       Yes        10      18.18\n",
       "Research & Development No        657      85.88\n",
       "                       Yes       108      14.12\n",
       "Sales                  No        283      79.49\n",
       "                       Yes        73      20.51"
      ]
     },
     "metadata": {},
     "output_type": "display_data"
    }
   ],
   "source": [
    "stats_dep = df.groupby(['department', 'target']).count().loc[:, 'age']\n",
    "stats_dep_df = round(pd.DataFrame(stats_dep / stats_dep.groupby(level=0).sum() * 100), 2)\n",
    "stats_dep_df.rename({'age':'value (%)'}, axis = 1, inplace = True)\n",
    "total_dep_df = pd.concat([pd.DataFrame(stats_dep), stats_dep_df], axis = 1)\n",
    "total_dep_df.rename({'age':'value'}, axis = 1, inplace = True)\n",
    "print('Pivot table of Department and Attrition')\n",
    "display(total_dep_df)"
   ]
  },
  {
   "cell_type": "code",
   "execution_count": 21,
   "id": "d169ca1b",
   "metadata": {
    "scrolled": false
   },
   "outputs": [
    {
     "data": {
      "image/png": "[encoded data removed]",
      "text/plain": [
       "<Figure size 792x432 with 1 Axes>"
      ]
     },
     "metadata": {},
     "output_type": "display_data"
    }
   ],
   "source": [
    "total_dep_df.drop('value', axis = 1).plot(kind = 'bar', rot = 30);\n",
    "plt.title('Conditional disribution of Department by Attrition (%)', size = 14);"
   ]
  },
  {
   "cell_type": "markdown",
   "id": "e81b6d3f",
   "metadata": {},
   "source": [
    "Мы видим разницу в 7 процентов выгоревших сотрудников у разных департаментов (R&D и Sales). Вообще говоря, 7% - это достаточно много, особенно когда речь идет о большой компании с сотнями сотрудников. Но на самом деле это достаточно отдаленное приближение, и лучше всего посмотреть по отделам, чем мы займемся далее."
   ]
  },
  {
   "cell_type": "markdown",
   "id": "542dcbe8",
   "metadata": {},
   "source": [
    "### Distance from home"
   ]
  },
  {
   "cell_type": "code",
   "execution_count": 22,
   "id": "7090ae0b",
   "metadata": {},
   "outputs": [
    {
     "data": {
      "image/png": "[encoded data removed]",
      "text/plain": [
       "<Figure size 792x432 with 1 Axes>"
      ]
     },
     "metadata": {},
     "output_type": "display_data"
    }
   ],
   "source": [
    "bins = [0, 2, 10, 29]\n",
    "for xc in bins:\n",
    "    plt.axvline(x=xc+0.5, color='k', linestyle='--')\n",
    "sns.histplot(data = df.dist, discrete = True)\n",
    "plt.title('Disribution of Distance', size = 14);"
   ]
  },
  {
   "cell_type": "markdown",
   "id": "63a6b3c7",
   "metadata": {},
   "source": [
    "Также, как и в случае с возрастом, разобьем весь интервал данных на \"близко\", \"средне\", \"далеко\", что, соответственно, будет (0,2], (2,10], (10, 29] или '1', '2', '3'."
   ]
  },
  {
   "cell_type": "code",
   "execution_count": 23,
   "id": "8b0eba97",
   "metadata": {},
   "outputs": [],
   "source": [
    "cats_dist, bins_dist = pd.cut(df.dist.values, bins = bins, \n",
    "                    labels = ['1', '2', '3'], retbins = True)\n",
    "df.dist = cats_dist"
   ]
  },
  {
   "cell_type": "code",
   "execution_count": 24,
   "id": "915f9b12",
   "metadata": {},
   "outputs": [
    {
     "name": "stdout",
     "output_type": "stream",
     "text": [
      "Pivot table of Department and Attrition\n"
     ]
    },
    {
     "data": {
      "text/html": [
       "<div>\n",
       "<style scoped>\n",
       "    .dataframe tbody tr th:only-of-type {\n",
       "        vertical-align: middle;\n",
       "    }\n",
       "\n",
       "    .dataframe tbody tr th {\n",
       "        vertical-align: top;\n",
       "    }\n",
       "\n",
       "    .dataframe thead th {\n",
       "        text-align: right;\n",
       "    }\n",
       "</style>\n",
       "<table border=\"1\" class=\"dataframe\">\n",
       "  <thead>\n",
       "    <tr style=\"text-align: right;\">\n",
       "      <th></th>\n",
       "      <th></th>\n",
       "      <th>value</th>\n",
       "      <th>value (%)</th>\n",
       "    </tr>\n",
       "    <tr>\n",
       "      <th>dist</th>\n",
       "      <th>target</th>\n",
       "      <th></th>\n",
       "      <th></th>\n",
       "    </tr>\n",
       "  </thead>\n",
       "  <tbody>\n",
       "    <tr>\n",
       "      <th rowspan=\"2\" valign=\"top\">1</th>\n",
       "      <th>No</th>\n",
       "      <td>292</td>\n",
       "      <td>86.65</td>\n",
       "    </tr>\n",
       "    <tr>\n",
       "      <th>Yes</th>\n",
       "      <td>45</td>\n",
       "      <td>13.35</td>\n",
       "    </tr>\n",
       "    <tr>\n",
       "      <th rowspan=\"2\" valign=\"top\">2</th>\n",
       "      <th>No</th>\n",
       "      <td>406</td>\n",
       "      <td>85.29</td>\n",
       "    </tr>\n",
       "    <tr>\n",
       "      <th>Yes</th>\n",
       "      <td>70</td>\n",
       "      <td>14.71</td>\n",
       "    </tr>\n",
       "    <tr>\n",
       "      <th rowspan=\"2\" valign=\"top\">3</th>\n",
       "      <th>No</th>\n",
       "      <td>287</td>\n",
       "      <td>79.06</td>\n",
       "    </tr>\n",
       "    <tr>\n",
       "      <th>Yes</th>\n",
       "      <td>76</td>\n",
       "      <td>20.94</td>\n",
       "    </tr>\n",
       "  </tbody>\n",
       "</table>\n",
       "</div>"
      ],
      "text/plain": [
       "             value  value (%)\n",
       "dist target                  \n",
       "1    No        292      86.65\n",
       "     Yes        45      13.35\n",
       "2    No        406      85.29\n",
       "     Yes        70      14.71\n",
       "3    No        287      79.06\n",
       "     Yes        76      20.94"
      ]
     },
     "metadata": {},
     "output_type": "display_data"
    }
   ],
   "source": [
    "stats_dist = df.groupby(['dist', 'target']).count().loc[:, 'age']\n",
    "stats_dist_df = round(pd.DataFrame(stats_dist / stats_dist.groupby(level=0).sum() * 100), 2)\n",
    "stats_dist_df.rename({'age':'value (%)'}, axis = 1, inplace = True)\n",
    "total_dist_df = pd.concat([pd.DataFrame(stats_dist), stats_dist_df], axis = 1)\n",
    "total_dist_df.rename({'age':'value'}, axis = 1, inplace = True)\n",
    "print('Pivot table of Department and Attrition')\n",
    "display(total_dist_df)"
   ]
  },
  {
   "cell_type": "markdown",
   "id": "42b65097",
   "metadata": {},
   "source": [
    "Из таблицы видно, что, чем дальше от дома живет сотрудник, тем заметнее ухудшение его морального состояния. Скорее всего это больше аффектит нижние грейды по типу стажеров, которые не могут позволить себе быть привередливыми в плане места работы, и, соответственно, могут ездить на работу по несколько часов. В действительности это вряд ли положительно влияет на их самочувствие."
   ]
  },
  {
   "cell_type": "markdown",
   "id": "a53ec0b7",
   "metadata": {},
   "source": [
    "### Education"
   ]
  },
  {
   "cell_type": "code",
   "execution_count": 25,
   "id": "1e0031f4",
   "metadata": {},
   "outputs": [
    {
     "data": {
      "image/png": "[encoded data removed]",
      "text/plain": [
       "<Figure size 792x432 with 1 Axes>"
      ]
     },
     "metadata": {},
     "output_type": "display_data"
    }
   ],
   "source": [
    "sns.histplot(data = df[['education']], x = 'education', discrete = True)\n",
    "plt.title('Disribution of Education degree', size = 14);"
   ]
  },
  {
   "cell_type": "code",
   "execution_count": 26,
   "id": "a42d18db",
   "metadata": {},
   "outputs": [
    {
     "name": "stdout",
     "output_type": "stream",
     "text": [
      "Pivot table of Department and Attrition\n"
     ]
    },
    {
     "data": {
      "text/html": [
       "<div>\n",
       "<style scoped>\n",
       "    .dataframe tbody tr th:only-of-type {\n",
       "        vertical-align: middle;\n",
       "    }\n",
       "\n",
       "    .dataframe tbody tr th {\n",
       "        vertical-align: top;\n",
       "    }\n",
       "\n",
       "    .dataframe thead th {\n",
       "        text-align: right;\n",
       "    }\n",
       "</style>\n",
       "<table border=\"1\" class=\"dataframe\">\n",
       "  <thead>\n",
       "    <tr style=\"text-align: right;\">\n",
       "      <th></th>\n",
       "      <th></th>\n",
       "      <th>value</th>\n",
       "      <th>value (%)</th>\n",
       "    </tr>\n",
       "    <tr>\n",
       "      <th>education</th>\n",
       "      <th>target</th>\n",
       "      <th></th>\n",
       "      <th></th>\n",
       "    </tr>\n",
       "  </thead>\n",
       "  <tbody>\n",
       "    <tr>\n",
       "      <th rowspan=\"2\" valign=\"top\">1</th>\n",
       "      <th>No</th>\n",
       "      <td>113</td>\n",
       "      <td>84.33</td>\n",
       "    </tr>\n",
       "    <tr>\n",
       "      <th>Yes</th>\n",
       "      <td>21</td>\n",
       "      <td>15.67</td>\n",
       "    </tr>\n",
       "    <tr>\n",
       "      <th rowspan=\"2\" valign=\"top\">2</th>\n",
       "      <th>No</th>\n",
       "      <td>194</td>\n",
       "      <td>83.98</td>\n",
       "    </tr>\n",
       "    <tr>\n",
       "      <th>Yes</th>\n",
       "      <td>37</td>\n",
       "      <td>16.02</td>\n",
       "    </tr>\n",
       "    <tr>\n",
       "      <th rowspan=\"2\" valign=\"top\">3</th>\n",
       "      <th>No</th>\n",
       "      <td>372</td>\n",
       "      <td>82.48</td>\n",
       "    </tr>\n",
       "    <tr>\n",
       "      <th>Yes</th>\n",
       "      <td>79</td>\n",
       "      <td>17.52</td>\n",
       "    </tr>\n",
       "    <tr>\n",
       "      <th rowspan=\"2\" valign=\"top\">4</th>\n",
       "      <th>No</th>\n",
       "      <td>270</td>\n",
       "      <td>84.64</td>\n",
       "    </tr>\n",
       "    <tr>\n",
       "      <th>Yes</th>\n",
       "      <td>49</td>\n",
       "      <td>15.36</td>\n",
       "    </tr>\n",
       "    <tr>\n",
       "      <th rowspan=\"2\" valign=\"top\">5</th>\n",
       "      <th>No</th>\n",
       "      <td>36</td>\n",
       "      <td>87.80</td>\n",
       "    </tr>\n",
       "    <tr>\n",
       "      <th>Yes</th>\n",
       "      <td>5</td>\n",
       "      <td>12.20</td>\n",
       "    </tr>\n",
       "  </tbody>\n",
       "</table>\n",
       "</div>"
      ],
      "text/plain": [
       "                  value  value (%)\n",
       "education target                  \n",
       "1         No        113      84.33\n",
       "          Yes        21      15.67\n",
       "2         No        194      83.98\n",
       "          Yes        37      16.02\n",
       "3         No        372      82.48\n",
       "          Yes        79      17.52\n",
       "4         No        270      84.64\n",
       "          Yes        49      15.36\n",
       "5         No         36      87.80\n",
       "          Yes         5      12.20"
      ]
     },
     "metadata": {},
     "output_type": "display_data"
    }
   ],
   "source": [
    "stats_education = df.groupby(['education', 'target']).count().loc[:, 'age']\n",
    "stats_education_df = round(pd.DataFrame(stats_education / stats_education.groupby(level=0).sum() * 100), 2)\n",
    "stats_education_df.rename({'age':'value (%)'}, axis = 1, inplace = True)\n",
    "total_education_df = pd.concat([pd.DataFrame(stats_education), stats_education_df], axis = 1)\n",
    "total_education_df.rename({'age':'value'}, axis = 1, inplace = True)\n",
    "print('Pivot table of Department and Attrition')\n",
    "display(total_education_df)"
   ]
  },
  {
   "cell_type": "code",
   "execution_count": 27,
   "id": "1e383bde",
   "metadata": {},
   "outputs": [
    {
     "data": {
      "image/png": "[encoded data removed]",
      "text/plain": [
       "<Figure size 792x432 with 1 Axes>"
      ]
     },
     "metadata": {},
     "output_type": "display_data"
    }
   ],
   "source": [
    "total_education_df.drop('value', axis = 1).plot(kind = 'bar', rot = 0)\n",
    "plt.title('Conditional disribution of Education by Attrition (%)', size = 14);"
   ]
  },
  {
   "cell_type": "markdown",
   "id": "36d43060",
   "metadata": {},
   "source": [
    "Переменная Education должна влиять на переменную Attrition только косвенно. Да, по идее, кандидаты и доктора наук должны работать в более благоприятных условиях, чем стажеры и джуниоры, но из рисунка и таблицы выше можно заметить, что существенной разницы между людьми с разными уровнями образования нет (хотя стоит заметить, что бакалавры (группа 3) чаще выгорают, чем остальные - скорее всего это связано с совмещением учебы и трудностями молодой жизни). При этом данный столбец явно будет коррелировать со столбцом Age. Я подумал, что будет лучше в таком случае **столбец Education убрать**.\n",
    "\n",
    "(очень спорный момент, и, конечно, может подлежать дискуссии)"
   ]
  },
  {
   "cell_type": "code",
   "execution_count": 28,
   "id": "b89daad2",
   "metadata": {},
   "outputs": [],
   "source": [
    "df.drop('education', axis = 1, inplace = True)"
   ]
  },
  {
   "cell_type": "markdown",
   "id": "72959fb3",
   "metadata": {},
   "source": [
    "### Education field"
   ]
  },
  {
   "cell_type": "code",
   "execution_count": 29,
   "id": "be7f1ed0",
   "metadata": {},
   "outputs": [
    {
     "data": {
      "image/png": "[encoded data removed]",
      "text/plain": [
       "<Figure size 792x432 with 1 Axes>"
      ]
     },
     "metadata": {},
     "output_type": "display_data"
    }
   ],
   "source": [
    "sns.histplot(data = df[['field']], x = 'field', discrete = True)\n",
    "plt.title('Disribution of Education field', size = 14);"
   ]
  },
  {
   "cell_type": "code",
   "execution_count": 30,
   "id": "d19d22b0",
   "metadata": {},
   "outputs": [
    {
     "name": "stdout",
     "output_type": "stream",
     "text": [
      "Pivot table of Department and Attrition\n"
     ]
    },
    {
     "data": {
      "text/html": [
       "<div>\n",
       "<style scoped>\n",
       "    .dataframe tbody tr th:only-of-type {\n",
       "        vertical-align: middle;\n",
       "    }\n",
       "\n",
       "    .dataframe tbody tr th {\n",
       "        vertical-align: top;\n",
       "    }\n",
       "\n",
       "    .dataframe thead th {\n",
       "        text-align: right;\n",
       "    }\n",
       "</style>\n",
       "<table border=\"1\" class=\"dataframe\">\n",
       "  <thead>\n",
       "    <tr style=\"text-align: right;\">\n",
       "      <th></th>\n",
       "      <th></th>\n",
       "      <th>value</th>\n",
       "      <th>value (%)</th>\n",
       "    </tr>\n",
       "    <tr>\n",
       "      <th>field</th>\n",
       "      <th>target</th>\n",
       "      <th></th>\n",
       "      <th></th>\n",
       "    </tr>\n",
       "  </thead>\n",
       "  <tbody>\n",
       "    <tr>\n",
       "      <th rowspan=\"2\" valign=\"top\">Human Resources</th>\n",
       "      <th>No</th>\n",
       "      <td>17</td>\n",
       "      <td>77.27</td>\n",
       "    </tr>\n",
       "    <tr>\n",
       "      <th>Yes</th>\n",
       "      <td>5</td>\n",
       "      <td>22.73</td>\n",
       "    </tr>\n",
       "    <tr>\n",
       "      <th rowspan=\"2\" valign=\"top\">Life Sciences</th>\n",
       "      <th>No</th>\n",
       "      <td>426</td>\n",
       "      <td>85.37</td>\n",
       "    </tr>\n",
       "    <tr>\n",
       "      <th>Yes</th>\n",
       "      <td>73</td>\n",
       "      <td>14.63</td>\n",
       "    </tr>\n",
       "    <tr>\n",
       "      <th rowspan=\"2\" valign=\"top\">Marketing</th>\n",
       "      <th>No</th>\n",
       "      <td>101</td>\n",
       "      <td>78.29</td>\n",
       "    </tr>\n",
       "    <tr>\n",
       "      <th>Yes</th>\n",
       "      <td>28</td>\n",
       "      <td>21.71</td>\n",
       "    </tr>\n",
       "    <tr>\n",
       "      <th rowspan=\"2\" valign=\"top\">Medical</th>\n",
       "      <th>No</th>\n",
       "      <td>306</td>\n",
       "      <td>85.00</td>\n",
       "    </tr>\n",
       "    <tr>\n",
       "      <th>Yes</th>\n",
       "      <td>54</td>\n",
       "      <td>15.00</td>\n",
       "    </tr>\n",
       "    <tr>\n",
       "      <th rowspan=\"2\" valign=\"top\">Other</th>\n",
       "      <th>No</th>\n",
       "      <td>56</td>\n",
       "      <td>86.15</td>\n",
       "    </tr>\n",
       "    <tr>\n",
       "      <th>Yes</th>\n",
       "      <td>9</td>\n",
       "      <td>13.85</td>\n",
       "    </tr>\n",
       "    <tr>\n",
       "      <th rowspan=\"2\" valign=\"top\">Technical Degree</th>\n",
       "      <th>No</th>\n",
       "      <td>79</td>\n",
       "      <td>78.22</td>\n",
       "    </tr>\n",
       "    <tr>\n",
       "      <th>Yes</th>\n",
       "      <td>22</td>\n",
       "      <td>21.78</td>\n",
       "    </tr>\n",
       "  </tbody>\n",
       "</table>\n",
       "</div>"
      ],
      "text/plain": [
       "                         value  value (%)\n",
       "field            target                  \n",
       "Human Resources  No         17      77.27\n",
       "                 Yes         5      22.73\n",
       "Life Sciences    No        426      85.37\n",
       "                 Yes        73      14.63\n",
       "Marketing        No        101      78.29\n",
       "                 Yes        28      21.71\n",
       "Medical          No        306      85.00\n",
       "                 Yes        54      15.00\n",
       "Other            No         56      86.15\n",
       "                 Yes         9      13.85\n",
       "Technical Degree No         79      78.22\n",
       "                 Yes        22      21.78"
      ]
     },
     "metadata": {},
     "output_type": "display_data"
    }
   ],
   "source": [
    "stats_field = df.groupby(['field', 'target']).count().loc[:, 'age']\n",
    "stats_field_df = round(pd.DataFrame(stats_field / stats_field.groupby(level=0).sum() * 100), 2)\n",
    "stats_field_df.rename({'age':'value (%)'}, axis = 1, inplace = True)\n",
    "total_field_df = pd.concat([pd.DataFrame(stats_field), stats_field_df], axis = 1)\n",
    "total_field_df.rename({'age':'value'}, axis = 1, inplace = True)\n",
    "print('Pivot table of Department and Attrition')\n",
    "display(total_field_df)"
   ]
  },
  {
   "cell_type": "code",
   "execution_count": 31,
   "id": "bf1a9568",
   "metadata": {},
   "outputs": [
    {
     "data": {
      "image/png": "[encoded data removed]",
      "text/plain": [
       "<Figure size 792x432 with 1 Axes>"
      ]
     },
     "metadata": {},
     "output_type": "display_data"
    }
   ],
   "source": [
    "total_field_df.drop('value', axis = 1).plot(kind = 'bar', rot = 30);\n",
    "plt.title('Conditional disribution of Education field by Attrition (%)', size = 14);"
   ]
  },
  {
   "cell_type": "markdown",
   "id": "9e0e6caf",
   "metadata": {},
   "source": [
    "Понятно, что внутри департамента R&D существует много отделов (Technical Degree, Medical, etc.). Из графика и таблицы выше, можно заметить, что у отдела технической специальности заметно больше истощенных людей, в то время как у \"медиков\" в этом плане дела лучше (на 11%) (не говорим про Human Resources, потому что данных мало, но проблема по цифрам хуже всего именно там). Возможно данную информацию можно было бы использовать для того, чтобы (об этом пишут братья Хизы в своей книге \"Ловушки мышления\") высший менеджмент мог поговорить с руководителями отделов, которые успешно справляются с данной проблемой, на эту тему и вычленить необходимую для компании информацию."
   ]
  },
  {
   "cell_type": "markdown",
   "id": "4dcc6621",
   "metadata": {},
   "source": [
    "### Employee number\n",
    "Уникальный номер каждого сотрудника, не нужен для анализа."
   ]
  },
  {
   "cell_type": "code",
   "execution_count": 32,
   "id": "ba57d53c",
   "metadata": {},
   "outputs": [],
   "source": [
    "df.drop('id', axis = 1, inplace = True)"
   ]
  },
  {
   "cell_type": "markdown",
   "id": "98cabdcd",
   "metadata": {},
   "source": [
    "### Environment satisfaction"
   ]
  },
  {
   "cell_type": "code",
   "execution_count": 33,
   "id": "5a4b2389",
   "metadata": {},
   "outputs": [
    {
     "data": {
      "image/png": "[encoded data removed]",
      "text/plain": [
       "<Figure size 792x432 with 1 Axes>"
      ]
     },
     "metadata": {},
     "output_type": "display_data"
    }
   ],
   "source": [
    "df.envsat.value_counts().sort_index().plot(kind = 'bar', rot = 0);\n",
    "plt.title('Disribution of Environment satisfaction', size = 14);"
   ]
  },
  {
   "cell_type": "code",
   "execution_count": 34,
   "id": "d7943807",
   "metadata": {},
   "outputs": [
    {
     "name": "stdout",
     "output_type": "stream",
     "text": [
      "Pivot table of Environment satisfaction and Attrition\n"
     ]
    },
    {
     "data": {
      "text/html": [
       "<div>\n",
       "<style scoped>\n",
       "    .dataframe tbody tr th:only-of-type {\n",
       "        vertical-align: middle;\n",
       "    }\n",
       "\n",
       "    .dataframe tbody tr th {\n",
       "        vertical-align: top;\n",
       "    }\n",
       "\n",
       "    .dataframe thead th {\n",
       "        text-align: right;\n",
       "    }\n",
       "</style>\n",
       "<table border=\"1\" class=\"dataframe\">\n",
       "  <thead>\n",
       "    <tr style=\"text-align: right;\">\n",
       "      <th></th>\n",
       "      <th></th>\n",
       "      <th>value</th>\n",
       "      <th>value (%)</th>\n",
       "    </tr>\n",
       "    <tr>\n",
       "      <th>envsat</th>\n",
       "      <th>target</th>\n",
       "      <th></th>\n",
       "      <th></th>\n",
       "    </tr>\n",
       "  </thead>\n",
       "  <tbody>\n",
       "    <tr>\n",
       "      <th rowspan=\"2\" valign=\"top\">1</th>\n",
       "      <th>No</th>\n",
       "      <td>169</td>\n",
       "      <td>74.45</td>\n",
       "    </tr>\n",
       "    <tr>\n",
       "      <th>Yes</th>\n",
       "      <td>58</td>\n",
       "      <td>25.55</td>\n",
       "    </tr>\n",
       "    <tr>\n",
       "      <th rowspan=\"2\" valign=\"top\">2</th>\n",
       "      <th>No</th>\n",
       "      <td>197</td>\n",
       "      <td>84.55</td>\n",
       "    </tr>\n",
       "    <tr>\n",
       "      <th>Yes</th>\n",
       "      <td>36</td>\n",
       "      <td>15.45</td>\n",
       "    </tr>\n",
       "    <tr>\n",
       "      <th rowspan=\"2\" valign=\"top\">3</th>\n",
       "      <th>No</th>\n",
       "      <td>319</td>\n",
       "      <td>86.68</td>\n",
       "    </tr>\n",
       "    <tr>\n",
       "      <th>Yes</th>\n",
       "      <td>49</td>\n",
       "      <td>13.32</td>\n",
       "    </tr>\n",
       "    <tr>\n",
       "      <th rowspan=\"2\" valign=\"top\">4</th>\n",
       "      <th>No</th>\n",
       "      <td>300</td>\n",
       "      <td>86.21</td>\n",
       "    </tr>\n",
       "    <tr>\n",
       "      <th>Yes</th>\n",
       "      <td>48</td>\n",
       "      <td>13.79</td>\n",
       "    </tr>\n",
       "  </tbody>\n",
       "</table>\n",
       "</div>"
      ],
      "text/plain": [
       "               value  value (%)\n",
       "envsat target                  \n",
       "1      No        169      74.45\n",
       "       Yes        58      25.55\n",
       "2      No        197      84.55\n",
       "       Yes        36      15.45\n",
       "3      No        319      86.68\n",
       "       Yes        49      13.32\n",
       "4      No        300      86.21\n",
       "       Yes        48      13.79"
      ]
     },
     "metadata": {},
     "output_type": "display_data"
    }
   ],
   "source": [
    "stats_envsat = df.groupby(['envsat', 'target']).count().loc[:, 'travel']\n",
    "stats_envsat_df = round(pd.DataFrame(stats_envsat / stats_envsat.groupby(level=0).sum() * 100), 2)\n",
    "stats_envsat_df.rename({'travel':'value (%)'}, axis = 1, inplace = True)\n",
    "total_envsat_df = pd.concat([pd.DataFrame(stats_envsat), stats_envsat_df], axis = 1)\n",
    "total_envsat_df.rename({'travel':'value'}, axis = 1, inplace = True)\n",
    "print('Pivot table of Environment satisfaction and Attrition')\n",
    "display(total_envsat_df)"
   ]
  },
  {
   "cell_type": "code",
   "execution_count": 35,
   "id": "f696e20c",
   "metadata": {},
   "outputs": [
    {
     "data": {
      "image/png": "[encoded data removed]",
      "text/plain": [
       "<Figure size 792x432 with 1 Axes>"
      ]
     },
     "metadata": {},
     "output_type": "display_data"
    }
   ],
   "source": [
    "total_envsat_df.drop('value', axis = 1).plot(kind = 'bar', rot = 0);\n",
    "plt.title('Conditional disribution of Environment satisfaction by Attrition (%)', size = 14);"
   ]
  },
  {
   "cell_type": "markdown",
   "id": "554d8f9c",
   "metadata": {},
   "source": [
    "Что интересно:\n",
    "* Исходя из первой картинки количество людей, которым условия окружающей среды \"не понравились совсем\" (назовем их 1 или \"единичками\"), примерно равно количеству человек, которым окружающая среда \"скорее не понравилась\" (двойки). Аналогично с тройками и четверками. Видимо у компании есть разные филиалы (возможно, что 2), и у одного из них окружающая среда существенно лучше, чем у другого.\n",
    "* Даже если не учитывать это предположение: единички, будучи чувствительными к окружающей среде (как правило, те, кто реагируют крайними оценками, более чувствительны к объекту вопроса), больше других выгорают на работе в относительной оценке (25% против ~14% у всех остальных групп). Возможно, компании стоит подумать на этот счет. Например, улучшить экологическую обстановку своими силами или готовить кандидатов заранее к таким моментам)) \n",
    "* Остальные же работники относятся к окружающей среде одинаковыым образом, то есть переменная на них не влияет.\n",
    "\n",
    "Поскольку относительно выгорания на работе двойки, тройки и четверки равнодушны, есть смысл объединить их в одну группу."
   ]
  },
  {
   "cell_type": "code",
   "execution_count": 36,
   "id": "affb86f0",
   "metadata": {},
   "outputs": [],
   "source": [
    "df.envsat[df.envsat == 1] = 0\n",
    "df.envsat[[any([value == 2, value == 3, value == 4]) for value in df.envsat]] = 1\n",
    "df.envsat = df.envsat.astype('category')"
   ]
  },
  {
   "cell_type": "markdown",
   "id": "b192c3ca",
   "metadata": {},
   "source": [
    "### Gender"
   ]
  },
  {
   "cell_type": "code",
   "execution_count": 37,
   "id": "903e168b",
   "metadata": {},
   "outputs": [
    {
     "data": {
      "image/png": "[encoded data removed]",
      "text/plain": [
       "<Figure size 792x432 with 1 Axes>"
      ]
     },
     "metadata": {},
     "output_type": "display_data"
    }
   ],
   "source": [
    "df.gender.value_counts().plot(kind = 'bar', rot = 0)\n",
    "plt.title('Disribution of Gender', size = 14);"
   ]
  },
  {
   "cell_type": "code",
   "execution_count": 38,
   "id": "3336acc9",
   "metadata": {},
   "outputs": [
    {
     "name": "stdout",
     "output_type": "stream",
     "text": [
      "Pivot table of Gender and Attrition\n"
     ]
    },
    {
     "data": {
      "text/html": [
       "<div>\n",
       "<style scoped>\n",
       "    .dataframe tbody tr th:only-of-type {\n",
       "        vertical-align: middle;\n",
       "    }\n",
       "\n",
       "    .dataframe tbody tr th {\n",
       "        vertical-align: top;\n",
       "    }\n",
       "\n",
       "    .dataframe thead th {\n",
       "        text-align: right;\n",
       "    }\n",
       "</style>\n",
       "<table border=\"1\" class=\"dataframe\">\n",
       "  <thead>\n",
       "    <tr style=\"text-align: right;\">\n",
       "      <th></th>\n",
       "      <th></th>\n",
       "      <th>value</th>\n",
       "      <th>value (%)</th>\n",
       "    </tr>\n",
       "    <tr>\n",
       "      <th>gender</th>\n",
       "      <th>target</th>\n",
       "      <th></th>\n",
       "      <th></th>\n",
       "    </tr>\n",
       "  </thead>\n",
       "  <tbody>\n",
       "    <tr>\n",
       "      <th rowspan=\"2\" valign=\"top\">Female</th>\n",
       "      <th>No</th>\n",
       "      <td>400</td>\n",
       "      <td>85.29</td>\n",
       "    </tr>\n",
       "    <tr>\n",
       "      <th>Yes</th>\n",
       "      <td>69</td>\n",
       "      <td>14.71</td>\n",
       "    </tr>\n",
       "    <tr>\n",
       "      <th rowspan=\"2\" valign=\"top\">Male</th>\n",
       "      <th>No</th>\n",
       "      <td>585</td>\n",
       "      <td>82.74</td>\n",
       "    </tr>\n",
       "    <tr>\n",
       "      <th>Yes</th>\n",
       "      <td>122</td>\n",
       "      <td>17.26</td>\n",
       "    </tr>\n",
       "  </tbody>\n",
       "</table>\n",
       "</div>"
      ],
      "text/plain": [
       "               value  value (%)\n",
       "gender target                  \n",
       "Female No        400      85.29\n",
       "       Yes        69      14.71\n",
       "Male   No        585      82.74\n",
       "       Yes       122      17.26"
      ]
     },
     "metadata": {},
     "output_type": "display_data"
    }
   ],
   "source": [
    "stats_gender = df.groupby(['gender', 'target']).count().loc[:, 'travel']\n",
    "stats_gender_df = round(pd.DataFrame(stats_gender / stats_gender.groupby(level=0).sum() * 100), 2)\n",
    "stats_gender_df.rename({'travel':'value (%)'}, axis = 1, inplace = True)\n",
    "total_gender_df = pd.concat([pd.DataFrame(stats_gender), stats_gender_df], axis = 1)\n",
    "total_gender_df.rename({'travel':'value'}, axis = 1, inplace = True)\n",
    "print('Pivot table of Gender and Attrition')\n",
    "display(total_gender_df)"
   ]
  },
  {
   "cell_type": "markdown",
   "id": "41aaeeff",
   "metadata": {},
   "source": [
    "В общем и целом, что мужчины, что женщины примерно одинаково морально устойчивы (судя по таблице выше), поэтому пользы в себе этот столбец не несет.\n",
    "\n",
    "(опять же спорный момент, как и с education)"
   ]
  },
  {
   "cell_type": "code",
   "execution_count": 39,
   "id": "e0407762",
   "metadata": {},
   "outputs": [],
   "source": [
    "df.drop('gender', axis = 1, inplace=True)"
   ]
  },
  {
   "cell_type": "markdown",
   "id": "db1b6f03",
   "metadata": {},
   "source": [
    "### Job involvement"
   ]
  },
  {
   "cell_type": "code",
   "execution_count": 40,
   "id": "33aa4be2",
   "metadata": {},
   "outputs": [
    {
     "data": {
      "image/png": "[encoded data removed]",
      "text/plain": [
       "<Figure size 792x432 with 1 Axes>"
      ]
     },
     "metadata": {},
     "output_type": "display_data"
    }
   ],
   "source": [
    "df.involve.value_counts().sort_index().plot(kind = 'bar', rot = 0)\n",
    "plt.title('Disribution of Job involvement', size = 14);"
   ]
  },
  {
   "cell_type": "code",
   "execution_count": 41,
   "id": "2be4c061",
   "metadata": {},
   "outputs": [
    {
     "name": "stdout",
     "output_type": "stream",
     "text": [
      "Pivot table of Job involvement and Attrition\n"
     ]
    },
    {
     "data": {
      "text/html": [
       "<div>\n",
       "<style scoped>\n",
       "    .dataframe tbody tr th:only-of-type {\n",
       "        vertical-align: middle;\n",
       "    }\n",
       "\n",
       "    .dataframe tbody tr th {\n",
       "        vertical-align: top;\n",
       "    }\n",
       "\n",
       "    .dataframe thead th {\n",
       "        text-align: right;\n",
       "    }\n",
       "</style>\n",
       "<table border=\"1\" class=\"dataframe\">\n",
       "  <thead>\n",
       "    <tr style=\"text-align: right;\">\n",
       "      <th></th>\n",
       "      <th></th>\n",
       "      <th>value</th>\n",
       "      <th>value (%)</th>\n",
       "    </tr>\n",
       "    <tr>\n",
       "      <th>involve</th>\n",
       "      <th>target</th>\n",
       "      <th></th>\n",
       "      <th></th>\n",
       "    </tr>\n",
       "  </thead>\n",
       "  <tbody>\n",
       "    <tr>\n",
       "      <th rowspan=\"2\" valign=\"top\">1</th>\n",
       "      <th>No</th>\n",
       "      <td>43</td>\n",
       "      <td>65.15</td>\n",
       "    </tr>\n",
       "    <tr>\n",
       "      <th>Yes</th>\n",
       "      <td>23</td>\n",
       "      <td>34.85</td>\n",
       "    </tr>\n",
       "    <tr>\n",
       "      <th rowspan=\"2\" valign=\"top\">2</th>\n",
       "      <th>No</th>\n",
       "      <td>246</td>\n",
       "      <td>80.92</td>\n",
       "    </tr>\n",
       "    <tr>\n",
       "      <th>Yes</th>\n",
       "      <td>58</td>\n",
       "      <td>19.08</td>\n",
       "    </tr>\n",
       "    <tr>\n",
       "      <th rowspan=\"2\" valign=\"top\">3</th>\n",
       "      <th>No</th>\n",
       "      <td>594</td>\n",
       "      <td>85.34</td>\n",
       "    </tr>\n",
       "    <tr>\n",
       "      <th>Yes</th>\n",
       "      <td>102</td>\n",
       "      <td>14.66</td>\n",
       "    </tr>\n",
       "    <tr>\n",
       "      <th rowspan=\"2\" valign=\"top\">4</th>\n",
       "      <th>No</th>\n",
       "      <td>102</td>\n",
       "      <td>92.73</td>\n",
       "    </tr>\n",
       "    <tr>\n",
       "      <th>Yes</th>\n",
       "      <td>8</td>\n",
       "      <td>7.27</td>\n",
       "    </tr>\n",
       "  </tbody>\n",
       "</table>\n",
       "</div>"
      ],
      "text/plain": [
       "                value  value (%)\n",
       "involve target                  \n",
       "1       No         43      65.15\n",
       "        Yes        23      34.85\n",
       "2       No        246      80.92\n",
       "        Yes        58      19.08\n",
       "3       No        594      85.34\n",
       "        Yes       102      14.66\n",
       "4       No        102      92.73\n",
       "        Yes         8       7.27"
      ]
     },
     "metadata": {},
     "output_type": "display_data"
    }
   ],
   "source": [
    "stats_involve = df.groupby(['involve', 'target']).count().loc[:, 'travel']\n",
    "stats_involve_df = round(pd.DataFrame(stats_involve / stats_involve.groupby(level=0).sum() * 100), 2)\n",
    "stats_involve_df.rename({'travel':'value (%)'}, axis = 1, inplace = True)\n",
    "total_involve_df = pd.concat([pd.DataFrame(stats_involve), stats_involve_df], axis = 1)\n",
    "total_involve_df.rename({'travel':'value'}, axis = 1, inplace = True)\n",
    "print('Pivot table of Job involvement and Attrition')\n",
    "display(total_involve_df)"
   ]
  },
  {
   "cell_type": "code",
   "execution_count": 42,
   "id": "c37e6a4c",
   "metadata": {},
   "outputs": [
    {
     "data": {
      "image/png": "[encoded data removed]",
      "text/plain": [
       "<Figure size 792x432 with 1 Axes>"
      ]
     },
     "metadata": {},
     "output_type": "display_data"
    }
   ],
   "source": [
    "total_involve_df.drop('value', axis = 1).plot(kind = 'bar', rot = 0)\n",
    "plt.title('Conditional disribution of Job involvement by Attrition (%)', size = 14);"
   ]
  },
  {
   "cell_type": "markdown",
   "id": "e5b7f177",
   "metadata": {},
   "source": [
    "Логика совпадает с цифрами: чем больше вовлеченность, тем меньше шанс выгорания. В таком случае возможно HR отделу помимо мониторинга существующих людей стоит в процессе найма отдельно разговаривать с кандидатом касательно того, что ему интересно в работе и для чего он устраивается на данную позицию. Предположительно более тщательный отбор поможет изменить количество невовлеченных сотрудников в меньшую сторону (что уже хорошо), а, соответственно, и процент истощенных работой."
   ]
  },
  {
   "cell_type": "markdown",
   "id": "143bc6fd",
   "metadata": {},
   "source": [
    "### Job level"
   ]
  },
  {
   "cell_type": "code",
   "execution_count": 43,
   "id": "ccddf51d",
   "metadata": {},
   "outputs": [
    {
     "data": {
      "text/html": [
       "<div>\n",
       "<style scoped>\n",
       "    .dataframe tbody tr th:only-of-type {\n",
       "        vertical-align: middle;\n",
       "    }\n",
       "\n",
       "    .dataframe tbody tr th {\n",
       "        vertical-align: top;\n",
       "    }\n",
       "\n",
       "    .dataframe thead th {\n",
       "        text-align: right;\n",
       "    }\n",
       "</style>\n",
       "<table border=\"1\" class=\"dataframe\">\n",
       "  <thead>\n",
       "    <tr style=\"text-align: right;\">\n",
       "      <th></th>\n",
       "      <th>level</th>\n",
       "    </tr>\n",
       "  </thead>\n",
       "  <tbody>\n",
       "    <tr>\n",
       "      <th>2</th>\n",
       "      <td>440</td>\n",
       "    </tr>\n",
       "    <tr>\n",
       "      <th>1</th>\n",
       "      <td>427</td>\n",
       "    </tr>\n",
       "    <tr>\n",
       "      <th>3</th>\n",
       "      <td>173</td>\n",
       "    </tr>\n",
       "    <tr>\n",
       "      <th>4</th>\n",
       "      <td>87</td>\n",
       "    </tr>\n",
       "    <tr>\n",
       "      <th>5</th>\n",
       "      <td>49</td>\n",
       "    </tr>\n",
       "  </tbody>\n",
       "</table>\n",
       "</div>"
      ],
      "text/plain": [
       "   level\n",
       "2    440\n",
       "1    427\n",
       "3    173\n",
       "4     87\n",
       "5     49"
      ]
     },
     "execution_count": 43,
     "metadata": {},
     "output_type": "execute_result"
    }
   ],
   "source": [
    "pd.DataFrame(df.level.value_counts())"
   ]
  },
  {
   "cell_type": "markdown",
   "id": "491ad899",
   "metadata": {},
   "source": [
    "Я так понимаю, это про иерархическую стурктуру внутри компании: начиная с офисных клерков, заканчивая топ-менеджментом (картинка ниже это подтверждает)."
   ]
  },
  {
   "cell_type": "code",
   "execution_count": 44,
   "id": "06c1c011",
   "metadata": {},
   "outputs": [
    {
     "data": {
      "image/png": "[encoded data removed]",
      "text/plain": [
       "<Figure size 792x432 with 1 Axes>"
      ]
     },
     "metadata": {},
     "output_type": "display_data"
    }
   ],
   "source": [
    "df.level.value_counts().plot(kind = 'bar', rot=0);\n",
    "plt.title('Distribution of job levels in company', size = 14);"
   ]
  },
  {
   "cell_type": "code",
   "execution_count": 45,
   "id": "fd6df0b2",
   "metadata": {},
   "outputs": [
    {
     "name": "stdout",
     "output_type": "stream",
     "text": [
      "Pivot table of Job level and Attrition\n"
     ]
    },
    {
     "data": {
      "text/html": [
       "<div>\n",
       "<style scoped>\n",
       "    .dataframe tbody tr th:only-of-type {\n",
       "        vertical-align: middle;\n",
       "    }\n",
       "\n",
       "    .dataframe tbody tr th {\n",
       "        vertical-align: top;\n",
       "    }\n",
       "\n",
       "    .dataframe thead th {\n",
       "        text-align: right;\n",
       "    }\n",
       "</style>\n",
       "<table border=\"1\" class=\"dataframe\">\n",
       "  <thead>\n",
       "    <tr style=\"text-align: right;\">\n",
       "      <th></th>\n",
       "      <th></th>\n",
       "      <th>value</th>\n",
       "      <th>value (%)</th>\n",
       "    </tr>\n",
       "    <tr>\n",
       "      <th>level</th>\n",
       "      <th>target</th>\n",
       "      <th></th>\n",
       "      <th></th>\n",
       "    </tr>\n",
       "  </thead>\n",
       "  <tbody>\n",
       "    <tr>\n",
       "      <th rowspan=\"2\" valign=\"top\">1</th>\n",
       "      <th>No</th>\n",
       "      <td>317</td>\n",
       "      <td>74.24</td>\n",
       "    </tr>\n",
       "    <tr>\n",
       "      <th>Yes</th>\n",
       "      <td>110</td>\n",
       "      <td>25.76</td>\n",
       "    </tr>\n",
       "    <tr>\n",
       "      <th rowspan=\"2\" valign=\"top\">2</th>\n",
       "      <th>No</th>\n",
       "      <td>396</td>\n",
       "      <td>90.00</td>\n",
       "    </tr>\n",
       "    <tr>\n",
       "      <th>Yes</th>\n",
       "      <td>44</td>\n",
       "      <td>10.00</td>\n",
       "    </tr>\n",
       "    <tr>\n",
       "      <th rowspan=\"2\" valign=\"top\">3</th>\n",
       "      <th>No</th>\n",
       "      <td>144</td>\n",
       "      <td>83.24</td>\n",
       "    </tr>\n",
       "    <tr>\n",
       "      <th>Yes</th>\n",
       "      <td>29</td>\n",
       "      <td>16.76</td>\n",
       "    </tr>\n",
       "    <tr>\n",
       "      <th rowspan=\"2\" valign=\"top\">4</th>\n",
       "      <th>No</th>\n",
       "      <td>83</td>\n",
       "      <td>95.40</td>\n",
       "    </tr>\n",
       "    <tr>\n",
       "      <th>Yes</th>\n",
       "      <td>4</td>\n",
       "      <td>4.60</td>\n",
       "    </tr>\n",
       "    <tr>\n",
       "      <th rowspan=\"2\" valign=\"top\">5</th>\n",
       "      <th>No</th>\n",
       "      <td>45</td>\n",
       "      <td>91.84</td>\n",
       "    </tr>\n",
       "    <tr>\n",
       "      <th>Yes</th>\n",
       "      <td>4</td>\n",
       "      <td>8.16</td>\n",
       "    </tr>\n",
       "  </tbody>\n",
       "</table>\n",
       "</div>"
      ],
      "text/plain": [
       "              value  value (%)\n",
       "level target                  \n",
       "1     No        317      74.24\n",
       "      Yes       110      25.76\n",
       "2     No        396      90.00\n",
       "      Yes        44      10.00\n",
       "3     No        144      83.24\n",
       "      Yes        29      16.76\n",
       "4     No         83      95.40\n",
       "      Yes         4       4.60\n",
       "5     No         45      91.84\n",
       "      Yes         4       8.16"
      ]
     },
     "metadata": {},
     "output_type": "display_data"
    }
   ],
   "source": [
    "stats_level = df.groupby(['level', 'target']).count().loc[:, 'travel']\n",
    "stats_level_df = round(pd.DataFrame(stats_level / stats_level.groupby(level=0).sum() * 100), 2)\n",
    "stats_level_df.rename({'travel':'value (%)'}, axis = 1, inplace = True)\n",
    "total_level_df = pd.concat([pd.DataFrame(stats_level), stats_level_df], axis = 1)\n",
    "total_level_df.rename({'travel':'value'}, axis = 1, inplace = True)\n",
    "print('Pivot table of Job level and Attrition')\n",
    "display(total_level_df)"
   ]
  },
  {
   "cell_type": "code",
   "execution_count": 46,
   "id": "53431a8c",
   "metadata": {},
   "outputs": [
    {
     "data": {
      "image/png": "[encoded data removed]",
      "text/plain": [
       "<Figure size 792x432 with 1 Axes>"
      ]
     },
     "metadata": {},
     "output_type": "display_data"
    }
   ],
   "source": [
    "total_level_df.drop('value', axis = 1).plot(kind = 'bar', rot = 0)\n",
    "plt.title('Conditional disribution of Job level by Attrition (%)', size = 14);"
   ]
  },
  {
   "cell_type": "markdown",
   "id": "81fecdd2",
   "metadata": {},
   "source": [
    "Больше всего от морального истощения страдают низшие грейды и средние (1 и 3):\n",
    "* Низшие, потому что занимаются самой рутинной и черновой работой;\n",
    "* Средние, потому что являются менеджментом начального уровня, и соответственно проекты по типу \"вот задача, дедлайн вчера\" кладутся, как правило, на их плечи. Не выполнить такую работу зачастую нельзя (\"это очень срочно\", \"это очень важно\", ну и незаменимых нет), а выполнение подобных проектов ведет к изматыванию этих сотрудников."
   ]
  },
  {
   "cell_type": "markdown",
   "id": "89661aef",
   "metadata": {},
   "source": [
    "### Job role"
   ]
  },
  {
   "cell_type": "code",
   "execution_count": 47,
   "id": "d5bb52f9",
   "metadata": {},
   "outputs": [
    {
     "data": {
      "text/html": [
       "<div>\n",
       "<style scoped>\n",
       "    .dataframe tbody tr th:only-of-type {\n",
       "        vertical-align: middle;\n",
       "    }\n",
       "\n",
       "    .dataframe tbody tr th {\n",
       "        vertical-align: top;\n",
       "    }\n",
       "\n",
       "    .dataframe thead th {\n",
       "        text-align: right;\n",
       "    }\n",
       "</style>\n",
       "<table border=\"1\" class=\"dataframe\">\n",
       "  <thead>\n",
       "    <tr style=\"text-align: right;\">\n",
       "      <th></th>\n",
       "      <th>role</th>\n",
       "    </tr>\n",
       "  </thead>\n",
       "  <tbody>\n",
       "    <tr>\n",
       "      <th>Sales Executive</th>\n",
       "      <td>273</td>\n",
       "    </tr>\n",
       "    <tr>\n",
       "      <th>Research Scientist</th>\n",
       "      <td>234</td>\n",
       "    </tr>\n",
       "    <tr>\n",
       "      <th>Laboratory Technician</th>\n",
       "      <td>205</td>\n",
       "    </tr>\n",
       "    <tr>\n",
       "      <th>Manufacturing Director</th>\n",
       "      <td>115</td>\n",
       "    </tr>\n",
       "    <tr>\n",
       "      <th>Healthcare Representative</th>\n",
       "      <td>109</td>\n",
       "    </tr>\n",
       "    <tr>\n",
       "      <th>Manager</th>\n",
       "      <td>75</td>\n",
       "    </tr>\n",
       "    <tr>\n",
       "      <th>Research Director</th>\n",
       "      <td>62</td>\n",
       "    </tr>\n",
       "    <tr>\n",
       "      <th>Sales Representative</th>\n",
       "      <td>57</td>\n",
       "    </tr>\n",
       "    <tr>\n",
       "      <th>Human Resources</th>\n",
       "      <td>46</td>\n",
       "    </tr>\n",
       "  </tbody>\n",
       "</table>\n",
       "</div>"
      ],
      "text/plain": [
       "                           role\n",
       "Sales Executive             273\n",
       "Research Scientist          234\n",
       "Laboratory Technician       205\n",
       "Manufacturing Director      115\n",
       "Healthcare Representative   109\n",
       "Manager                      75\n",
       "Research Director            62\n",
       "Sales Representative         57\n",
       "Human Resources              46"
      ]
     },
     "execution_count": 47,
     "metadata": {},
     "output_type": "execute_result"
    }
   ],
   "source": [
    "pd.DataFrame(df.role.value_counts())"
   ]
  },
  {
   "cell_type": "code",
   "execution_count": 48,
   "id": "c6c2c9c8",
   "metadata": {},
   "outputs": [
    {
     "data": {
      "image/png": "[encoded data removed]",
      "text/plain": [
       "<Figure size 792x432 with 1 Axes>"
      ]
     },
     "metadata": {},
     "output_type": "display_data"
    }
   ],
   "source": [
    "df.role.value_counts().plot(kind = 'bar', rot=30);\n",
    "plt.title('Distribution of Job roles in company', size = 14);"
   ]
  },
  {
   "cell_type": "code",
   "execution_count": 49,
   "id": "01623b81",
   "metadata": {},
   "outputs": [
    {
     "name": "stdout",
     "output_type": "stream",
     "text": [
      "Pivot table of Job role and Attrition\n"
     ]
    },
    {
     "data": {
      "text/html": [
       "<div>\n",
       "<style scoped>\n",
       "    .dataframe tbody tr th:only-of-type {\n",
       "        vertical-align: middle;\n",
       "    }\n",
       "\n",
       "    .dataframe tbody tr th {\n",
       "        vertical-align: top;\n",
       "    }\n",
       "\n",
       "    .dataframe thead th {\n",
       "        text-align: right;\n",
       "    }\n",
       "</style>\n",
       "<table border=\"1\" class=\"dataframe\">\n",
       "  <thead>\n",
       "    <tr style=\"text-align: right;\">\n",
       "      <th></th>\n",
       "      <th></th>\n",
       "      <th>value</th>\n",
       "      <th>value (%)</th>\n",
       "    </tr>\n",
       "    <tr>\n",
       "      <th>role</th>\n",
       "      <th>target</th>\n",
       "      <th></th>\n",
       "      <th></th>\n",
       "    </tr>\n",
       "  </thead>\n",
       "  <tbody>\n",
       "    <tr>\n",
       "      <th rowspan=\"2\" valign=\"top\">Healthcare Representative</th>\n",
       "      <th>No</th>\n",
       "      <td>100</td>\n",
       "      <td>91.74</td>\n",
       "    </tr>\n",
       "    <tr>\n",
       "      <th>Yes</th>\n",
       "      <td>9</td>\n",
       "      <td>8.26</td>\n",
       "    </tr>\n",
       "    <tr>\n",
       "      <th rowspan=\"2\" valign=\"top\">Human Resources</th>\n",
       "      <th>No</th>\n",
       "      <td>36</td>\n",
       "      <td>78.26</td>\n",
       "    </tr>\n",
       "    <tr>\n",
       "      <th>Yes</th>\n",
       "      <td>10</td>\n",
       "      <td>21.74</td>\n",
       "    </tr>\n",
       "    <tr>\n",
       "      <th rowspan=\"2\" valign=\"top\">Laboratory Technician</th>\n",
       "      <th>No</th>\n",
       "      <td>155</td>\n",
       "      <td>75.61</td>\n",
       "    </tr>\n",
       "    <tr>\n",
       "      <th>Yes</th>\n",
       "      <td>50</td>\n",
       "      <td>24.39</td>\n",
       "    </tr>\n",
       "    <tr>\n",
       "      <th rowspan=\"2\" valign=\"top\">Manager</th>\n",
       "      <th>No</th>\n",
       "      <td>72</td>\n",
       "      <td>96.00</td>\n",
       "    </tr>\n",
       "    <tr>\n",
       "      <th>Yes</th>\n",
       "      <td>3</td>\n",
       "      <td>4.00</td>\n",
       "    </tr>\n",
       "    <tr>\n",
       "      <th rowspan=\"2\" valign=\"top\">Manufacturing Director</th>\n",
       "      <th>No</th>\n",
       "      <td>107</td>\n",
       "      <td>93.04</td>\n",
       "    </tr>\n",
       "    <tr>\n",
       "      <th>Yes</th>\n",
       "      <td>8</td>\n",
       "      <td>6.96</td>\n",
       "    </tr>\n",
       "    <tr>\n",
       "      <th rowspan=\"2\" valign=\"top\">Research Director</th>\n",
       "      <th>No</th>\n",
       "      <td>60</td>\n",
       "      <td>96.77</td>\n",
       "    </tr>\n",
       "    <tr>\n",
       "      <th>Yes</th>\n",
       "      <td>2</td>\n",
       "      <td>3.23</td>\n",
       "    </tr>\n",
       "    <tr>\n",
       "      <th rowspan=\"2\" valign=\"top\">Research Scientist</th>\n",
       "      <th>No</th>\n",
       "      <td>197</td>\n",
       "      <td>84.19</td>\n",
       "    </tr>\n",
       "    <tr>\n",
       "      <th>Yes</th>\n",
       "      <td>37</td>\n",
       "      <td>15.81</td>\n",
       "    </tr>\n",
       "    <tr>\n",
       "      <th rowspan=\"2\" valign=\"top\">Sales Executive</th>\n",
       "      <th>No</th>\n",
       "      <td>224</td>\n",
       "      <td>82.05</td>\n",
       "    </tr>\n",
       "    <tr>\n",
       "      <th>Yes</th>\n",
       "      <td>49</td>\n",
       "      <td>17.95</td>\n",
       "    </tr>\n",
       "    <tr>\n",
       "      <th rowspan=\"2\" valign=\"top\">Sales Representative</th>\n",
       "      <th>No</th>\n",
       "      <td>34</td>\n",
       "      <td>59.65</td>\n",
       "    </tr>\n",
       "    <tr>\n",
       "      <th>Yes</th>\n",
       "      <td>23</td>\n",
       "      <td>40.35</td>\n",
       "    </tr>\n",
       "  </tbody>\n",
       "</table>\n",
       "</div>"
      ],
      "text/plain": [
       "                                  value  value (%)\n",
       "role                      target                  \n",
       "Healthcare Representative No        100      91.74\n",
       "                          Yes         9       8.26\n",
       "Human Resources           No         36      78.26\n",
       "                          Yes        10      21.74\n",
       "Laboratory Technician     No        155      75.61\n",
       "                          Yes        50      24.39\n",
       "Manager                   No         72      96.00\n",
       "                          Yes         3       4.00\n",
       "Manufacturing Director    No        107      93.04\n",
       "                          Yes         8       6.96\n",
       "Research Director         No         60      96.77\n",
       "                          Yes         2       3.23\n",
       "Research Scientist        No        197      84.19\n",
       "                          Yes        37      15.81\n",
       "Sales Executive           No        224      82.05\n",
       "                          Yes        49      17.95\n",
       "Sales Representative      No         34      59.65\n",
       "                          Yes        23      40.35"
      ]
     },
     "metadata": {},
     "output_type": "display_data"
    }
   ],
   "source": [
    "stats_role = df.groupby(['role', 'target']).count().loc[:, 'travel']\n",
    "stats_role_df = round(pd.DataFrame(stats_role / stats_role.groupby(level=0).sum() * 100), 2)\n",
    "stats_role_df.rename({'travel':'value (%)'}, axis = 1, inplace = True)\n",
    "total_role_df = pd.concat([pd.DataFrame(stats_role), stats_role_df], axis = 1)\n",
    "total_role_df.rename({'travel':'value'}, axis = 1, inplace = True)\n",
    "print('Pivot table of Job role and Attrition')\n",
    "display(total_role_df)"
   ]
  },
  {
   "cell_type": "markdown",
   "id": "2c79e00e",
   "metadata": {},
   "source": [
    "У нас выделяются три проблемных должности: Human Resources, Laboratory Technician и хуже всех у Sales Representative. Построим статистику по каждым из них: сводную таблицу по двум столбцам Job satisfaction и Attrition."
   ]
  },
  {
   "cell_type": "code",
   "execution_count": 50,
   "id": "53442641",
   "metadata": {},
   "outputs": [
    {
     "name": "stdout",
     "output_type": "stream",
     "text": [
      "Sales Representative\n"
     ]
    },
    {
     "data": {
      "text/html": [
       "<div>\n",
       "<style scoped>\n",
       "    .dataframe tbody tr th:only-of-type {\n",
       "        vertical-align: middle;\n",
       "    }\n",
       "\n",
       "    .dataframe tbody tr th {\n",
       "        vertical-align: top;\n",
       "    }\n",
       "\n",
       "    .dataframe thead th {\n",
       "        text-align: right;\n",
       "    }\n",
       "</style>\n",
       "<table border=\"1\" class=\"dataframe\">\n",
       "  <thead>\n",
       "    <tr style=\"text-align: right;\">\n",
       "      <th></th>\n",
       "      <th></th>\n",
       "      <th>value</th>\n",
       "      <th>value (%)</th>\n",
       "    </tr>\n",
       "    <tr>\n",
       "      <th>jobsat</th>\n",
       "      <th>target</th>\n",
       "      <th></th>\n",
       "      <th></th>\n",
       "    </tr>\n",
       "  </thead>\n",
       "  <tbody>\n",
       "    <tr>\n",
       "      <th rowspan=\"2\" valign=\"top\">1</th>\n",
       "      <th>No</th>\n",
       "      <td>2</td>\n",
       "      <td>28.57</td>\n",
       "    </tr>\n",
       "    <tr>\n",
       "      <th>Yes</th>\n",
       "      <td>5</td>\n",
       "      <td>71.43</td>\n",
       "    </tr>\n",
       "    <tr>\n",
       "      <th rowspan=\"2\" valign=\"top\">2</th>\n",
       "      <th>No</th>\n",
       "      <td>7</td>\n",
       "      <td>53.85</td>\n",
       "    </tr>\n",
       "    <tr>\n",
       "      <th>Yes</th>\n",
       "      <td>6</td>\n",
       "      <td>46.15</td>\n",
       "    </tr>\n",
       "    <tr>\n",
       "      <th rowspan=\"2\" valign=\"top\">3</th>\n",
       "      <th>No</th>\n",
       "      <td>14</td>\n",
       "      <td>63.64</td>\n",
       "    </tr>\n",
       "    <tr>\n",
       "      <th>Yes</th>\n",
       "      <td>8</td>\n",
       "      <td>36.36</td>\n",
       "    </tr>\n",
       "    <tr>\n",
       "      <th rowspan=\"2\" valign=\"top\">4</th>\n",
       "      <th>No</th>\n",
       "      <td>11</td>\n",
       "      <td>73.33</td>\n",
       "    </tr>\n",
       "    <tr>\n",
       "      <th>Yes</th>\n",
       "      <td>4</td>\n",
       "      <td>26.67</td>\n",
       "    </tr>\n",
       "  </tbody>\n",
       "</table>\n",
       "</div>"
      ],
      "text/plain": [
       "               value  value (%)\n",
       "jobsat target                  \n",
       "1      No          2      28.57\n",
       "       Yes         5      71.43\n",
       "2      No          7      53.85\n",
       "       Yes         6      46.15\n",
       "3      No         14      63.64\n",
       "       Yes         8      36.36\n",
       "4      No         11      73.33\n",
       "       Yes         4      26.67"
      ]
     },
     "metadata": {},
     "output_type": "display_data"
    },
    {
     "data": {
      "image/png": "[encoded data removed]",
      "text/plain": [
       "<Figure size 792x432 with 1 Axes>"
      ]
     },
     "metadata": {},
     "output_type": "display_data"
    }
   ],
   "source": [
    "df1 = df.loc[df.role == 'Sales Representative', :]\n",
    "stats_involve = df1.groupby(['jobsat', 'target']).count().loc[:, 'travel']\n",
    "stats_involve_df = round(pd.DataFrame(stats_involve / stats_involve.groupby(level=0).sum() * 100), 2)\n",
    "stats_involve_df.rename({'travel':'value (%)'}, axis = 1, inplace = True)\n",
    "total_involve_df = pd.concat([pd.DataFrame(stats_involve), stats_involve_df], axis = 1)\n",
    "total_involve_df.rename({'travel':'value'}, axis = 1, inplace = True)\n",
    "print('Sales Representative')\n",
    "display(total_involve_df)\n",
    "df1.groupby(['jobsat', 'target']).count().loc[:, 'age'].plot(kind = 'bar', rot = 0);"
   ]
  },
  {
   "cell_type": "code",
   "execution_count": 51,
   "id": "c65594ab",
   "metadata": {},
   "outputs": [
    {
     "name": "stdout",
     "output_type": "stream",
     "text": [
      "Human Resources\n"
     ]
    },
    {
     "data": {
      "text/html": [
       "<div>\n",
       "<style scoped>\n",
       "    .dataframe tbody tr th:only-of-type {\n",
       "        vertical-align: middle;\n",
       "    }\n",
       "\n",
       "    .dataframe tbody tr th {\n",
       "        vertical-align: top;\n",
       "    }\n",
       "\n",
       "    .dataframe thead th {\n",
       "        text-align: right;\n",
       "    }\n",
       "</style>\n",
       "<table border=\"1\" class=\"dataframe\">\n",
       "  <thead>\n",
       "    <tr style=\"text-align: right;\">\n",
       "      <th></th>\n",
       "      <th></th>\n",
       "      <th>value</th>\n",
       "      <th>value (%)</th>\n",
       "    </tr>\n",
       "    <tr>\n",
       "      <th>jobsat</th>\n",
       "      <th>target</th>\n",
       "      <th></th>\n",
       "      <th></th>\n",
       "    </tr>\n",
       "  </thead>\n",
       "  <tbody>\n",
       "    <tr>\n",
       "      <th rowspan=\"2\" valign=\"top\">1</th>\n",
       "      <th>No</th>\n",
       "      <td>4</td>\n",
       "      <td>50.00</td>\n",
       "    </tr>\n",
       "    <tr>\n",
       "      <th>Yes</th>\n",
       "      <td>4</td>\n",
       "      <td>50.00</td>\n",
       "    </tr>\n",
       "    <tr>\n",
       "      <th rowspan=\"2\" valign=\"top\">2</th>\n",
       "      <th>No</th>\n",
       "      <td>11</td>\n",
       "      <td>84.62</td>\n",
       "    </tr>\n",
       "    <tr>\n",
       "      <th>Yes</th>\n",
       "      <td>2</td>\n",
       "      <td>15.38</td>\n",
       "    </tr>\n",
       "    <tr>\n",
       "      <th rowspan=\"2\" valign=\"top\">3</th>\n",
       "      <th>No</th>\n",
       "      <td>10</td>\n",
       "      <td>83.33</td>\n",
       "    </tr>\n",
       "    <tr>\n",
       "      <th>Yes</th>\n",
       "      <td>2</td>\n",
       "      <td>16.67</td>\n",
       "    </tr>\n",
       "    <tr>\n",
       "      <th rowspan=\"2\" valign=\"top\">4</th>\n",
       "      <th>No</th>\n",
       "      <td>11</td>\n",
       "      <td>84.62</td>\n",
       "    </tr>\n",
       "    <tr>\n",
       "      <th>Yes</th>\n",
       "      <td>2</td>\n",
       "      <td>15.38</td>\n",
       "    </tr>\n",
       "  </tbody>\n",
       "</table>\n",
       "</div>"
      ],
      "text/plain": [
       "               value  value (%)\n",
       "jobsat target                  \n",
       "1      No          4      50.00\n",
       "       Yes         4      50.00\n",
       "2      No         11      84.62\n",
       "       Yes         2      15.38\n",
       "3      No         10      83.33\n",
       "       Yes         2      16.67\n",
       "4      No         11      84.62\n",
       "       Yes         2      15.38"
      ]
     },
     "metadata": {},
     "output_type": "display_data"
    },
    {
     "data": {
      "image/png": "[encoded data removed]",
      "text/plain": [
       "<Figure size 792x432 with 1 Axes>"
      ]
     },
     "metadata": {},
     "output_type": "display_data"
    }
   ],
   "source": [
    "df1 = df.loc[df.role == 'Human Resources', :]\n",
    "stats_involve = df1.groupby(['jobsat', 'target']).count().loc[:, 'travel']\n",
    "stats_involve_df = round(pd.DataFrame(stats_involve / stats_involve.groupby(level=0).sum() * 100), 2)\n",
    "stats_involve_df.rename({'travel':'value (%)'}, axis = 1, inplace = True)\n",
    "total_involve_df = pd.concat([pd.DataFrame(stats_involve), stats_involve_df], axis = 1)\n",
    "total_involve_df.rename({'travel':'value'}, axis = 1, inplace = True)\n",
    "print('Human Resources')\n",
    "display(total_involve_df)\n",
    "df1.groupby(['jobsat', 'target']).count().loc[:, 'age'].plot(kind = 'bar', rot = 0);"
   ]
  },
  {
   "cell_type": "code",
   "execution_count": 52,
   "id": "7e867c8a",
   "metadata": {},
   "outputs": [
    {
     "name": "stdout",
     "output_type": "stream",
     "text": [
      "Laboratory Technician\n"
     ]
    },
    {
     "data": {
      "text/html": [
       "<div>\n",
       "<style scoped>\n",
       "    .dataframe tbody tr th:only-of-type {\n",
       "        vertical-align: middle;\n",
       "    }\n",
       "\n",
       "    .dataframe tbody tr th {\n",
       "        vertical-align: top;\n",
       "    }\n",
       "\n",
       "    .dataframe thead th {\n",
       "        text-align: right;\n",
       "    }\n",
       "</style>\n",
       "<table border=\"1\" class=\"dataframe\">\n",
       "  <thead>\n",
       "    <tr style=\"text-align: right;\">\n",
       "      <th></th>\n",
       "      <th></th>\n",
       "      <th>value</th>\n",
       "      <th>value (%)</th>\n",
       "    </tr>\n",
       "    <tr>\n",
       "      <th>jobsat</th>\n",
       "      <th>target</th>\n",
       "      <th></th>\n",
       "      <th></th>\n",
       "    </tr>\n",
       "  </thead>\n",
       "  <tbody>\n",
       "    <tr>\n",
       "      <th rowspan=\"2\" valign=\"top\">1</th>\n",
       "      <th>No</th>\n",
       "      <td>25</td>\n",
       "      <td>62.50</td>\n",
       "    </tr>\n",
       "    <tr>\n",
       "      <th>Yes</th>\n",
       "      <td>15</td>\n",
       "      <td>37.50</td>\n",
       "    </tr>\n",
       "    <tr>\n",
       "      <th rowspan=\"2\" valign=\"top\">2</th>\n",
       "      <th>No</th>\n",
       "      <td>37</td>\n",
       "      <td>84.09</td>\n",
       "    </tr>\n",
       "    <tr>\n",
       "      <th>Yes</th>\n",
       "      <td>7</td>\n",
       "      <td>15.91</td>\n",
       "    </tr>\n",
       "    <tr>\n",
       "      <th rowspan=\"2\" valign=\"top\">3</th>\n",
       "      <th>No</th>\n",
       "      <td>40</td>\n",
       "      <td>72.73</td>\n",
       "    </tr>\n",
       "    <tr>\n",
       "      <th>Yes</th>\n",
       "      <td>15</td>\n",
       "      <td>27.27</td>\n",
       "    </tr>\n",
       "    <tr>\n",
       "      <th rowspan=\"2\" valign=\"top\">4</th>\n",
       "      <th>No</th>\n",
       "      <td>53</td>\n",
       "      <td>80.30</td>\n",
       "    </tr>\n",
       "    <tr>\n",
       "      <th>Yes</th>\n",
       "      <td>13</td>\n",
       "      <td>19.70</td>\n",
       "    </tr>\n",
       "  </tbody>\n",
       "</table>\n",
       "</div>"
      ],
      "text/plain": [
       "               value  value (%)\n",
       "jobsat target                  \n",
       "1      No         25      62.50\n",
       "       Yes        15      37.50\n",
       "2      No         37      84.09\n",
       "       Yes         7      15.91\n",
       "3      No         40      72.73\n",
       "       Yes        15      27.27\n",
       "4      No         53      80.30\n",
       "       Yes        13      19.70"
      ]
     },
     "metadata": {},
     "output_type": "display_data"
    },
    {
     "data": {
      "image/png": "[encoded data removed]",
      "text/plain": [
       "<Figure size 792x432 with 1 Axes>"
      ]
     },
     "metadata": {},
     "output_type": "display_data"
    }
   ],
   "source": [
    "df1 = df.loc[df.role == 'Laboratory Technician', :]\n",
    "stats_involve = df1.groupby(['jobsat', 'target']).count().loc[:, 'travel']\n",
    "stats_involve_df = round(pd.DataFrame(stats_involve / stats_involve.groupby(level=0).sum() * 100), 2)\n",
    "stats_involve_df.rename({'travel':'value (%)'}, axis = 1, inplace = True)\n",
    "total_involve_df = pd.concat([pd.DataFrame(stats_involve), stats_involve_df], axis = 1)\n",
    "total_involve_df.rename({'travel':'value'}, axis = 1, inplace = True)\n",
    "print('Laboratory Technician')\n",
    "display(total_involve_df)\n",
    "df1.groupby(['jobsat', 'target']).count().loc[:, 'age'].plot(kind = 'bar', rot = 0);"
   ]
  },
  {
   "cell_type": "markdown",
   "id": "1047f59a",
   "metadata": {},
   "source": [
    "Ярко выраженная проблема заметна конкретно с Sales Representative, а именно самые серьезные показатели по усталости, и это видно на соответствующем графике. По таблице 'Pivot table of Job role and Attrition' можно посмотреть на ситуацию в целом и проследить, на каких должностях сотрудникам тяжелее всего."
   ]
  },
  {
   "cell_type": "markdown",
   "id": "01ac2f67",
   "metadata": {},
   "source": [
    "### Job satisfaction"
   ]
  },
  {
   "cell_type": "code",
   "execution_count": 53,
   "id": "93b970e7",
   "metadata": {},
   "outputs": [
    {
     "data": {
      "image/png": "[encoded data removed]",
      "text/plain": [
       "<Figure size 792x432 with 1 Axes>"
      ]
     },
     "metadata": {},
     "output_type": "display_data"
    }
   ],
   "source": [
    "df.jobsat.value_counts().sort_index().plot(kind = 'bar', rot = 0)\n",
    "plt.title('Distribution of Job satisfaction in company', size = 14);"
   ]
  },
  {
   "cell_type": "code",
   "execution_count": 54,
   "id": "e9fff5fd",
   "metadata": {},
   "outputs": [
    {
     "name": "stdout",
     "output_type": "stream",
     "text": [
      "Pivot table of Job satisfaction and Attrition\n"
     ]
    },
    {
     "data": {
      "text/html": [
       "<div>\n",
       "<style scoped>\n",
       "    .dataframe tbody tr th:only-of-type {\n",
       "        vertical-align: middle;\n",
       "    }\n",
       "\n",
       "    .dataframe tbody tr th {\n",
       "        vertical-align: top;\n",
       "    }\n",
       "\n",
       "    .dataframe thead th {\n",
       "        text-align: right;\n",
       "    }\n",
       "</style>\n",
       "<table border=\"1\" class=\"dataframe\">\n",
       "  <thead>\n",
       "    <tr style=\"text-align: right;\">\n",
       "      <th></th>\n",
       "      <th></th>\n",
       "      <th>value</th>\n",
       "      <th>value (%)</th>\n",
       "    </tr>\n",
       "    <tr>\n",
       "      <th>jobsat</th>\n",
       "      <th>target</th>\n",
       "      <th></th>\n",
       "      <th></th>\n",
       "    </tr>\n",
       "  </thead>\n",
       "  <tbody>\n",
       "    <tr>\n",
       "      <th rowspan=\"2\" valign=\"top\">1</th>\n",
       "      <th>No</th>\n",
       "      <td>175</td>\n",
       "      <td>77.43</td>\n",
       "    </tr>\n",
       "    <tr>\n",
       "      <th>Yes</th>\n",
       "      <td>51</td>\n",
       "      <td>22.57</td>\n",
       "    </tr>\n",
       "    <tr>\n",
       "      <th rowspan=\"2\" valign=\"top\">2</th>\n",
       "      <th>No</th>\n",
       "      <td>190</td>\n",
       "      <td>83.33</td>\n",
       "    </tr>\n",
       "    <tr>\n",
       "      <th>Yes</th>\n",
       "      <td>38</td>\n",
       "      <td>16.67</td>\n",
       "    </tr>\n",
       "    <tr>\n",
       "      <th rowspan=\"2\" valign=\"top\">3</th>\n",
       "      <th>No</th>\n",
       "      <td>290</td>\n",
       "      <td>83.57</td>\n",
       "    </tr>\n",
       "    <tr>\n",
       "      <th>Yes</th>\n",
       "      <td>57</td>\n",
       "      <td>16.43</td>\n",
       "    </tr>\n",
       "    <tr>\n",
       "      <th rowspan=\"2\" valign=\"top\">4</th>\n",
       "      <th>No</th>\n",
       "      <td>330</td>\n",
       "      <td>88.00</td>\n",
       "    </tr>\n",
       "    <tr>\n",
       "      <th>Yes</th>\n",
       "      <td>45</td>\n",
       "      <td>12.00</td>\n",
       "    </tr>\n",
       "  </tbody>\n",
       "</table>\n",
       "</div>"
      ],
      "text/plain": [
       "               value  value (%)\n",
       "jobsat target                  \n",
       "1      No        175      77.43\n",
       "       Yes        51      22.57\n",
       "2      No        190      83.33\n",
       "       Yes        38      16.67\n",
       "3      No        290      83.57\n",
       "       Yes        57      16.43\n",
       "4      No        330      88.00\n",
       "       Yes        45      12.00"
      ]
     },
     "metadata": {},
     "output_type": "display_data"
    }
   ],
   "source": [
    "stats_jobsat = df.groupby(['jobsat', 'target']).count().loc[:, 'travel']\n",
    "stats_jobsat_df = round(pd.DataFrame(stats_jobsat / stats_jobsat.groupby(level=0).sum() * 100), 2)\n",
    "stats_jobsat_df.rename({'travel':'value (%)'}, axis = 1, inplace = True)\n",
    "total_jobsat_df = pd.concat([pd.DataFrame(stats_jobsat), stats_jobsat_df], axis = 1)\n",
    "total_jobsat_df.rename({'travel':'value'}, axis = 1, inplace = True)\n",
    "print('Pivot table of Job satisfaction and Attrition')\n",
    "display(total_jobsat_df)"
   ]
  },
  {
   "cell_type": "code",
   "execution_count": 55,
   "id": "8b5fc995",
   "metadata": {},
   "outputs": [
    {
     "data": {
      "image/png": "[encoded data removed]",
      "text/plain": [
       "<Figure size 792x432 with 1 Axes>"
      ]
     },
     "metadata": {},
     "output_type": "display_data"
    },
    {
     "data": {
      "image/png": "[encoded data removed]",
      "text/plain": [
       "<Figure size 792x432 with 1 Axes>"
      ]
     },
     "metadata": {},
     "output_type": "display_data"
    }
   ],
   "source": [
    "df.groupby(['jobsat', 'target']).count().loc[:, 'age'].plot(kind = 'bar', rot = 0);\n",
    "plt.title('Condition distribution of Job Satisfaction', size = 14);\n",
    "total_jobsat_df.drop('value', axis = 1).plot(kind = 'bar', rot = 0);\n",
    "plt.title('Condition distribution of Job Satisfaction (%)', size = 14);"
   ]
  },
  {
   "cell_type": "markdown",
   "id": "138aa06f",
   "metadata": {},
   "source": [
    "Здорово, что неудовлетворенных (1) работой меньше, чем удовлетворенных (2-4). Однако \n",
    "1. Таких сотрудников все равно достаточно много от общего количества (почти 25%)\n",
    "2. С увеличением интереса к работе заметно улучшение по показателю Attriction, однако не такое существенное, чтобы оно могло полностью объяснить этот признак. Это может быть связано либо с проблемой bias data, либо с тем, что на мораль работников влияют в том числе и другие факторы. Например, уровень зарплаты, отношения с руководством и т.д."
   ]
  },
  {
   "cell_type": "markdown",
   "id": "10d858de",
   "metadata": {},
   "source": [
    "### Marital Status"
   ]
  },
  {
   "cell_type": "code",
   "execution_count": 56,
   "id": "e043d455",
   "metadata": {},
   "outputs": [
    {
     "data": {
      "image/png": "[encoded data removed]",
      "text/plain": [
       "<Figure size 792x432 with 1 Axes>"
      ]
     },
     "metadata": {},
     "output_type": "display_data"
    }
   ],
   "source": [
    "df.marital.value_counts().plot(kind = 'bar', rot = 0)\n",
    "plt.title('Distribution of Marital status', size = 14);"
   ]
  },
  {
   "cell_type": "code",
   "execution_count": 57,
   "id": "0d9f3ee3",
   "metadata": {},
   "outputs": [
    {
     "name": "stdout",
     "output_type": "stream",
     "text": [
      "Pivot table of Marital status and Attrition\n"
     ]
    },
    {
     "data": {
      "text/html": [
       "<div>\n",
       "<style scoped>\n",
       "    .dataframe tbody tr th:only-of-type {\n",
       "        vertical-align: middle;\n",
       "    }\n",
       "\n",
       "    .dataframe tbody tr th {\n",
       "        vertical-align: top;\n",
       "    }\n",
       "\n",
       "    .dataframe thead th {\n",
       "        text-align: right;\n",
       "    }\n",
       "</style>\n",
       "<table border=\"1\" class=\"dataframe\">\n",
       "  <thead>\n",
       "    <tr style=\"text-align: right;\">\n",
       "      <th></th>\n",
       "      <th></th>\n",
       "      <th>value</th>\n",
       "      <th>value (%)</th>\n",
       "    </tr>\n",
       "    <tr>\n",
       "      <th>marital</th>\n",
       "      <th>target</th>\n",
       "      <th></th>\n",
       "      <th></th>\n",
       "    </tr>\n",
       "  </thead>\n",
       "  <tbody>\n",
       "    <tr>\n",
       "      <th rowspan=\"2\" valign=\"top\">Divorced</th>\n",
       "      <th>No</th>\n",
       "      <td>242</td>\n",
       "      <td>89.63</td>\n",
       "    </tr>\n",
       "    <tr>\n",
       "      <th>Yes</th>\n",
       "      <td>28</td>\n",
       "      <td>10.37</td>\n",
       "    </tr>\n",
       "    <tr>\n",
       "      <th rowspan=\"2\" valign=\"top\">Married</th>\n",
       "      <th>No</th>\n",
       "      <td>464</td>\n",
       "      <td>86.25</td>\n",
       "    </tr>\n",
       "    <tr>\n",
       "      <th>Yes</th>\n",
       "      <td>74</td>\n",
       "      <td>13.75</td>\n",
       "    </tr>\n",
       "    <tr>\n",
       "      <th rowspan=\"2\" valign=\"top\">Single</th>\n",
       "      <th>No</th>\n",
       "      <td>279</td>\n",
       "      <td>75.82</td>\n",
       "    </tr>\n",
       "    <tr>\n",
       "      <th>Yes</th>\n",
       "      <td>89</td>\n",
       "      <td>24.18</td>\n",
       "    </tr>\n",
       "  </tbody>\n",
       "</table>\n",
       "</div>"
      ],
      "text/plain": [
       "                 value  value (%)\n",
       "marital  target                  \n",
       "Divorced No        242      89.63\n",
       "         Yes        28      10.37\n",
       "Married  No        464      86.25\n",
       "         Yes        74      13.75\n",
       "Single   No        279      75.82\n",
       "         Yes        89      24.18"
      ]
     },
     "metadata": {},
     "output_type": "display_data"
    }
   ],
   "source": [
    "stats_marital = df.groupby(['marital', 'target']).count().loc[:, 'travel']\n",
    "stats_marital_df = round(pd.DataFrame(stats_marital / stats_marital.groupby(level=0).sum() * 100), 2)\n",
    "stats_marital_df.rename({'travel':'value (%)'}, axis = 1, inplace = True)\n",
    "total_maritalt_df = pd.concat([pd.DataFrame(stats_marital), stats_marital_df], axis = 1)\n",
    "total_maritalt_df.rename({'travel':'value'}, axis = 1, inplace = True)\n",
    "print('Pivot table of Marital status and Attrition')\n",
    "display(total_maritalt_df)"
   ]
  },
  {
   "cell_type": "markdown",
   "id": "274dc75c",
   "metadata": {},
   "source": [
    "Судя по полученным данным, одинокие люди чаще других выгорают на работе, что в принципе вполне объяснимо."
   ]
  },
  {
   "cell_type": "markdown",
   "id": "249e07e4",
   "metadata": {},
   "source": [
    "### Monthly income"
   ]
  },
  {
   "cell_type": "code",
   "execution_count": 58,
   "id": "400c0121",
   "metadata": {},
   "outputs": [
    {
     "data": {
      "image/png": "[encoded data removed]",
      "text/plain": [
       "<Figure size 792x432 with 1 Axes>"
      ]
     },
     "metadata": {},
     "output_type": "display_data"
    }
   ],
   "source": [
    "bins = [min(df.income.values)-1, 3000, 7000, 14000, 20000]\n",
    "for xc in bins:\n",
    "    plt.axvline(x=xc, color='k', linestyle='--')\n",
    "sns.histplot(data = df.income)\n",
    "plt.title('Income distribution among employees with binning (vlines)', size = 14);"
   ]
  },
  {
   "cell_type": "markdown",
   "id": "629e0a95",
   "metadata": {},
   "source": [
    "Дискретизируем данные по аналогии с возрастом и расстоянием до дома (на рисунке выше показано разбиение)."
   ]
  },
  {
   "cell_type": "code",
   "execution_count": 59,
   "id": "ebefaa42",
   "metadata": {},
   "outputs": [],
   "source": [
    "cats_income, bins_income = pd.cut(df.income.values, bins = bins, \n",
    "                    labels = ['1', '2', '3', '4'], retbins = True)\n",
    "df.income = cats_income"
   ]
  },
  {
   "cell_type": "code",
   "execution_count": 60,
   "id": "0383e021",
   "metadata": {},
   "outputs": [
    {
     "name": "stdout",
     "output_type": "stream",
     "text": [
      "Pivot table of Monthly Income and Attrition\n"
     ]
    },
    {
     "data": {
      "text/html": [
       "<div>\n",
       "<style scoped>\n",
       "    .dataframe tbody tr th:only-of-type {\n",
       "        vertical-align: middle;\n",
       "    }\n",
       "\n",
       "    .dataframe tbody tr th {\n",
       "        vertical-align: top;\n",
       "    }\n",
       "\n",
       "    .dataframe thead th {\n",
       "        text-align: right;\n",
       "    }\n",
       "</style>\n",
       "<table border=\"1\" class=\"dataframe\">\n",
       "  <thead>\n",
       "    <tr style=\"text-align: right;\">\n",
       "      <th></th>\n",
       "      <th></th>\n",
       "      <th>value</th>\n",
       "      <th>value (%)</th>\n",
       "    </tr>\n",
       "    <tr>\n",
       "      <th>income</th>\n",
       "      <th>target</th>\n",
       "      <th></th>\n",
       "      <th></th>\n",
       "    </tr>\n",
       "  </thead>\n",
       "  <tbody>\n",
       "    <tr>\n",
       "      <th rowspan=\"2\" valign=\"top\">1</th>\n",
       "      <th>No</th>\n",
       "      <td>222</td>\n",
       "      <td>71.61</td>\n",
       "    </tr>\n",
       "    <tr>\n",
       "      <th>Yes</th>\n",
       "      <td>88</td>\n",
       "      <td>28.39</td>\n",
       "    </tr>\n",
       "    <tr>\n",
       "      <th rowspan=\"2\" valign=\"top\">2</th>\n",
       "      <th>No</th>\n",
       "      <td>461</td>\n",
       "      <td>88.31</td>\n",
       "    </tr>\n",
       "    <tr>\n",
       "      <th>Yes</th>\n",
       "      <td>61</td>\n",
       "      <td>11.69</td>\n",
       "    </tr>\n",
       "    <tr>\n",
       "      <th rowspan=\"2\" valign=\"top\">3</th>\n",
       "      <th>No</th>\n",
       "      <td>198</td>\n",
       "      <td>83.90</td>\n",
       "    </tr>\n",
       "    <tr>\n",
       "      <th>Yes</th>\n",
       "      <td>38</td>\n",
       "      <td>16.10</td>\n",
       "    </tr>\n",
       "    <tr>\n",
       "      <th rowspan=\"2\" valign=\"top\">4</th>\n",
       "      <th>No</th>\n",
       "      <td>104</td>\n",
       "      <td>96.30</td>\n",
       "    </tr>\n",
       "    <tr>\n",
       "      <th>Yes</th>\n",
       "      <td>4</td>\n",
       "      <td>3.70</td>\n",
       "    </tr>\n",
       "  </tbody>\n",
       "</table>\n",
       "</div>"
      ],
      "text/plain": [
       "               value  value (%)\n",
       "income target                  \n",
       "1      No        222      71.61\n",
       "       Yes        88      28.39\n",
       "2      No        461      88.31\n",
       "       Yes        61      11.69\n",
       "3      No        198      83.90\n",
       "       Yes        38      16.10\n",
       "4      No        104      96.30\n",
       "       Yes         4       3.70"
      ]
     },
     "metadata": {},
     "output_type": "display_data"
    }
   ],
   "source": [
    "stats_income = df.groupby(['income', 'target']).count().loc[:, 'travel']\n",
    "stats_income_df = round(pd.DataFrame(stats_income / stats_income.groupby(level=0).sum() * 100), 2)\n",
    "stats_income_df.rename({'travel':'value (%)'}, axis = 1, inplace = True)\n",
    "total_income_df = pd.concat([pd.DataFrame(stats_income), stats_income_df], axis = 1)\n",
    "total_income_df.rename({'travel':'value'}, axis = 1, inplace = True)\n",
    "print('Pivot table of Monthly Income and Attrition')\n",
    "display(total_income_df)"
   ]
  },
  {
   "cell_type": "code",
   "execution_count": 61,
   "id": "7b254b70",
   "metadata": {},
   "outputs": [
    {
     "data": {
      "image/png": "[encoded data removed]",
      "text/plain": [
       "<Figure size 792x432 with 1 Axes>"
      ]
     },
     "metadata": {},
     "output_type": "display_data"
    }
   ],
   "source": [
    "total_income_df.drop('value', axis = 1).plot(kind = 'bar', rot = 0);\n",
    "plt.title('Condition distribution of Monthly Income by Attrition', size = 14);"
   ]
  },
  {
   "cell_type": "markdown",
   "id": "acfa1562",
   "metadata": {},
   "source": [
    "Полученные значения в общем вписываются в логику \"чем больше зарабатываешь, тем больше доволен\", может быть за исключением 3 группы."
   ]
  },
  {
   "cell_type": "markdown",
   "id": "21af7871",
   "metadata": {},
   "source": [
    "# Если продолжить подобным образом,\n",
    "рассматривая в основном 3 аналитики:\n",
    "1. Распределение признака\n",
    "2. Условное распределение относительно Attrition\n",
    "3. График условного распределения <br>\n",
    "\n",
    "можно продолжить находить инсайты помимо тех, что мы уже нашли выше. К сожалению, я не могу сейчас оформить от начала и до конца то, что я хотел сделать изначально, потому что есть необходимость в работе над личными проектами и учебой, а сделать менее качественно, но целиком, мне бы не хотелось."
   ]
  },
  {
   "cell_type": "markdown",
   "id": "ce86c57f",
   "metadata": {},
   "source": [
    "# Что мы сделаем\n",
    "уже в самом конце, на последнем издыхании. \n",
    "\n",
    "В самом начале мы разбили датасет на обучающую и тестовую выборки. Используем их для машинки.\n",
    "1. Обработаем имеющиеся данные с помощью энкодеров.\n",
    "2. С помощью обучающейся выборки на основе решетчатого поиска с кроссс-валидацией построим следующие модели: knk, logistic regression, decision tree, random forest и naive bayes.\n",
    "3. Поскольку нам лучше ошибиться в прогнозе, чем недоглядеть, то будем максимизировать метрику полноты (recall)."
   ]
  },
  {
   "cell_type": "code",
   "execution_count": 62,
   "id": "39167d4d",
   "metadata": {},
   "outputs": [],
   "source": [
    "cols = df.columns[14:]\n",
    "df.drop(cols, axis = 1, inplace = True)\n",
    "test_df.drop(cols, axis = 1, inplace = True)"
   ]
  },
  {
   "cell_type": "code",
   "execution_count": 63,
   "id": "3e42bb7d",
   "metadata": {},
   "outputs": [],
   "source": [
    "df.target = ['0' if value == 'No' else '1' for value in df.target]\n",
    "test_df.target = ['0' if value == 'No' else '1' for value in test_df.target]"
   ]
  },
  {
   "cell_type": "code",
   "execution_count": 64,
   "id": "5d7ac2f1",
   "metadata": {},
   "outputs": [],
   "source": [
    "from sklearn.model_selection import train_test_split\n",
    "\n",
    "X_train, X_test, y_train, y_test = train_test_split(df.drop('target', axis=1).values, df.target.values, \n",
    "                                                    test_size=0.8, random_state = 21)"
   ]
  },
  {
   "cell_type": "code",
   "execution_count": 65,
   "id": "c73f9038",
   "metadata": {},
   "outputs": [],
   "source": [
    "from sklearn.preprocessing import OrdinalEncoder\n",
    "from sklearn.compose import make_column_selector\n",
    "from sklearn.compose import ColumnTransformer\n",
    "from sklearn.preprocessing import OneHotEncoder\n",
    "from sklearn.preprocessing import LabelEncoder\n",
    "from sklearn.preprocessing import StandardScaler\n",
    "\n",
    "ct = ColumnTransformer([\n",
    "      ('onehot',\n",
    "      OneHotEncoder(), [0, 2-1, 5-1, 7-1, 8-1, 9-1, 11-1, 13-1]),\n",
    "      ('ordinal',\n",
    "      OrdinalEncoder(), [4-1, 6-1, 10-1, 12-1]),\n",
    "      ('scaler',\n",
    "      StandardScaler(), [3-1])])\n",
    "\n",
    "le = LabelEncoder()\n",
    "le.fit(y_train)\n",
    "y_train = le.transform(y_train)\n",
    "y_test = le.transform(y_test)\n",
    "\n",
    "ct.fit(X_train)\n",
    "X_train = ct.transform(X_train)\n",
    "X_test = ct.transform(X_test)"
   ]
  },
  {
   "cell_type": "code",
   "execution_count": 66,
   "id": "aeecf435",
   "metadata": {},
   "outputs": [
    {
     "data": {
      "text/html": [
       "<style>#sk-b1c35754-8680-4a13-8394-59852694ad4f {color: black;background-color: white;}#sk-b1c35754-8680-4a13-8394-59852694ad4f pre{padding: 0;}#sk-b1c35754-8680-4a13-8394-59852694ad4f div.sk-toggleable {background-color: white;}#sk-b1c35754-8680-4a13-8394-59852694ad4f label.sk-toggleable__label {cursor: pointer;display: block;width: 100%;margin-bottom: 0;padding: 0.2em 0.3em;box-sizing: border-box;text-align: center;}#sk-b1c35754-8680-4a13-8394-59852694ad4f div.sk-toggleable__content {max-height: 0;max-width: 0;overflow: hidden;text-align: left;background-color: #f0f8ff;}#sk-b1c35754-8680-4a13-8394-59852694ad4f div.sk-toggleable__content pre {margin: 0.2em;color: black;border-radius: 0.25em;background-color: #f0f8ff;}#sk-b1c35754-8680-4a13-8394-59852694ad4f input.sk-toggleable__control:checked~div.sk-toggleable__content {max-height: 200px;max-width: 100%;overflow: auto;}#sk-b1c35754-8680-4a13-8394-59852694ad4f div.sk-estimator input.sk-toggleable__control:checked~label.sk-toggleable__label {background-color: #d4ebff;}#sk-b1c35754-8680-4a13-8394-59852694ad4f div.sk-label input.sk-toggleable__control:checked~label.sk-toggleable__label {background-color: #d4ebff;}#sk-b1c35754-8680-4a13-8394-59852694ad4f input.sk-hidden--visually {border: 0;clip: rect(1px 1px 1px 1px);clip: rect(1px, 1px, 1px, 1px);height: 1px;margin: -1px;overflow: hidden;padding: 0;position: absolute;width: 1px;}#sk-b1c35754-8680-4a13-8394-59852694ad4f div.sk-estimator {font-family: monospace;background-color: #f0f8ff;margin: 0.25em 0.25em;border: 1px dotted black;border-radius: 0.25em;box-sizing: border-box;}#sk-b1c35754-8680-4a13-8394-59852694ad4f div.sk-estimator:hover {background-color: #d4ebff;}#sk-b1c35754-8680-4a13-8394-59852694ad4f div.sk-parallel-item::after {content: \"\";width: 100%;border-bottom: 1px solid gray;flex-grow: 1;}#sk-b1c35754-8680-4a13-8394-59852694ad4f div.sk-label:hover label.sk-toggleable__label {background-color: #d4ebff;}#sk-b1c35754-8680-4a13-8394-59852694ad4f div.sk-serial::before {content: \"\";position: absolute;border-left: 1px solid gray;box-sizing: border-box;top: 2em;bottom: 0;left: 50%;}#sk-b1c35754-8680-4a13-8394-59852694ad4f div.sk-serial {display: flex;flex-direction: column;align-items: center;background-color: white;}#sk-b1c35754-8680-4a13-8394-59852694ad4f div.sk-item {z-index: 1;}#sk-b1c35754-8680-4a13-8394-59852694ad4f div.sk-parallel {display: flex;align-items: stretch;justify-content: center;background-color: white;}#sk-b1c35754-8680-4a13-8394-59852694ad4f div.sk-parallel-item {display: flex;flex-direction: column;position: relative;background-color: white;}#sk-b1c35754-8680-4a13-8394-59852694ad4f div.sk-parallel-item:first-child::after {align-self: flex-end;width: 50%;}#sk-b1c35754-8680-4a13-8394-59852694ad4f div.sk-parallel-item:last-child::after {align-self: flex-start;width: 50%;}#sk-b1c35754-8680-4a13-8394-59852694ad4f div.sk-parallel-item:only-child::after {width: 0;}#sk-b1c35754-8680-4a13-8394-59852694ad4f div.sk-dashed-wrapped {border: 1px dashed gray;margin: 0.2em;box-sizing: border-box;padding-bottom: 0.1em;background-color: white;position: relative;}#sk-b1c35754-8680-4a13-8394-59852694ad4f div.sk-label label {font-family: monospace;font-weight: bold;background-color: white;display: inline-block;line-height: 1.2em;}#sk-b1c35754-8680-4a13-8394-59852694ad4f div.sk-label-container {position: relative;z-index: 2;text-align: center;}#sk-b1c35754-8680-4a13-8394-59852694ad4f div.sk-container {display: inline-block;position: relative;}</style><div id=\"sk-b1c35754-8680-4a13-8394-59852694ad4f\" class\"sk-top-container\"><div class=\"sk-container\"><div class=\"sk-item sk-dashed-wrapped\"><div class=\"sk-label-container\"><div class=\"sk-label sk-toggleable\"><input class=\"sk-toggleable__control sk-hidden--visually\" id=\"6594e9c0-5e90-4979-8900-4bfeaa2eda50\" type=\"checkbox\" ><label class=\"sk-toggleable__label\" for=\"6594e9c0-5e90-4979-8900-4bfeaa2eda50\">ColumnTransformer</label><div class=\"sk-toggleable__content\"><pre>ColumnTransformer(transformers=[('onehot', OneHotEncoder(),\n",
       "                                 [0, 1, 4, 6, 7, 8, 10, 12]),\n",
       "                                ('ordinal', OrdinalEncoder(), [3, 5, 9, 11]),\n",
       "                                ('scaler', StandardScaler(), [2])])</pre></div></div></div><div class=\"sk-parallel\"><div class=\"sk-parallel-item\"><div class=\"sk-item\"><div class=\"sk-label-container\"><div class=\"sk-label sk-toggleable\"><input class=\"sk-toggleable__control sk-hidden--visually\" id=\"f552c7cc-cc81-4363-a381-c2f306300550\" type=\"checkbox\" ><label class=\"sk-toggleable__label\" for=\"f552c7cc-cc81-4363-a381-c2f306300550\">onehot</label><div class=\"sk-toggleable__content\"><pre>[0, 1, 4, 6, 7, 8, 10, 12]</pre></div></div></div><div class=\"sk-serial\"><div class=\"sk-item\"><div class=\"sk-estimator sk-toggleable\"><input class=\"sk-toggleable__control sk-hidden--visually\" id=\"80267743-5af2-44e8-a326-76a215123e46\" type=\"checkbox\" ><label class=\"sk-toggleable__label\" for=\"80267743-5af2-44e8-a326-76a215123e46\">OneHotEncoder</label><div class=\"sk-toggleable__content\"><pre>OneHotEncoder()</pre></div></div></div></div></div></div><div class=\"sk-parallel-item\"><div class=\"sk-item\"><div class=\"sk-label-container\"><div class=\"sk-label sk-toggleable\"><input class=\"sk-toggleable__control sk-hidden--visually\" id=\"d88b5788-9165-4943-a169-3cada9c3cfb8\" type=\"checkbox\" ><label class=\"sk-toggleable__label\" for=\"d88b5788-9165-4943-a169-3cada9c3cfb8\">ordinal</label><div class=\"sk-toggleable__content\"><pre>[3, 5, 9, 11]</pre></div></div></div><div class=\"sk-serial\"><div class=\"sk-item\"><div class=\"sk-estimator sk-toggleable\"><input class=\"sk-toggleable__control sk-hidden--visually\" id=\"96c8056e-a364-431a-bf4a-a690bca60fab\" type=\"checkbox\" ><label class=\"sk-toggleable__label\" for=\"96c8056e-a364-431a-bf4a-a690bca60fab\">OrdinalEncoder</label><div class=\"sk-toggleable__content\"><pre>OrdinalEncoder()</pre></div></div></div></div></div></div><div class=\"sk-parallel-item\"><div class=\"sk-item\"><div class=\"sk-label-container\"><div class=\"sk-label sk-toggleable\"><input class=\"sk-toggleable__control sk-hidden--visually\" id=\"dd86d10d-ca93-4988-a8cd-581caaad321b\" type=\"checkbox\" ><label class=\"sk-toggleable__label\" for=\"dd86d10d-ca93-4988-a8cd-581caaad321b\">scaler</label><div class=\"sk-toggleable__content\"><pre>[2]</pre></div></div></div><div class=\"sk-serial\"><div class=\"sk-item\"><div class=\"sk-estimator sk-toggleable\"><input class=\"sk-toggleable__control sk-hidden--visually\" id=\"ed1b09e1-176a-4e64-a394-a2cee122d318\" type=\"checkbox\" ><label class=\"sk-toggleable__label\" for=\"ed1b09e1-176a-4e64-a394-a2cee122d318\">StandardScaler</label><div class=\"sk-toggleable__content\"><pre>StandardScaler()</pre></div></div></div></div></div></div></div></div></div></div>"
      ],
      "text/plain": [
       "ColumnTransformer(transformers=[('onehot', OneHotEncoder(),\n",
       "                                 [0, 1, 4, 6, 7, 8, 10, 12]),\n",
       "                                ('ordinal', OrdinalEncoder(), [3, 5, 9, 11]),\n",
       "                                ('scaler', StandardScaler(), [2])])"
      ]
     },
     "execution_count": 66,
     "metadata": {},
     "output_type": "execute_result"
    }
   ],
   "source": [
    "from sklearn import set_config\n",
    "set_config(display='diagram')\n",
    "ct"
   ]
  },
  {
   "cell_type": "code",
   "execution_count": 67,
   "id": "fd4f89f7",
   "metadata": {},
   "outputs": [],
   "source": [
    "from sklearn.metrics import recall_score\n",
    "from sklearn.metrics import classification_report\n",
    "from sklearn.metrics import confusion_matrix\n",
    "from sklearn.linear_model import LogisticRegression\n",
    "from sklearn.model_selection import StratifiedShuffleSplit, StratifiedKFold\n",
    "from sklearn.model_selection import GridSearchCV\n",
    "from sklearn.naive_bayes import GaussianNB\n",
    "from sklearn.tree import DecisionTreeClassifier\n",
    "from sklearn.ensemble import RandomForestClassifier\n",
    "from sklearn.neighbors import KNeighborsClassifier\n",
    "from sklearn.metrics import confusion_matrix, ConfusionMatrixDisplay"
   ]
  },
  {
   "cell_type": "code",
   "execution_count": 68,
   "id": "f3e7f810",
   "metadata": {},
   "outputs": [
    {
     "name": "stdout",
     "output_type": "stream",
     "text": [
      "----------------- Обучили и тестировали (knk) -------------------\n",
      "Наилучшие параметры:\n",
      "{'n_neighbors': 1, 'p': 2, 'weights': 'uniform'}\n",
      "\n",
      "Средняя точность для наилучшей модели кроссвалидации на валидационных тестовых наборах: 0.220000\n",
      "\n",
      "Точность для наилучшей модели на тестовом наборе: 0.260000\n",
      "\n"
     ]
    }
   ],
   "source": [
    "knk = KNeighborsClassifier()\n",
    "\n",
    "Strat_KFold = StratifiedKFold(n_splits=10, random_state = 42, shuffle = True) \n",
    "\n",
    "n_neighbors = [1, 2, 4, 8, 10, 12, 14, 16, 18, 25, 40, 45]\n",
    "p = [1, 2, 3, 4, 6, 7, 8, 10, 12]\n",
    "weights = ['uniform', 'distance']\n",
    "\n",
    "params = {'n_neighbors': n_neighbors, \"p\":p, \"weights\":weights}\n",
    "\n",
    "grid = GridSearchCV(knk, params, scoring='recall', n_jobs=-1, \n",
    "                    cv=Strat_KFold, return_train_score=True)\n",
    "grid.fit(X_train, y_train)\n",
    "\n",
    "print(\"----------------- Обучили и тестировали (knk) -------------------\")\n",
    "print(\"Наилучшие параметры:\\n{}\\n\".format(grid.best_params_))\n",
    "print(\"Средняя точность для наилучшей модели кроссвалидации на валидационных тестовых наборах: {:.6f}\\n\".format(grid.best_score_)) \n",
    "print(\"Точность для наилучшей модели на тестовом наборе: {:.6f}\\n\".format(grid.score(X_test, y_test)))"
   ]
  },
  {
   "cell_type": "code",
   "execution_count": 69,
   "id": "f4f69481",
   "metadata": {},
   "outputs": [
    {
     "name": "stdout",
     "output_type": "stream",
     "text": [
      "----------------- Обучили и тестировали (logistic regression) -------------------\n",
      "Наилучшие параметры:\n",
      "{'C': 31.622776601683793}\n",
      "\n",
      "Средняя точность для наилучшей модели кроссвалидации на валидационных тестовых наборах: 0.275000\n",
      "\n",
      "Точность для наилучшей модели на тестовом наборе: 0.200000\n",
      "\n"
     ]
    }
   ],
   "source": [
    "# Setup the hyperparameter grid\n",
    "c_space = np.logspace(-5, 8, 15)\n",
    "param_grid = {'C': c_space}\n",
    "\n",
    "# Instantiate a logistic regression classifier: logreg\n",
    "logreg = LogisticRegression(max_iter=1000, random_state=42)\n",
    "\n",
    "# Instantiate the GridSearchCV object: logreg_cv\n",
    "grid1 = GridSearchCV(logreg, param_grid, n_jobs=-1, scoring = 'recall', \n",
    "                    cv=Strat_KFold)\n",
    "\n",
    "grid1.fit(X_train, y_train)\n",
    "\n",
    "print(\"----------------- Обучили и тестировали (logistic regression) -------------------\")\n",
    "print(\"Наилучшие параметры:\\n{}\\n\".format(grid1.best_params_))\n",
    "print(\"Средняя точность для наилучшей модели кроссвалидации на валидационных тестовых наборах: {:.6f}\\n\".format(grid1.best_score_)) \n",
    "print(\"Точность для наилучшей модели на тестовом наборе: {:.6f}\\n\".format(grid1.score(X_test, y_test)))"
   ]
  },
  {
   "cell_type": "code",
   "execution_count": 70,
   "id": "42e617e0",
   "metadata": {},
   "outputs": [
    {
     "name": "stdout",
     "output_type": "stream",
     "text": [
      "----------------- Обучили и тестировали (rangom forest) -------------------\n",
      "Наилучшие параметры:\n",
      "{'criterion': 'gini', 'max_depth': 7, 'max_features': 'auto', 'n_estimators': 1}\n",
      "\n",
      "Средняя точность для наилучшей модели кроссвалидации на валидационных тестовых наборах: 0.195000\n",
      "\n",
      "Точность для наилучшей модели на тестовом наборе: 0.133333\n",
      "\n"
     ]
    }
   ],
   "source": [
    "rfc=RandomForestClassifier(random_state=42)\n",
    "\n",
    "param_grid = { \n",
    "    'n_estimators': [1,2,5,10, 50],\n",
    "    'max_features': ['auto'],\n",
    "    'max_depth' : [4,5,6,7,8],\n",
    "    'criterion' :['gini']\n",
    "}\n",
    "\n",
    "grid2 = GridSearchCV(estimator=rfc, param_grid=param_grid, n_jobs=-1, scoring = 'recall', \n",
    "                    cv=Strat_KFold)\n",
    "\n",
    "grid2.fit(X_train, y_train)\n",
    "\n",
    "print(\"----------------- Обучили и тестировали (rangom forest) -------------------\")\n",
    "print(\"Наилучшие параметры:\\n{}\\n\".format(grid2.best_params_))\n",
    "print(\"Средняя точность для наилучшей модели кроссвалидации на валидационных тестовых наборах: {:.6f}\\n\".format(grid2.best_score_)) \n",
    "print(\"Точность для наилучшей модели на тестовом наборе: {:.6f}\\n\".format(grid2.score(X_test, y_test)))"
   ]
  },
  {
   "cell_type": "code",
   "execution_count": 71,
   "id": "dd4aa66e",
   "metadata": {},
   "outputs": [
    {
     "name": "stdout",
     "output_type": "stream",
     "text": [
      "----------------- Обучили и тестировали (Decision Tree) -------------------\n",
      "Наилучшие параметры:\n",
      "{'criterion': 'gini', 'max_depth': 9, 'splitter': 'best'}\n",
      "\n",
      "Средняя точность для наилучшей модели кроссвалидации на валидационных тестовых наборах: 0.340000\n",
      "\n",
      "Точность для наилучшей модели на тестовом наборе: 0.280000\n",
      "\n"
     ]
    }
   ],
   "source": [
    "dtc = DecisionTreeClassifier(random_state=42)\n",
    "tree_param = {'criterion':['gini','entropy'],'max_depth':[4,5,6,7,8,9,10,11,12,15,20],\n",
    "              'splitter': ['best','random']}\n",
    "\n",
    "\n",
    "grid3 = GridSearchCV(estimator=dtc, param_grid=tree_param, n_jobs=-1, scoring = 'recall', \n",
    "                    cv=Strat_KFold)\n",
    "\n",
    "grid3.fit(X_train, y_train)\n",
    "\n",
    "print(\"----------------- Обучили и тестировали (Decision Tree) -------------------\")\n",
    "print(\"Наилучшие параметры:\\n{}\\n\".format(grid3.best_params_))\n",
    "print(\"Средняя точность для наилучшей модели кроссвалидации на валидационных тестовых наборах: {:.6f}\\n\".format(grid3.best_score_)) \n",
    "print(\"Точность для наилучшей модели на тестовом наборе: {:.6f}\\n\".format(grid3.score(X_test, y_test)))"
   ]
  },
  {
   "cell_type": "code",
   "execution_count": 72,
   "id": "e8fd32e4",
   "metadata": {},
   "outputs": [
    {
     "name": "stdout",
     "output_type": "stream",
     "text": [
      "----------------- Обучили и тестировали (Naive Bayes) -------------------\n",
      "Наилучшие параметры:\n",
      "{'var_smoothing': 8.111308307896873e-08}\n",
      "\n",
      "Средняя точность для наилучшей модели кроссвалидации на валидационных тестовых наборах: 0.950000\n",
      "\n",
      "Точность для наилучшей модели на тестовом наборе: 0.926667\n",
      "\n"
     ]
    }
   ],
   "source": [
    "param_grid_nb = {\n",
    "    'var_smoothing': np.logspace(0,-9, num=100)\n",
    "}\n",
    "grid4 = GridSearchCV(estimator=GaussianNB(), param_grid=param_grid_nb, cv=Strat_KFold, n_jobs=-1,\n",
    "                    scoring = 'recall')\n",
    "grid4.fit(X_train, y_train)\n",
    "\n",
    "print(\"----------------- Обучили и тестировали (Naive Bayes) -------------------\")\n",
    "print(\"Наилучшие параметры:\\n{}\\n\".format(grid4.best_params_))\n",
    "print(\"Средняя точность для наилучшей модели кроссвалидации на валидационных тестовых наборах: {:.6f}\\n\".format(grid4.best_score_)) \n",
    "print(\"Точность для наилучшей модели на тестовом наборе: {:.6f}\\n\".format(grid4.score(X_test, y_test)))"
   ]
  },
  {
   "cell_type": "markdown",
   "id": "db808cf9",
   "metadata": {},
   "source": [
    "**Проверим, что мы сможем сделать на тестовой выборке, а именно**"
   ]
  },
  {
   "cell_type": "markdown",
   "id": "f08c27f3",
   "metadata": {},
   "source": [
    "# Classification report, Confusion matrix & Recall score"
   ]
  },
  {
   "cell_type": "code",
   "execution_count": 73,
   "id": "4722968c",
   "metadata": {},
   "outputs": [],
   "source": [
    "test_df.age = pd.cut(test_df.age.values, bins = bins_age, \n",
    "                    labels = ['1', '2', '3', '4', '5'])\n",
    "test_df.travel = [word[7:] if 'Travel_' in word else word for word in test_df.travel]\n",
    "test_df.travel = test_df.travel.astype('category')\n",
    "test_df.drop(['hrate', 'mrate'], axis = 1, inplace = True)\n",
    "test_df.dist = pd.cut(test_df.dist.values, bins = bins_dist, \n",
    "                    labels = ['1', '2', '3'])\n",
    "test_df.drop('id', axis = 1, inplace = True)\n",
    "test_df.envsat[test_df.envsat == 1] = 0\n",
    "test_df.envsat[[any([value == 2, value == 3, value == 4]) for value in test_df.envsat]] = 1\n",
    "test_df.envsat = test_df.envsat.astype('category')\n",
    "test_df.drop('gender', axis = 1, inplace=True)\n",
    "test_df.income = pd.cut(test_df.income.values, bins = bins_income, \n",
    "                    labels = ['1', '2', '3', '4'])\n",
    "test_df.drop('education', axis=1, inplace = True)\n",
    "test_df.dropna(inplace = True)"
   ]
  },
  {
   "cell_type": "code",
   "execution_count": 74,
   "id": "4e1acd39",
   "metadata": {},
   "outputs": [],
   "source": [
    "y_test = le.transform(test_df.target.values)\n",
    "\n",
    "X_test = ct.transform(test_df.drop('target', axis=1).values)"
   ]
  },
  {
   "cell_type": "markdown",
   "id": "587c6e8d",
   "metadata": {},
   "source": [
    "### Knn classifier"
   ]
  },
  {
   "cell_type": "code",
   "execution_count": 75,
   "id": "61d4c348",
   "metadata": {},
   "outputs": [
    {
     "name": "stdout",
     "output_type": "stream",
     "text": [
      "Classification report\n",
      "\n",
      "              precision    recall  f1-score   support\n",
      "\n",
      "           0       0.86      0.88      0.87       248\n",
      "           1       0.26      0.24      0.25        45\n",
      "\n",
      "    accuracy                           0.78       293\n",
      "   macro avg       0.56      0.56      0.56       293\n",
      "weighted avg       0.77      0.78      0.77       293\n",
      "\n",
      "Confusion matrix\n",
      "\n"
     ]
    },
    {
     "data": {
      "image/png": "[encoded data removed]",
      "text/plain": [
       "<Figure size 792x432 with 2 Axes>"
      ]
     },
     "metadata": {},
     "output_type": "display_data"
    },
    {
     "name": "stdout",
     "output_type": "stream",
     "text": [
      "Recall score is 0.24444444444444444\n"
     ]
    }
   ],
   "source": [
    "y_pred = grid.predict(X_test)\n",
    "print('Classification report\\n')\n",
    "print(classification_report(y_test, y_pred))\n",
    "print('Confusion matrix\\n')\n",
    "disp = ConfusionMatrixDisplay(confusion_matrix=confusion_matrix(y_test, y_pred),\n",
    "                               display_labels=['No', 'Yes']);\n",
    "disp.plot()\n",
    "plt.show()\n",
    "print('Recall score is {}'.format(recall_score(y_test, y_pred)))"
   ]
  },
  {
   "cell_type": "markdown",
   "id": "960349ed",
   "metadata": {},
   "source": [
    "### Logistic regression"
   ]
  },
  {
   "cell_type": "code",
   "execution_count": 76,
   "id": "9c5f16b9",
   "metadata": {},
   "outputs": [
    {
     "name": "stdout",
     "output_type": "stream",
     "text": [
      "Classification report\n",
      "\n",
      "              precision    recall  f1-score   support\n",
      "\n",
      "           0       0.88      0.96      0.92       248\n",
      "           1       0.52      0.27      0.35        45\n",
      "\n",
      "    accuracy                           0.85       293\n",
      "   macro avg       0.70      0.61      0.63       293\n",
      "weighted avg       0.82      0.85      0.83       293\n",
      "\n",
      "Confusion matrix\n",
      "\n"
     ]
    },
    {
     "data": {
      "image/png": "[encoded data removed]",
      "text/plain": [
       "<Figure size 792x432 with 2 Axes>"
      ]
     },
     "metadata": {},
     "output_type": "display_data"
    },
    {
     "name": "stdout",
     "output_type": "stream",
     "text": [
      "Recall score is 0.26666666666666666\n"
     ]
    }
   ],
   "source": [
    "y_pred = grid1.predict(X_test)\n",
    "print('Classification report\\n')\n",
    "print(classification_report(y_test, y_pred))\n",
    "print('Confusion matrix\\n')\n",
    "disp = ConfusionMatrixDisplay(confusion_matrix=confusion_matrix(y_test, y_pred),\n",
    "                               display_labels=['No', 'Yes']);\n",
    "disp.plot()\n",
    "plt.show()\n",
    "print('Recall score is {}'.format(recall_score(y_test, y_pred)))"
   ]
  },
  {
   "cell_type": "markdown",
   "id": "7c5bfda3",
   "metadata": {},
   "source": [
    "### Random Forest"
   ]
  },
  {
   "cell_type": "code",
   "execution_count": 77,
   "id": "3f87f3ab",
   "metadata": {},
   "outputs": [
    {
     "name": "stdout",
     "output_type": "stream",
     "text": [
      "Classification report\n",
      "\n",
      "              precision    recall  f1-score   support\n",
      "\n",
      "           0       0.87      0.92      0.89       248\n",
      "           1       0.34      0.24      0.29        45\n",
      "\n",
      "    accuracy                           0.81       293\n",
      "   macro avg       0.61      0.58      0.59       293\n",
      "weighted avg       0.79      0.81      0.80       293\n",
      "\n",
      "Confusion matrix\n",
      "\n"
     ]
    },
    {
     "data": {
      "image/png": "[encoded data removed]",
      "text/plain": [
       "<Figure size 792x432 with 2 Axes>"
      ]
     },
     "metadata": {},
     "output_type": "display_data"
    },
    {
     "name": "stdout",
     "output_type": "stream",
     "text": [
      "Recall score is 0.24444444444444444\n"
     ]
    }
   ],
   "source": [
    "y_pred = grid2.predict(X_test)\n",
    "print('Classification report\\n')\n",
    "print(classification_report(y_test, y_pred))\n",
    "print('Confusion matrix\\n')\n",
    "disp = ConfusionMatrixDisplay(confusion_matrix=confusion_matrix(y_test, y_pred),\n",
    "                               display_labels=['No', 'Yes']);\n",
    "disp.plot()\n",
    "plt.show()\n",
    "print('Recall score is {}'.format(recall_score(y_test, y_pred)))"
   ]
  },
  {
   "cell_type": "markdown",
   "id": "6972ac4b",
   "metadata": {},
   "source": [
    "### Decision Tree"
   ]
  },
  {
   "cell_type": "code",
   "execution_count": 78,
   "id": "e253b0c9",
   "metadata": {},
   "outputs": [
    {
     "name": "stdout",
     "output_type": "stream",
     "text": [
      "Classification report\n",
      "\n",
      "              precision    recall  f1-score   support\n",
      "\n",
      "           0       0.88      0.87      0.88       248\n",
      "           1       0.34      0.38      0.36        45\n",
      "\n",
      "    accuracy                           0.79       293\n",
      "   macro avg       0.61      0.62      0.62       293\n",
      "weighted avg       0.80      0.79      0.80       293\n",
      "\n",
      "Confusion matrix\n",
      "\n"
     ]
    },
    {
     "data": {
      "image/png": "[encoded data removed]",
      "text/plain": [
       "<Figure size 792x432 with 2 Axes>"
      ]
     },
     "metadata": {},
     "output_type": "display_data"
    },
    {
     "name": "stdout",
     "output_type": "stream",
     "text": [
      "Recall score is 0.37777777777777777\n"
     ]
    }
   ],
   "source": [
    "y_pred = grid3.predict(X_test)\n",
    "print('Classification report\\n')\n",
    "print(classification_report(y_test, y_pred))\n",
    "print('Confusion matrix\\n')\n",
    "disp = ConfusionMatrixDisplay(confusion_matrix=confusion_matrix(y_test, y_pred),\n",
    "                               display_labels=['No', 'Yes']);\n",
    "disp.plot()\n",
    "plt.show()\n",
    "print('Recall score is {}'.format(recall_score(y_test, y_pred)))"
   ]
  },
  {
   "cell_type": "markdown",
   "id": "29e08d11",
   "metadata": {},
   "source": [
    "### Naive Bayes"
   ]
  },
  {
   "cell_type": "code",
   "execution_count": 79,
   "id": "faff993e",
   "metadata": {},
   "outputs": [
    {
     "name": "stdout",
     "output_type": "stream",
     "text": [
      "Classification report\n",
      "\n",
      "              precision    recall  f1-score   support\n",
      "\n",
      "           0       0.96      0.26      0.41       248\n",
      "           1       0.19      0.93      0.31        45\n",
      "\n",
      "    accuracy                           0.37       293\n",
      "   macro avg       0.57      0.60      0.36       293\n",
      "weighted avg       0.84      0.37      0.40       293\n",
      "\n",
      "Confusion matrix\n",
      "\n"
     ]
    },
    {
     "data": {
      "image/png": "[encoded data removed]",
      "text/plain": [
       "<Figure size 792x432 with 2 Axes>"
      ]
     },
     "metadata": {},
     "output_type": "display_data"
    },
    {
     "name": "stdout",
     "output_type": "stream",
     "text": [
      "Recall score is 0.9333333333333333\n"
     ]
    }
   ],
   "source": [
    "y_pred = grid4.predict(X_test)\n",
    "print('Classification report\\n')\n",
    "print(classification_report(y_test, y_pred))\n",
    "print('Confusion matrix\\n')\n",
    "disp = ConfusionMatrixDisplay(confusion_matrix=confusion_matrix(y_test, y_pred),\n",
    "                               display_labels=['No', 'Yes']);\n",
    "disp.plot()\n",
    "plt.show()\n",
    "print('Recall score is {}'.format(recall_score(y_test, y_pred)))"
   ]
  },
  {
   "cell_type": "markdown",
   "id": "eb0518fb",
   "metadata": {},
   "source": [
    "_Итог_: мы смогли, используя только половину данных (половину полей мы \"дропнули\", потому что не стали их обрабатывать), получить **>90% полноты**, то есть мы имеем модель, которая в среднем позволяет нам находить 90 из 100 морально и физически уставших сотрудников, что наверное неплохо. В этом нам помог наивный Байес, которому мы скормили практически только категориальные данные."
   ]
  },
  {
   "cell_type": "markdown",
   "id": "fbc8cf5d",
   "metadata": {},
   "source": [
    "# Важно отметить\n",
    "\n",
    "Все, что сделано выше, можно было бы сделать и лучше. Мы не проверяли предпосылки, которые по-хорошему стоило бы проверять и не использовали сильные и слабые стороны различных моделей. Помимо этого мы не использовали эконометрику (МНК и другие модели). Думаю, что если все сделать в лучшем виде, можно попытаться добиться полноты на уровне -> 1. Но это уже другая история :)\n",
    "\n",
    "Спасибо за внимание!"
   ]
  }
 ],
 "metadata": {
  "kernelspec": {
   "display_name": "Python 3",
   "language": "python",
   "name": "python3"
  },
  "language_info": {
   "codemirror_mode": {
    "name": "ipython",
    "version": 3
   },
   "file_extension": ".py",
   "mimetype": "text/x-python",
   "name": "python",
   "nbconvert_exporter": "python",
   "pygments_lexer": "ipython3",
   "version": "3.8.8"
  }
 },
 "nbformat": 4,
 "nbformat_minor": 5
}
