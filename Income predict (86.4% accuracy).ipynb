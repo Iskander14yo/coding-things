{
 "cells": [
  {
   "cell_type": "code",
   "execution_count": 25,
   "id": "b3f27f3d",
   "metadata": {},
   "outputs": [],
   "source": [
    "import numpy as np\n",
    "import pandas as pd\n",
    "import warnings\n",
    "import matplotlib.pyplot as plt\n",
    "import seaborn as sns\n",
    "warnings.filterwarnings(\"ignore\")\n",
    "from IPython.display import display\n",
    "from countryinfo import CountryInfo\n",
    "from sklearn.pipeline import Pipeline, make_pipeline\n",
    "from sklearn.preprocessing import MinMaxScaler, StandardScaler, RobustScaler, Normalizer\n",
    "from sklearn.model_selection import train_test_split, cross_val_score, GridSearchCV, KFold\n",
    "from sklearn.neighbors import KNeighborsClassifier\n",
    "from sklearn.preprocessing import OrdinalEncoder\n",
    "from sklearn.compose import make_column_selector\n",
    "from sklearn.compose import ColumnTransformer\n",
    "from sklearn.preprocessing import OneHotEncoder\n",
    "from sklearn.preprocessing import LabelEncoder\n",
    "from sklearn.preprocessing import StandardScaler\n",
    "from sklearn.model_selection import StratifiedShuffleSplit, StratifiedKFold\n",
    "from sklearn.metrics import ConfusionMatrixDisplay\n",
    "from sklearn.metrics import classification_report\n",
    "from sklearn.metrics import confusion_matrix\n",
    "from sklearn.metrics import balanced_accuracy_score\n",
    "from sklearn.metrics import accuracy_score\n",
    "from sklearn.tree import DecisionTreeClassifier\n",
    "from sklearn.linear_model import LogisticRegression\n",
    "from sklearn.ensemble import RandomForestClassifier\n",
    "from sklearn.metrics import roc_auc_score\n",
    "from sklearn.compose import make_column_transformer"
   ]
  },
  {
   "cell_type": "code",
   "execution_count": 26,
   "id": "bfa9e6cf",
   "metadata": {},
   "outputs": [
    {
     "data": {
      "text/html": [
       "<div>\n",
       "<style scoped>\n",
       "    .dataframe tbody tr th:only-of-type {\n",
       "        vertical-align: middle;\n",
       "    }\n",
       "\n",
       "    .dataframe tbody tr th {\n",
       "        vertical-align: top;\n",
       "    }\n",
       "\n",
       "    .dataframe thead th {\n",
       "        text-align: right;\n",
       "    }\n",
       "</style>\n",
       "<table border=\"1\" class=\"dataframe\">\n",
       "  <thead>\n",
       "    <tr style=\"text-align: right;\">\n",
       "      <th></th>\n",
       "      <th>age</th>\n",
       "      <th>workclass</th>\n",
       "      <th>fnlwgt</th>\n",
       "      <th>education</th>\n",
       "      <th>education-num</th>\n",
       "      <th>marital-status</th>\n",
       "      <th>occupation</th>\n",
       "      <th>relationship</th>\n",
       "      <th>race</th>\n",
       "      <th>sex</th>\n",
       "      <th>capital-gain</th>\n",
       "      <th>capital-loss</th>\n",
       "      <th>hours-per-week</th>\n",
       "      <th>native-country</th>\n",
       "      <th>income</th>\n",
       "    </tr>\n",
       "  </thead>\n",
       "  <tbody>\n",
       "    <tr>\n",
       "      <th>0</th>\n",
       "      <td>33</td>\n",
       "      <td>Local-gov</td>\n",
       "      <td>198183</td>\n",
       "      <td>Bachelors</td>\n",
       "      <td>13</td>\n",
       "      <td>Never-married</td>\n",
       "      <td>Prof-specialty</td>\n",
       "      <td>Not-in-family</td>\n",
       "      <td>White</td>\n",
       "      <td>Female</td>\n",
       "      <td>0</td>\n",
       "      <td>0</td>\n",
       "      <td>50</td>\n",
       "      <td>United-States</td>\n",
       "      <td>&gt;50K</td>\n",
       "    </tr>\n",
       "    <tr>\n",
       "      <th>1</th>\n",
       "      <td>36</td>\n",
       "      <td>Private</td>\n",
       "      <td>86459</td>\n",
       "      <td>Assoc-voc</td>\n",
       "      <td>11</td>\n",
       "      <td>Married-civ-spouse</td>\n",
       "      <td>Exec-managerial</td>\n",
       "      <td>Husband</td>\n",
       "      <td>White</td>\n",
       "      <td>Male</td>\n",
       "      <td>0</td>\n",
       "      <td>1887</td>\n",
       "      <td>50</td>\n",
       "      <td>United-States</td>\n",
       "      <td>&gt;50K</td>\n",
       "    </tr>\n",
       "    <tr>\n",
       "      <th>2</th>\n",
       "      <td>58</td>\n",
       "      <td>Self-emp-not-inc</td>\n",
       "      <td>203039</td>\n",
       "      <td>9th</td>\n",
       "      <td>5</td>\n",
       "      <td>Separated</td>\n",
       "      <td>Craft-repair</td>\n",
       "      <td>Not-in-family</td>\n",
       "      <td>White</td>\n",
       "      <td>Male</td>\n",
       "      <td>0</td>\n",
       "      <td>0</td>\n",
       "      <td>40</td>\n",
       "      <td>United-States</td>\n",
       "      <td>&lt;=50K</td>\n",
       "    </tr>\n",
       "    <tr>\n",
       "      <th>3</th>\n",
       "      <td>21</td>\n",
       "      <td>Private</td>\n",
       "      <td>180190</td>\n",
       "      <td>Assoc-voc</td>\n",
       "      <td>11</td>\n",
       "      <td>Married-civ-spouse</td>\n",
       "      <td>Farming-fishing</td>\n",
       "      <td>Husband</td>\n",
       "      <td>White</td>\n",
       "      <td>Male</td>\n",
       "      <td>0</td>\n",
       "      <td>0</td>\n",
       "      <td>46</td>\n",
       "      <td>United-States</td>\n",
       "      <td>&lt;=50K</td>\n",
       "    </tr>\n",
       "    <tr>\n",
       "      <th>4</th>\n",
       "      <td>27</td>\n",
       "      <td>Private</td>\n",
       "      <td>279872</td>\n",
       "      <td>Some-college</td>\n",
       "      <td>10</td>\n",
       "      <td>Divorced</td>\n",
       "      <td>Other-service</td>\n",
       "      <td>Not-in-family</td>\n",
       "      <td>White</td>\n",
       "      <td>Male</td>\n",
       "      <td>0</td>\n",
       "      <td>0</td>\n",
       "      <td>40</td>\n",
       "      <td>United-States</td>\n",
       "      <td>&lt;=50K</td>\n",
       "    </tr>\n",
       "    <tr>\n",
       "      <th>...</th>\n",
       "      <td>...</td>\n",
       "      <td>...</td>\n",
       "      <td>...</td>\n",
       "      <td>...</td>\n",
       "      <td>...</td>\n",
       "      <td>...</td>\n",
       "      <td>...</td>\n",
       "      <td>...</td>\n",
       "      <td>...</td>\n",
       "      <td>...</td>\n",
       "      <td>...</td>\n",
       "      <td>...</td>\n",
       "      <td>...</td>\n",
       "      <td>...</td>\n",
       "      <td>...</td>\n",
       "    </tr>\n",
       "    <tr>\n",
       "      <th>26043</th>\n",
       "      <td>47</td>\n",
       "      <td>Private</td>\n",
       "      <td>359461</td>\n",
       "      <td>Bachelors</td>\n",
       "      <td>13</td>\n",
       "      <td>Married-civ-spouse</td>\n",
       "      <td>Craft-repair</td>\n",
       "      <td>Husband</td>\n",
       "      <td>White</td>\n",
       "      <td>Male</td>\n",
       "      <td>0</td>\n",
       "      <td>0</td>\n",
       "      <td>40</td>\n",
       "      <td>United-States</td>\n",
       "      <td>&lt;=50K</td>\n",
       "    </tr>\n",
       "    <tr>\n",
       "      <th>26044</th>\n",
       "      <td>31</td>\n",
       "      <td>Private</td>\n",
       "      <td>147215</td>\n",
       "      <td>12th</td>\n",
       "      <td>8</td>\n",
       "      <td>Divorced</td>\n",
       "      <td>Other-service</td>\n",
       "      <td>Unmarried</td>\n",
       "      <td>White</td>\n",
       "      <td>Female</td>\n",
       "      <td>0</td>\n",
       "      <td>0</td>\n",
       "      <td>21</td>\n",
       "      <td>United-States</td>\n",
       "      <td>&lt;=50K</td>\n",
       "    </tr>\n",
       "    <tr>\n",
       "      <th>26045</th>\n",
       "      <td>18</td>\n",
       "      <td>Private</td>\n",
       "      <td>216284</td>\n",
       "      <td>11th</td>\n",
       "      <td>7</td>\n",
       "      <td>Never-married</td>\n",
       "      <td>Adm-clerical</td>\n",
       "      <td>Own-child</td>\n",
       "      <td>White</td>\n",
       "      <td>Female</td>\n",
       "      <td>0</td>\n",
       "      <td>0</td>\n",
       "      <td>20</td>\n",
       "      <td>United-States</td>\n",
       "      <td>&lt;=50K</td>\n",
       "    </tr>\n",
       "    <tr>\n",
       "      <th>26046</th>\n",
       "      <td>50</td>\n",
       "      <td>Self-emp-not-inc</td>\n",
       "      <td>54261</td>\n",
       "      <td>HS-grad</td>\n",
       "      <td>9</td>\n",
       "      <td>Married-civ-spouse</td>\n",
       "      <td>Farming-fishing</td>\n",
       "      <td>Husband</td>\n",
       "      <td>White</td>\n",
       "      <td>Male</td>\n",
       "      <td>0</td>\n",
       "      <td>0</td>\n",
       "      <td>84</td>\n",
       "      <td>United-States</td>\n",
       "      <td>&lt;=50K</td>\n",
       "    </tr>\n",
       "    <tr>\n",
       "      <th>26047</th>\n",
       "      <td>34</td>\n",
       "      <td>Self-emp-inc</td>\n",
       "      <td>127651</td>\n",
       "      <td>Bachelors</td>\n",
       "      <td>13</td>\n",
       "      <td>Divorced</td>\n",
       "      <td>Farming-fishing</td>\n",
       "      <td>Not-in-family</td>\n",
       "      <td>White</td>\n",
       "      <td>Male</td>\n",
       "      <td>0</td>\n",
       "      <td>0</td>\n",
       "      <td>60</td>\n",
       "      <td>United-States</td>\n",
       "      <td>&lt;=50K</td>\n",
       "    </tr>\n",
       "  </tbody>\n",
       "</table>\n",
       "<p>26048 rows × 15 columns</p>\n",
       "</div>"
      ],
      "text/plain": [
       "       age         workclass  fnlwgt     education  education-num  \\\n",
       "0       33         Local-gov  198183     Bachelors             13   \n",
       "1       36           Private   86459     Assoc-voc             11   \n",
       "2       58  Self-emp-not-inc  203039           9th              5   \n",
       "3       21           Private  180190     Assoc-voc             11   \n",
       "4       27           Private  279872  Some-college             10   \n",
       "...    ...               ...     ...           ...            ...   \n",
       "26043   47           Private  359461     Bachelors             13   \n",
       "26044   31           Private  147215          12th              8   \n",
       "26045   18           Private  216284          11th              7   \n",
       "26046   50  Self-emp-not-inc   54261       HS-grad              9   \n",
       "26047   34      Self-emp-inc  127651     Bachelors             13   \n",
       "\n",
       "           marital-status       occupation   relationship   race     sex  \\\n",
       "0           Never-married   Prof-specialty  Not-in-family  White  Female   \n",
       "1      Married-civ-spouse  Exec-managerial        Husband  White    Male   \n",
       "2               Separated     Craft-repair  Not-in-family  White    Male   \n",
       "3      Married-civ-spouse  Farming-fishing        Husband  White    Male   \n",
       "4                Divorced    Other-service  Not-in-family  White    Male   \n",
       "...                   ...              ...            ...    ...     ...   \n",
       "26043  Married-civ-spouse     Craft-repair        Husband  White    Male   \n",
       "26044            Divorced    Other-service      Unmarried  White  Female   \n",
       "26045       Never-married     Adm-clerical      Own-child  White  Female   \n",
       "26046  Married-civ-spouse  Farming-fishing        Husband  White    Male   \n",
       "26047            Divorced  Farming-fishing  Not-in-family  White    Male   \n",
       "\n",
       "       capital-gain  capital-loss  hours-per-week native-country income  \n",
       "0                 0             0              50  United-States   >50K  \n",
       "1                 0          1887              50  United-States   >50K  \n",
       "2                 0             0              40  United-States  <=50K  \n",
       "3                 0             0              46  United-States  <=50K  \n",
       "4                 0             0              40  United-States  <=50K  \n",
       "...             ...           ...             ...            ...    ...  \n",
       "26043             0             0              40  United-States  <=50K  \n",
       "26044             0             0              21  United-States  <=50K  \n",
       "26045             0             0              20  United-States  <=50K  \n",
       "26046             0             0              84  United-States  <=50K  \n",
       "26047             0             0              60  United-States  <=50K  \n",
       "\n",
       "[26048 rows x 15 columns]"
      ]
     },
     "execution_count": 26,
     "metadata": {},
     "output_type": "execute_result"
    }
   ],
   "source": [
    "df = pd.read_csv('income_train.txt')\n",
    "cols = df.columns\n",
    "df"
   ]
  },
  {
   "cell_type": "code",
   "execution_count": 27,
   "id": "cdc63f92",
   "metadata": {},
   "outputs": [
    {
     "data": {
      "text/plain": [
       "(26048, 15)"
      ]
     },
     "execution_count": 27,
     "metadata": {},
     "output_type": "execute_result"
    }
   ],
   "source": [
    "df.shape"
   ]
  },
  {
   "cell_type": "code",
   "execution_count": 28,
   "id": "7ef4dd72",
   "metadata": {},
   "outputs": [
    {
     "data": {
      "text/html": [
       "<div>\n",
       "<style scoped>\n",
       "    .dataframe tbody tr th:only-of-type {\n",
       "        vertical-align: middle;\n",
       "    }\n",
       "\n",
       "    .dataframe tbody tr th {\n",
       "        vertical-align: top;\n",
       "    }\n",
       "\n",
       "    .dataframe thead th {\n",
       "        text-align: right;\n",
       "    }\n",
       "</style>\n",
       "<table border=\"1\" class=\"dataframe\">\n",
       "  <thead>\n",
       "    <tr style=\"text-align: right;\">\n",
       "      <th></th>\n",
       "      <th>types</th>\n",
       "      <th>memory</th>\n",
       "    </tr>\n",
       "  </thead>\n",
       "  <tbody>\n",
       "    <tr>\n",
       "      <th>age</th>\n",
       "      <td>int64</td>\n",
       "      <td>208384</td>\n",
       "    </tr>\n",
       "    <tr>\n",
       "      <th>workclass</th>\n",
       "      <td>object</td>\n",
       "      <td>1689948</td>\n",
       "    </tr>\n",
       "    <tr>\n",
       "      <th>fnlwgt</th>\n",
       "      <td>int64</td>\n",
       "      <td>208384</td>\n",
       "    </tr>\n",
       "    <tr>\n",
       "      <th>education</th>\n",
       "      <td>object</td>\n",
       "      <td>1704424</td>\n",
       "    </tr>\n",
       "    <tr>\n",
       "      <th>education-num</th>\n",
       "      <td>int64</td>\n",
       "      <td>208384</td>\n",
       "    </tr>\n",
       "    <tr>\n",
       "      <th>marital-status</th>\n",
       "      <td>object</td>\n",
       "      <td>1860553</td>\n",
       "    </tr>\n",
       "    <tr>\n",
       "      <th>occupation</th>\n",
       "      <td>object</td>\n",
       "      <td>1802843</td>\n",
       "    </tr>\n",
       "    <tr>\n",
       "      <th>relationship</th>\n",
       "      <td>object</td>\n",
       "      <td>1722159</td>\n",
       "    </tr>\n",
       "    <tr>\n",
       "      <th>race</th>\n",
       "      <td>object</td>\n",
       "      <td>1629094</td>\n",
       "    </tr>\n",
       "    <tr>\n",
       "      <th>sex</th>\n",
       "      <td>object</td>\n",
       "      <td>1606218</td>\n",
       "    </tr>\n",
       "    <tr>\n",
       "      <th>capital-gain</th>\n",
       "      <td>int64</td>\n",
       "      <td>208384</td>\n",
       "    </tr>\n",
       "    <tr>\n",
       "      <th>capital-loss</th>\n",
       "      <td>int64</td>\n",
       "      <td>208384</td>\n",
       "    </tr>\n",
       "    <tr>\n",
       "      <th>hours-per-week</th>\n",
       "      <td>int64</td>\n",
       "      <td>208384</td>\n",
       "    </tr>\n",
       "    <tr>\n",
       "      <th>native-country</th>\n",
       "      <td>object</td>\n",
       "      <td>1804965</td>\n",
       "    </tr>\n",
       "    <tr>\n",
       "      <th>income</th>\n",
       "      <td>object</td>\n",
       "      <td>1608706</td>\n",
       "    </tr>\n",
       "  </tbody>\n",
       "</table>\n",
       "</div>"
      ],
      "text/plain": [
       "                 types   memory\n",
       "age              int64   208384\n",
       "workclass       object  1689948\n",
       "fnlwgt           int64   208384\n",
       "education       object  1704424\n",
       "education-num    int64   208384\n",
       "marital-status  object  1860553\n",
       "occupation      object  1802843\n",
       "relationship    object  1722159\n",
       "race            object  1629094\n",
       "sex             object  1606218\n",
       "capital-gain     int64   208384\n",
       "capital-loss     int64   208384\n",
       "hours-per-week   int64   208384\n",
       "native-country  object  1804965\n",
       "income          object  1608706"
      ]
     },
     "metadata": {},
     "output_type": "display_data"
    },
    {
     "name": "stdout",
     "output_type": "stream",
     "text": [
      "memory usage was 16679214\n"
     ]
    }
   ],
   "source": [
    "m1 = pd.DataFrame(data = {'types': df.dtypes.values, 'memory': df.memory_usage(deep=True).values[1:]},\n",
    "            index = df.columns)\n",
    "display(m1)\n",
    "print('memory usage was {}'.format((sum(m1.memory))))"
   ]
  },
  {
   "cell_type": "code",
   "execution_count": 29,
   "id": "55e7b135",
   "metadata": {},
   "outputs": [],
   "source": [
    "df[df.select_dtypes(include=['int64', \n",
    "                               'float64']).columns] = df[df.select_dtypes(include=\n",
    "                                                                          ['int64', 'float64']).columns].apply(pd.to_numeric, \n",
    "                                                                                                                         downcast=\"float\")\n",
    "\n",
    "df[\"workclass\"] = df[\"workclass\"].astype(\"category\")\n",
    "df[\"education\"] = df[\"education\"].astype(\"category\")\n",
    "df[\"marital-status\"] = df[\"marital-status\"].astype(\"category\")\n",
    "df[\"occupation\"] = df[\"occupation\"].astype(\"category\")\n",
    "df[\"relationship\"] = df[\"relationship\"].astype(\"category\")\n",
    "df[\"race\"] = df[\"race\"].astype(\"category\")\n",
    "df[\"sex\"] = df[\"sex\"].astype(\"category\")\n",
    "df[\"native-country\"] = df[\"native-country\"].astype(\"category\")"
   ]
  },
  {
   "cell_type": "code",
   "execution_count": 30,
   "id": "9bf79f7c",
   "metadata": {},
   "outputs": [
    {
     "data": {
      "text/html": [
       "<div>\n",
       "<style scoped>\n",
       "    .dataframe tbody tr th:only-of-type {\n",
       "        vertical-align: middle;\n",
       "    }\n",
       "\n",
       "    .dataframe tbody tr th {\n",
       "        vertical-align: top;\n",
       "    }\n",
       "\n",
       "    .dataframe thead th {\n",
       "        text-align: right;\n",
       "    }\n",
       "</style>\n",
       "<table border=\"1\" class=\"dataframe\">\n",
       "  <thead>\n",
       "    <tr style=\"text-align: right;\">\n",
       "      <th></th>\n",
       "      <th>types</th>\n",
       "      <th>memory</th>\n",
       "    </tr>\n",
       "  </thead>\n",
       "  <tbody>\n",
       "    <tr>\n",
       "      <th>age</th>\n",
       "      <td>float32</td>\n",
       "      <td>104192</td>\n",
       "    </tr>\n",
       "    <tr>\n",
       "      <th>workclass</th>\n",
       "      <td>category</td>\n",
       "      <td>26949</td>\n",
       "    </tr>\n",
       "    <tr>\n",
       "      <th>fnlwgt</th>\n",
       "      <td>float32</td>\n",
       "      <td>104192</td>\n",
       "    </tr>\n",
       "    <tr>\n",
       "      <th>education</th>\n",
       "      <td>category</td>\n",
       "      <td>27635</td>\n",
       "    </tr>\n",
       "    <tr>\n",
       "      <th>education-num</th>\n",
       "      <td>float32</td>\n",
       "      <td>104192</td>\n",
       "    </tr>\n",
       "    <tr>\n",
       "      <th>marital-status</th>\n",
       "      <td>category</td>\n",
       "      <td>26840</td>\n",
       "    </tr>\n",
       "    <tr>\n",
       "      <th>occupation</th>\n",
       "      <td>category</td>\n",
       "      <td>27650</td>\n",
       "    </tr>\n",
       "    <tr>\n",
       "      <th>relationship</th>\n",
       "      <td>category</td>\n",
       "      <td>26618</td>\n",
       "    </tr>\n",
       "    <tr>\n",
       "      <th>race</th>\n",
       "      <td>category</td>\n",
       "      <td>26556</td>\n",
       "    </tr>\n",
       "    <tr>\n",
       "      <th>sex</th>\n",
       "      <td>category</td>\n",
       "      <td>26280</td>\n",
       "    </tr>\n",
       "    <tr>\n",
       "      <th>capital-gain</th>\n",
       "      <td>float32</td>\n",
       "      <td>104192</td>\n",
       "    </tr>\n",
       "    <tr>\n",
       "      <th>capital-loss</th>\n",
       "      <td>float32</td>\n",
       "      <td>104192</td>\n",
       "    </tr>\n",
       "    <tr>\n",
       "      <th>hours-per-week</th>\n",
       "      <td>float32</td>\n",
       "      <td>104192</td>\n",
       "    </tr>\n",
       "    <tr>\n",
       "      <th>native-country</th>\n",
       "      <td>category</td>\n",
       "      <td>29849</td>\n",
       "    </tr>\n",
       "    <tr>\n",
       "      <th>income</th>\n",
       "      <td>object</td>\n",
       "      <td>1608706</td>\n",
       "    </tr>\n",
       "  </tbody>\n",
       "</table>\n",
       "</div>"
      ],
      "text/plain": [
       "                   types   memory\n",
       "age              float32   104192\n",
       "workclass       category    26949\n",
       "fnlwgt           float32   104192\n",
       "education       category    27635\n",
       "education-num    float32   104192\n",
       "marital-status  category    26840\n",
       "occupation      category    27650\n",
       "relationship    category    26618\n",
       "race            category    26556\n",
       "sex             category    26280\n",
       "capital-gain     float32   104192\n",
       "capital-loss     float32   104192\n",
       "hours-per-week   float32   104192\n",
       "native-country  category    29849\n",
       "income            object  1608706"
      ]
     },
     "metadata": {},
     "output_type": "display_data"
    },
    {
     "name": "stdout",
     "output_type": "stream",
     "text": [
      "memory usage is 16679214\n"
     ]
    }
   ],
   "source": [
    "m2 = pd.DataFrame(data = {'types': df.dtypes.values, 'memory': df.memory_usage(deep=True).values[1:]},\n",
    "            index = df.columns)\n",
    "display(m2)\n",
    "print('memory usage is {}'.format((sum(m1.memory))))\n",
    "# уменьшение использование памяти в 8 раз\n",
    "# будет удобно при обучении"
   ]
  },
  {
   "cell_type": "markdown",
   "id": "1d3c168f",
   "metadata": {},
   "source": [
    "# Preprocess"
   ]
  },
  {
   "cell_type": "code",
   "execution_count": 31,
   "id": "ceab22bc",
   "metadata": {},
   "outputs": [
    {
     "name": "stdout",
     "output_type": "stream",
     "text": [
      "<class 'pandas.core.frame.DataFrame'>\n",
      "RangeIndex: 26048 entries, 0 to 26047\n",
      "Data columns (total 15 columns):\n",
      " #   Column          Non-Null Count  Dtype   \n",
      "---  ------          --------------  -----   \n",
      " 0   age             26048 non-null  float32 \n",
      " 1   workclass       26048 non-null  category\n",
      " 2   fnlwgt          26048 non-null  float32 \n",
      " 3   education       26048 non-null  category\n",
      " 4   education-num   26048 non-null  float32 \n",
      " 5   marital-status  26048 non-null  category\n",
      " 6   occupation      26048 non-null  category\n",
      " 7   relationship    26048 non-null  category\n",
      " 8   race            26048 non-null  category\n",
      " 9   sex             26048 non-null  category\n",
      " 10  capital-gain    26048 non-null  float32 \n",
      " 11  capital-loss    26048 non-null  float32 \n",
      " 12  hours-per-week  26048 non-null  float32 \n",
      " 13  native-country  26048 non-null  category\n",
      " 14  income          26048 non-null  object  \n",
      "dtypes: category(8), float32(6), object(1)\n",
      "memory usage: 1021.6+ KB\n"
     ]
    }
   ],
   "source": [
    "df.info()"
   ]
  },
  {
   "cell_type": "code",
   "execution_count": 32,
   "id": "158ac2b2",
   "metadata": {},
   "outputs": [
    {
     "data": {
      "text/html": [
       "<div>\n",
       "<style scoped>\n",
       "    .dataframe tbody tr th:only-of-type {\n",
       "        vertical-align: middle;\n",
       "    }\n",
       "\n",
       "    .dataframe tbody tr th {\n",
       "        vertical-align: top;\n",
       "    }\n",
       "\n",
       "    .dataframe thead th {\n",
       "        text-align: right;\n",
       "    }\n",
       "</style>\n",
       "<table border=\"1\" class=\"dataframe\">\n",
       "  <thead>\n",
       "    <tr style=\"text-align: right;\">\n",
       "      <th></th>\n",
       "      <th>age</th>\n",
       "      <th>fnlwgt</th>\n",
       "      <th>education-num</th>\n",
       "      <th>capital-gain</th>\n",
       "      <th>capital-loss</th>\n",
       "      <th>hours-per-week</th>\n",
       "    </tr>\n",
       "  </thead>\n",
       "  <tbody>\n",
       "    <tr>\n",
       "      <th>count</th>\n",
       "      <td>26048.000000</td>\n",
       "      <td>2.604800e+04</td>\n",
       "      <td>26048.000000</td>\n",
       "      <td>26048.000000</td>\n",
       "      <td>26048.000000</td>\n",
       "      <td>26048.000000</td>\n",
       "    </tr>\n",
       "    <tr>\n",
       "      <th>mean</th>\n",
       "      <td>38.576511</td>\n",
       "      <td>1.897595e+05</td>\n",
       "      <td>10.080544</td>\n",
       "      <td>1053.618164</td>\n",
       "      <td>87.988831</td>\n",
       "      <td>40.388554</td>\n",
       "    </tr>\n",
       "    <tr>\n",
       "      <th>std</th>\n",
       "      <td>13.642913</td>\n",
       "      <td>1.052327e+05</td>\n",
       "      <td>2.575094</td>\n",
       "      <td>7230.416016</td>\n",
       "      <td>403.577179</td>\n",
       "      <td>12.331894</td>\n",
       "    </tr>\n",
       "    <tr>\n",
       "      <th>min</th>\n",
       "      <td>17.000000</td>\n",
       "      <td>1.228500e+04</td>\n",
       "      <td>1.000000</td>\n",
       "      <td>0.000000</td>\n",
       "      <td>0.000000</td>\n",
       "      <td>1.000000</td>\n",
       "    </tr>\n",
       "    <tr>\n",
       "      <th>25%</th>\n",
       "      <td>28.000000</td>\n",
       "      <td>1.179630e+05</td>\n",
       "      <td>9.000000</td>\n",
       "      <td>0.000000</td>\n",
       "      <td>0.000000</td>\n",
       "      <td>40.000000</td>\n",
       "    </tr>\n",
       "    <tr>\n",
       "      <th>50%</th>\n",
       "      <td>37.000000</td>\n",
       "      <td>1.782635e+05</td>\n",
       "      <td>10.000000</td>\n",
       "      <td>0.000000</td>\n",
       "      <td>0.000000</td>\n",
       "      <td>40.000000</td>\n",
       "    </tr>\n",
       "    <tr>\n",
       "      <th>75%</th>\n",
       "      <td>48.000000</td>\n",
       "      <td>2.370065e+05</td>\n",
       "      <td>12.000000</td>\n",
       "      <td>0.000000</td>\n",
       "      <td>0.000000</td>\n",
       "      <td>45.000000</td>\n",
       "    </tr>\n",
       "    <tr>\n",
       "      <th>max</th>\n",
       "      <td>90.000000</td>\n",
       "      <td>1.484705e+06</td>\n",
       "      <td>16.000000</td>\n",
       "      <td>99999.000000</td>\n",
       "      <td>4356.000000</td>\n",
       "      <td>99.000000</td>\n",
       "    </tr>\n",
       "  </tbody>\n",
       "</table>\n",
       "</div>"
      ],
      "text/plain": [
       "                age        fnlwgt  education-num  capital-gain  capital-loss  \\\n",
       "count  26048.000000  2.604800e+04   26048.000000  26048.000000  26048.000000   \n",
       "mean      38.576511  1.897595e+05      10.080544   1053.618164     87.988831   \n",
       "std       13.642913  1.052327e+05       2.575094   7230.416016    403.577179   \n",
       "min       17.000000  1.228500e+04       1.000000      0.000000      0.000000   \n",
       "25%       28.000000  1.179630e+05       9.000000      0.000000      0.000000   \n",
       "50%       37.000000  1.782635e+05      10.000000      0.000000      0.000000   \n",
       "75%       48.000000  2.370065e+05      12.000000      0.000000      0.000000   \n",
       "max       90.000000  1.484705e+06      16.000000  99999.000000   4356.000000   \n",
       "\n",
       "       hours-per-week  \n",
       "count    26048.000000  \n",
       "mean        40.388554  \n",
       "std         12.331894  \n",
       "min          1.000000  \n",
       "25%         40.000000  \n",
       "50%         40.000000  \n",
       "75%         45.000000  \n",
       "max         99.000000  "
      ]
     },
     "execution_count": 32,
     "metadata": {},
     "output_type": "execute_result"
    }
   ],
   "source": [
    "df.describe()"
   ]
  },
  {
   "cell_type": "markdown",
   "id": "ac101971",
   "metadata": {},
   "source": [
    "### Target"
   ]
  },
  {
   "cell_type": "code",
   "execution_count": 33,
   "id": "c8bdb138",
   "metadata": {},
   "outputs": [],
   "source": [
    "df.loc[df.income == '>50K', 'income'] = 1\n",
    "df.loc[df.income == '<=50K', 'income'] = 0\n",
    "df.income = df.income.astype('category')"
   ]
  },
  {
   "cell_type": "markdown",
   "id": "8ba395c1",
   "metadata": {},
   "source": [
    "### Age"
   ]
  },
  {
   "cell_type": "code",
   "execution_count": 34,
   "id": "236fa131",
   "metadata": {},
   "outputs": [
    {
     "data": {
      "text/plain": [
       "79.0    19\n",
       "80.0    17\n",
       "81.0    15\n",
       "82.0     9\n",
       "83.0     5\n",
       "84.0     6\n",
       "85.0     2\n",
       "86.0     1\n",
       "87.0     1\n",
       "88.0     3\n",
       "Name: age, dtype: int64"
      ]
     },
     "execution_count": 34,
     "metadata": {},
     "output_type": "execute_result"
    }
   ],
   "source": [
    "df.age.value_counts().tail(10).sort_index()"
   ]
  },
  {
   "cell_type": "code",
   "execution_count": 35,
   "id": "48de6efa",
   "metadata": {
    "scrolled": true
   },
   "outputs": [
    {
     "data": {
      "image/png": "[encoded data removed]",
      "text/plain": [
       "<Figure size 432x288 with 1 Axes>"
      ]
     },
     "metadata": {
      "needs_background": "light"
     },
     "output_type": "display_data"
    }
   ],
   "source": [
    "sns.histplot(df.age, discrete = True);\n",
    "# нужно будет пройтись robust_scaler"
   ]
  },
  {
   "cell_type": "code",
   "execution_count": 36,
   "id": "665489b2",
   "metadata": {
    "scrolled": true
   },
   "outputs": [
    {
     "data": {
      "image/png": "[encoded data removed]",
      "text/plain": [
       "<Figure size 432x288 with 1 Axes>"
      ]
     },
     "metadata": {
      "needs_background": "light"
     },
     "output_type": "display_data"
    }
   ],
   "source": [
    "df.groupby(['age', 'income']).count().workclass.plot(kind = 'bar', rot=90);"
   ]
  },
  {
   "cell_type": "code",
   "execution_count": 37,
   "id": "09f329e6",
   "metadata": {},
   "outputs": [],
   "source": [
    "# bins = [16,23,27,35,47,90]\n",
    "# for xc in bins:\n",
    "#     plt.axvline(x=xc+1.5, color='k', linestyle='-')\n",
    "# sns.histplot(df.age, discrete = True);"
   ]
  },
  {
   "cell_type": "code",
   "execution_count": 38,
   "id": "79ba1f5f",
   "metadata": {
    "scrolled": true
   },
   "outputs": [],
   "source": [
    "# cats_age, bins_age = pd.cut(df.age.values, bins = bins, \n",
    "#                     labels = ['1', '2', '3', '4', '5'], retbins = True)\n",
    "# df.age = cats_age"
   ]
  },
  {
   "cell_type": "code",
   "execution_count": 39,
   "id": "b3eb79bc",
   "metadata": {},
   "outputs": [
    {
     "data": {
      "image/png": "[encoded data removed]",
      "text/plain": [
       "<Figure size 432x288 with 1 Axes>"
      ]
     },
     "metadata": {
      "needs_background": "light"
     },
     "output_type": "display_data"
    }
   ],
   "source": [
    "df.groupby(['age', 'income']).count().workclass.plot(kind = 'bar', rot=90);"
   ]
  },
  {
   "cell_type": "markdown",
   "id": "3658beab",
   "metadata": {},
   "source": [
    "### Workclass"
   ]
  },
  {
   "cell_type": "code",
   "execution_count": 40,
   "id": "e52c2ade",
   "metadata": {},
   "outputs": [
    {
     "data": {
      "text/plain": [
       "Private             18118\n",
       "Self-emp-not-inc     2043\n",
       "Local-gov            1706\n",
       "?                    1447\n",
       "State-gov            1044\n",
       "Self-emp-inc          904\n",
       "Federal-gov           769\n",
       "Without-pay            10\n",
       "Never-worked            7\n",
       "Name: workclass, dtype: int64"
      ]
     },
     "execution_count": 40,
     "metadata": {},
     "output_type": "execute_result"
    }
   ],
   "source": [
    "df.workclass.value_counts()"
   ]
  },
  {
   "cell_type": "markdown",
   "id": "58b50b4d",
   "metadata": {},
   "source": [
    "**'?' в данной таблице == na**"
   ]
  },
  {
   "cell_type": "code",
   "execution_count": 41,
   "id": "51a751a6",
   "metadata": {},
   "outputs": [
    {
     "data": {
      "image/png": "[encoded data removed]",
      "text/plain": [
       "<Figure size 432x288 with 1 Axes>"
      ]
     },
     "metadata": {
      "needs_background": "light"
     },
     "output_type": "display_data"
    }
   ],
   "source": [
    "df.workclass.value_counts().plot(kind = 'bar', rot = 30);"
   ]
  },
  {
   "cell_type": "code",
   "execution_count": 42,
   "id": "482a1812",
   "metadata": {},
   "outputs": [],
   "source": [
    "# # 1. varik : Классы without pay и never worked сами по себе достаточно небольшие и будут создавать дисбаланс в моделях\n",
    "df.workclass = ['no money' if value == 'Without-pay' or value == 'Never-worked' else value for value in df.workclass]"
   ]
  },
  {
   "cell_type": "code",
   "execution_count": 43,
   "id": "0cceb4f3",
   "metadata": {},
   "outputs": [],
   "source": [
    "# 2. varik:\n",
    "# df = df.loc[(df.workclass != 'Without-pay') & (df.workclass != 'Never-worked'), :]"
   ]
  },
  {
   "cell_type": "markdown",
   "id": "b4e7d2c0",
   "metadata": {},
   "source": [
    "### Fnlwgt"
   ]
  },
  {
   "cell_type": "code",
   "execution_count": 44,
   "id": "18eacb36",
   "metadata": {},
   "outputs": [
    {
     "data": {
      "image/png": "[encoded data removed]",
      "text/plain": [
       "<Figure size 432x288 with 1 Axes>"
      ]
     },
     "metadata": {
      "needs_background": "light"
     },
     "output_type": "display_data"
    }
   ],
   "source": [
    "sns.histplot(df.fnlwgt);"
   ]
  },
  {
   "cell_type": "code",
   "execution_count": 45,
   "id": "d3549a29",
   "metadata": {},
   "outputs": [
    {
     "data": {
      "text/html": [
       "<div>\n",
       "<style scoped>\n",
       "    .dataframe tbody tr th:only-of-type {\n",
       "        vertical-align: middle;\n",
       "    }\n",
       "\n",
       "    .dataframe tbody tr th {\n",
       "        vertical-align: top;\n",
       "    }\n",
       "\n",
       "    .dataframe thead th {\n",
       "        text-align: right;\n",
       "    }\n",
       "</style>\n",
       "<table border=\"1\" class=\"dataframe\">\n",
       "  <thead>\n",
       "    <tr style=\"text-align: right;\">\n",
       "      <th></th>\n",
       "      <th>age</th>\n",
       "      <th>workclass</th>\n",
       "      <th>fnlwgt</th>\n",
       "      <th>education</th>\n",
       "      <th>education-num</th>\n",
       "      <th>marital-status</th>\n",
       "      <th>occupation</th>\n",
       "      <th>relationship</th>\n",
       "      <th>race</th>\n",
       "      <th>sex</th>\n",
       "      <th>capital-gain</th>\n",
       "      <th>capital-loss</th>\n",
       "      <th>hours-per-week</th>\n",
       "      <th>native-country</th>\n",
       "      <th>income</th>\n",
       "    </tr>\n",
       "  </thead>\n",
       "  <tbody>\n",
       "    <tr>\n",
       "      <th>11600</th>\n",
       "      <td>25.0</td>\n",
       "      <td>Private</td>\n",
       "      <td>1484705.0</td>\n",
       "      <td>Some-college</td>\n",
       "      <td>10.0</td>\n",
       "      <td>Divorced</td>\n",
       "      <td>Exec-managerial</td>\n",
       "      <td>Unmarried</td>\n",
       "      <td>White</td>\n",
       "      <td>Female</td>\n",
       "      <td>0.0</td>\n",
       "      <td>0.0</td>\n",
       "      <td>25.0</td>\n",
       "      <td>United-States</td>\n",
       "      <td>0</td>\n",
       "    </tr>\n",
       "  </tbody>\n",
       "</table>\n",
       "</div>"
      ],
      "text/plain": [
       "        age workclass     fnlwgt     education  education-num marital-status  \\\n",
       "11600  25.0   Private  1484705.0  Some-college           10.0       Divorced   \n",
       "\n",
       "            occupation relationship   race     sex  capital-gain  \\\n",
       "11600  Exec-managerial    Unmarried  White  Female           0.0   \n",
       "\n",
       "       capital-loss  hours-per-week native-country income  \n",
       "11600           0.0            25.0  United-States      0  "
      ]
     },
     "execution_count": 45,
     "metadata": {},
     "output_type": "execute_result"
    }
   ],
   "source": [
    "df.loc[df.fnlwgt == max(df.fnlwgt), :]"
   ]
  },
  {
   "cell_type": "code",
   "execution_count": 46,
   "id": "2d1fbe88",
   "metadata": {},
   "outputs": [],
   "source": [
    "# ???? что с этим делать\n",
    "df.drop('fnlwgt', axis = 1, inplace = True);"
   ]
  },
  {
   "cell_type": "markdown",
   "id": "7dc85cc3",
   "metadata": {},
   "source": [
    "### Education"
   ]
  },
  {
   "cell_type": "code",
   "execution_count": 47,
   "id": "bc9892b4",
   "metadata": {},
   "outputs": [
    {
     "data": {
      "text/plain": [
       "HS-grad         8416\n",
       "Some-college    5806\n",
       "Bachelors       4302\n",
       "Masters         1354\n",
       "Assoc-voc       1109\n",
       "11th             950\n",
       "Assoc-acdm       869\n",
       "10th             750\n",
       "7th-8th          505\n",
       "Prof-school      460\n",
       "9th              399\n",
       "Doctorate        336\n",
       "12th             335\n",
       "5th-6th          271\n",
       "1st-4th          145\n",
       "Preschool         41\n",
       "Name: education, dtype: int64"
      ]
     },
     "execution_count": 47,
     "metadata": {},
     "output_type": "execute_result"
    }
   ],
   "source": [
    "df.education.value_counts()"
   ]
  },
  {
   "cell_type": "code",
   "execution_count": 48,
   "id": "3f5d2fc0",
   "metadata": {},
   "outputs": [
    {
     "data": {
      "text/plain": [
       "education     income\n",
       "10th          0          700\n",
       "              1           50\n",
       "11th          0          901\n",
       "              1           49\n",
       "12th          0          307\n",
       "              1           28\n",
       "1st-4th       0          139\n",
       "              1            6\n",
       "5th-6th       0          259\n",
       "              1           12\n",
       "7th-8th       0          471\n",
       "              1           34\n",
       "9th           0          375\n",
       "              1           24\n",
       "Assoc-acdm    0          651\n",
       "              1          218\n",
       "Assoc-voc     0          811\n",
       "              1          298\n",
       "Bachelors     0         2531\n",
       "              1         1771\n",
       "Doctorate     0           87\n",
       "              1          249\n",
       "HS-grad       0         7086\n",
       "              1         1330\n",
       "Masters       0          602\n",
       "              1          752\n",
       "Preschool     0           41\n",
       "              1            0\n",
       "Prof-school   0          121\n",
       "              1          339\n",
       "Some-college  0         4696\n",
       "              1         1110\n",
       "Name: age, dtype: int64"
      ]
     },
     "execution_count": 48,
     "metadata": {},
     "output_type": "execute_result"
    }
   ],
   "source": [
    "df.groupby(['education', 'income']).count().age"
   ]
  },
  {
   "cell_type": "code",
   "execution_count": 49,
   "id": "dec2d060",
   "metadata": {},
   "outputs": [
    {
     "data": {
      "image/png": "[encoded data removed]",
      "text/plain": [
       "<Figure size 432x288 with 1 Axes>"
      ]
     },
     "metadata": {
      "needs_background": "light"
     },
     "output_type": "display_data"
    }
   ],
   "source": [
    "df.groupby(['education', 'income']).count().age.plot(kind = 'bar', rot = 90);"
   ]
  },
  {
   "cell_type": "code",
   "execution_count": 50,
   "id": "0831202c",
   "metadata": {},
   "outputs": [],
   "source": [
    "df.education = ['pre-4th' if value == 'Preschool' or value == '1st-4th' else value for value in df.education]\n",
    "df.education = ['5th-8th' if value == '5th-6th' or value == '7th-8th' else value for value in df.education]\n",
    "df.education = ['9th-12th' if value == '9th' or value == '10th' or value == '11th' or value == '12th'\n",
    "                else value for value in df.education]\n",
    "df.education = ['Assoc' if value == 'Assoc-acdm' or value == 'Assoc-voc' else value for value in df.education]"
   ]
  },
  {
   "cell_type": "code",
   "execution_count": 51,
   "id": "4d8238df",
   "metadata": {},
   "outputs": [
    {
     "data": {
      "text/plain": [
       "education     income\n",
       "5th-8th       0          730\n",
       "              1           46\n",
       "9th-12th      0         2283\n",
       "              1          151\n",
       "Assoc         0         1462\n",
       "              1          516\n",
       "Bachelors     0         2531\n",
       "              1         1771\n",
       "Doctorate     0           87\n",
       "              1          249\n",
       "HS-grad       0         7086\n",
       "              1         1330\n",
       "Masters       0          602\n",
       "              1          752\n",
       "Prof-school   0          121\n",
       "              1          339\n",
       "Some-college  0         4696\n",
       "              1         1110\n",
       "pre-4th       0          180\n",
       "              1            6\n",
       "Name: age, dtype: int64"
      ]
     },
     "execution_count": 51,
     "metadata": {},
     "output_type": "execute_result"
    }
   ],
   "source": [
    "df.groupby(['education', 'income']).count().age"
   ]
  },
  {
   "cell_type": "markdown",
   "id": "c8df59b7",
   "metadata": {},
   "source": [
    "### Education-num"
   ]
  },
  {
   "cell_type": "code",
   "execution_count": 52,
   "id": "7d37bb5c",
   "metadata": {},
   "outputs": [],
   "source": [
    "# labeled 'education'\n",
    "df.drop('education-num', axis = 1, inplace = True)"
   ]
  },
  {
   "cell_type": "markdown",
   "id": "8c813dfe",
   "metadata": {},
   "source": [
    "### Marital Status"
   ]
  },
  {
   "cell_type": "code",
   "execution_count": 53,
   "id": "0dfb8b0e",
   "metadata": {},
   "outputs": [
    {
     "data": {
      "text/plain": [
       "marital-status         income\n",
       "Divorced               0         3163\n",
       "                       1          360\n",
       "Married-AF-spouse      0           12\n",
       "                       1            7\n",
       "Married-civ-spouse     0         6650\n",
       "                       1         5376\n",
       "Married-spouse-absent  0          296\n",
       "                       1           26\n",
       "Never-married          0         8169\n",
       "                       1          388\n",
       "Separated              0          769\n",
       "                       1           47\n",
       "Widowed                0          719\n",
       "                       1           66\n",
       "Name: age, dtype: int64"
      ]
     },
     "execution_count": 53,
     "metadata": {},
     "output_type": "execute_result"
    }
   ],
   "source": [
    "df.groupby(['marital-status', 'income']).count().age"
   ]
  },
  {
   "cell_type": "code",
   "execution_count": 54,
   "id": "7d4152ec",
   "metadata": {},
   "outputs": [],
   "source": [
    "df = df.loc[~(df['marital-status'] == 'Married-AF-spouse'), :]"
   ]
  },
  {
   "cell_type": "markdown",
   "id": "5852860a",
   "metadata": {},
   "source": [
    "### Ocupation"
   ]
  },
  {
   "cell_type": "code",
   "execution_count": 55,
   "id": "7b2e9cd9",
   "metadata": {},
   "outputs": [
    {
     "data": {
      "text/plain": [
       "Prof-specialty       3311\n",
       "Craft-repair         3276\n",
       "Exec-managerial      3228\n",
       "Adm-clerical         3039\n",
       "Sales                2919\n",
       "Other-service        2624\n",
       "Machine-op-inspct    1624\n",
       "?                    1452\n",
       "Transport-moving     1279\n",
       "Handlers-cleaners    1097\n",
       "Farming-fishing       800\n",
       "Tech-support          739\n",
       "Protective-serv       512\n",
       "Priv-house-serv       123\n",
       "Armed-Forces            6\n",
       "Name: occupation, dtype: int64"
      ]
     },
     "execution_count": 55,
     "metadata": {},
     "output_type": "execute_result"
    }
   ],
   "source": [
    "df.occupation.value_counts()"
   ]
  },
  {
   "cell_type": "code",
   "execution_count": 56,
   "id": "53de622b",
   "metadata": {},
   "outputs": [],
   "source": [
    "df = df.loc[~(df.occupation == 'Armed-Forces'), :]"
   ]
  },
  {
   "cell_type": "markdown",
   "id": "ed290db5",
   "metadata": {},
   "source": [
    "### Relationship"
   ]
  },
  {
   "cell_type": "code",
   "execution_count": 57,
   "id": "d03d48e2",
   "metadata": {},
   "outputs": [
    {
     "data": {
      "text/plain": [
       "Husband           10596\n",
       "Not-in-family      6600\n",
       "Own-child          4047\n",
       "Unmarried          2744\n",
       "Wife               1236\n",
       "Other-relative      800\n",
       "Name: relationship, dtype: int64"
      ]
     },
     "execution_count": 57,
     "metadata": {},
     "output_type": "execute_result"
    }
   ],
   "source": [
    "df.relationship.value_counts()"
   ]
  },
  {
   "cell_type": "markdown",
   "id": "76e564e6",
   "metadata": {},
   "source": [
    "### Race"
   ]
  },
  {
   "cell_type": "code",
   "execution_count": 58,
   "id": "b6f5ecaa",
   "metadata": {},
   "outputs": [
    {
     "data": {
      "text/plain": [
       "White                 22199\n",
       "Black                  2523\n",
       "Asian-Pac-Islander      846\n",
       "Amer-Indian-Eskimo      239\n",
       "Other                   216\n",
       "Name: race, dtype: int64"
      ]
     },
     "execution_count": 58,
     "metadata": {},
     "output_type": "execute_result"
    }
   ],
   "source": [
    "df.race.value_counts()"
   ]
  },
  {
   "cell_type": "markdown",
   "id": "9a7a9c92",
   "metadata": {},
   "source": [
    "### Sex"
   ]
  },
  {
   "cell_type": "code",
   "execution_count": 59,
   "id": "924ac6ec",
   "metadata": {},
   "outputs": [
    {
     "data": {
      "text/plain": [
       "Male      17390\n",
       "Female     8633\n",
       "Name: sex, dtype: int64"
      ]
     },
     "execution_count": 59,
     "metadata": {},
     "output_type": "execute_result"
    }
   ],
   "source": [
    "df.sex.value_counts()"
   ]
  },
  {
   "cell_type": "markdown",
   "id": "9966d53e",
   "metadata": {},
   "source": [
    "### Capital-gain \\ loss"
   ]
  },
  {
   "cell_type": "code",
   "execution_count": 60,
   "id": "7f6bd560",
   "metadata": {},
   "outputs": [
    {
     "data": {
      "image/png": "[encoded data removed]",
      "text/plain": [
       "<Figure size 432x288 with 1 Axes>"
      ]
     },
     "metadata": {
      "needs_background": "light"
     },
     "output_type": "display_data"
    }
   ],
   "source": [
    "sns.histplot(df['capital-gain']);"
   ]
  },
  {
   "cell_type": "code",
   "execution_count": 61,
   "id": "9da5ffa7",
   "metadata": {},
   "outputs": [
    {
     "data": {
      "image/png": "[encoded data removed]",
      "text/plain": [
       "<Figure size 432x288 with 1 Axes>"
      ]
     },
     "metadata": {
      "needs_background": "light"
     },
     "output_type": "display_data"
    }
   ],
   "source": [
    "sns.histplot(df['capital-loss']);"
   ]
  },
  {
   "cell_type": "code",
   "execution_count": 62,
   "id": "4ca63c25",
   "metadata": {},
   "outputs": [],
   "source": [
    "df['diff'] = df['capital-gain'] - df['capital-loss']\n",
    "df.drop(['capital-gain', 'capital-loss'], axis=1, inplace = True);"
   ]
  },
  {
   "cell_type": "markdown",
   "id": "5ad53b90",
   "metadata": {},
   "source": [
    "### Hours-per-week"
   ]
  },
  {
   "cell_type": "code",
   "execution_count": 63,
   "id": "12cdda21",
   "metadata": {},
   "outputs": [
    {
     "data": {
      "text/plain": [
       "40.0    12182\n",
       "50.0     2259\n",
       "45.0     1453\n",
       "60.0     1151\n",
       "35.0     1062\n",
       "        ...  \n",
       "82.0        1\n",
       "74.0        1\n",
       "88.0        1\n",
       "92.0        1\n",
       "87.0        1\n",
       "Name: hours-per-week, Length: 93, dtype: int64"
      ]
     },
     "execution_count": 63,
     "metadata": {},
     "output_type": "execute_result"
    }
   ],
   "source": [
    "df['hours-per-week'].value_counts()"
   ]
  },
  {
   "cell_type": "code",
   "execution_count": 64,
   "id": "c206a650",
   "metadata": {},
   "outputs": [],
   "source": [
    "# bins = [1,19, 39.5, 40, 60, 100]\n",
    "# for xc in bins:\n",
    "#     plt.axvline(x=xc+0.5, color='k', linestyle='--')\n",
    "# sns.histplot(df['hours-per-week'][df['hours-per-week'] != 40]);"
   ]
  },
  {
   "cell_type": "code",
   "execution_count": 65,
   "id": "5ca776bc",
   "metadata": {},
   "outputs": [],
   "source": [
    "# cats_hours, bins_hours = pd.cut(df['hours-per-week'].values, bins = bins, \n",
    "#                     labels = ['1', '2', '3', '4', '5'], retbins = True)\n",
    "# df['hours-per-week'] = cats_hours"
   ]
  },
  {
   "cell_type": "code",
   "execution_count": 66,
   "id": "0f1b8aee",
   "metadata": {},
   "outputs": [],
   "source": [
    "# df.groupby(['hours-per-week', 'income']).count().age"
   ]
  },
  {
   "cell_type": "markdown",
   "id": "1cfd3f5e",
   "metadata": {},
   "source": [
    "### Native-country"
   ]
  },
  {
   "cell_type": "code",
   "execution_count": 67,
   "id": "92b80dbd",
   "metadata": {},
   "outputs": [
    {
     "data": {
      "text/plain": [
       "United-States                 23275\n",
       "Mexico                          529\n",
       "?                               458\n",
       "Philippines                     163\n",
       "Germany                         105\n",
       "Canada                           99\n",
       "Puerto-Rico                      92\n",
       "El-Salvador                      86\n",
       "India                            79\n",
       "Cuba                             76\n",
       "England                          76\n",
       "Jamaica                          68\n",
       "South                            67\n",
       "Vietnam                          62\n",
       "Dominican-Republic               62\n",
       "Italy                            59\n",
       "China                            57\n",
       "Columbia                         53\n",
       "Guatemala                        51\n",
       "Japan                            51\n",
       "Poland                           46\n",
       "Taiwan                           40\n",
       "Haiti                            38\n",
       "Iran                             31\n",
       "Portugal                         31\n",
       "Nicaragua                        27\n",
       "Peru                             26\n",
       "France                           24\n",
       "Ecuador                          23\n",
       "Greece                           22\n",
       "Ireland                          19\n",
       "Cambodia                         16\n",
       "Trinadad&Tobago                  16\n",
       "Outlying-US(Guam-USVI-etc)       14\n",
       "Laos                             14\n",
       "Yugoslavia                       14\n",
       "Thailand                         13\n",
       "Hong                             12\n",
       "Hungary                          10\n",
       "Scotland                          9\n",
       "Honduras                          9\n",
       "Holand-Netherlands                1\n",
       "Name: native-country, dtype: int64"
      ]
     },
     "execution_count": 67,
     "metadata": {},
     "output_type": "execute_result"
    }
   ],
   "source": [
    "df['native-country'].value_counts()"
   ]
  },
  {
   "cell_type": "code",
   "execution_count": 68,
   "id": "5c9b3d47",
   "metadata": {},
   "outputs": [
    {
     "name": "stdout",
     "output_type": "stream",
     "text": [
      "Exceptions \n",
      "\n",
      "United-States\n",
      "?\n",
      "Columbia\n",
      "El-Salvador\n",
      "South\n",
      "Dominican-Republic\n",
      "England\n",
      "Puerto-Rico\n",
      "Scotland\n",
      "Yugoslavia\n",
      "Trinadad&Tobago\n",
      "Hong\n",
      "Outlying-US(Guam-USVI-etc)\n",
      "Holand-Netherlands\n"
     ]
    }
   ],
   "source": [
    "# Разобьем по регионам\n",
    "d = dict()\n",
    "print('Exceptions \\n')\n",
    "for i in df['native-country'].unique():\n",
    "    try:\n",
    "        region = CountryInfo(i).region()\n",
    "        if region in d.keys() : \n",
    "            d.update({region:d[region] + [i]})\n",
    "        else : \n",
    "            d[region] = [i]\n",
    "    except KeyError: \n",
    "        print(i)"
   ]
  },
  {
   "cell_type": "code",
   "execution_count": 69,
   "id": "c49c9e7a",
   "metadata": {},
   "outputs": [
    {
     "name": "stdout",
     "output_type": "stream",
     "text": [
      "{'Americas': ['Mexico', 'Cuba', 'Haiti', 'Jamaica', 'Nicaragua', 'Peru', 'Canada', 'Ecuador', 'Guatemala', 'Honduras', 'Columbia', 'El-Salvador', 'Dominican-Republic', 'Puerto-Rico', 'Trinadad&Tobago', 'Outlying-US(Guam-USVI-etc)'], 'Asia': ['Philippines', 'India', 'Vietnam', 'Cambodia', 'China', 'Thailand', 'Japan', 'Laos', 'Taiwan', 'Iran', 'Hong'], 'Europe': ['Italy', 'Portugal', 'Ireland', 'France', 'Germany', 'Greece', 'Poland', 'Hungary', 'England', 'Scotland', 'Yugoslavia', 'Holand-Netherlands']}\n"
     ]
    }
   ],
   "source": [
    "# region = CountryInfo('United States').region()\n",
    "# d.update({region:d[region] + ['United-States']})\n",
    "region = CountryInfo('Colombia').region()\n",
    "d.update({region:d[region] + ['Columbia']})\n",
    "region = CountryInfo('El Salvador').region()\n",
    "d.update({region:d[region] + ['El-Salvador']})\n",
    "#\n",
    "region = CountryInfo('Dominican Republic').region()\n",
    "d.update({region:d[region] + ['Dominican-Republic']})\n",
    "region = CountryInfo('UK').region()\n",
    "d.update({region:d[region] + ['England']})\n",
    "region = CountryInfo('Puerto Rico').region()\n",
    "d.update({region:d[region] + ['Puerto-Rico']})\n",
    "#\n",
    "d.update({'Europe': d['Europe'] + ['Scotland']})\n",
    "d.update({'Europe': d['Europe'] + ['Yugoslavia']})\n",
    "d.update({'Asia': d['Asia'] + ['Hong']})\n",
    "# d.update({'?':'?'})\n",
    "#\n",
    "region = CountryInfo('Trinidad and Tobago').region()\n",
    "d.update({region:d[region] + ['Trinadad&Tobago']})\n",
    "region = CountryInfo('United States').region()\n",
    "d.update({region:d[region] + ['Outlying-US(Guam-USVI-etc)']})\n",
    "region = CountryInfo('Netherlands').region()\n",
    "d.update({region:d[region] + ['Holand-Netherlands']})\n",
    "print(d)"
   ]
  },
  {
   "cell_type": "code",
   "execution_count": 70,
   "id": "72aee174",
   "metadata": {},
   "outputs": [],
   "source": [
    "new_dict = {vi: k  for k, v in d.items() for vi in v}\n",
    "new_dict['South'] = 'South'\n",
    "new_dict['United-States'] = 'United-States'\n",
    "new_dict['?'] = '?'"
   ]
  },
  {
   "cell_type": "code",
   "execution_count": 71,
   "id": "3fbf128b",
   "metadata": {},
   "outputs": [],
   "source": [
    "df['native-country'] = df['native-country'].map(new_dict)"
   ]
  },
  {
   "cell_type": "code",
   "execution_count": 72,
   "id": "98662614",
   "metadata": {},
   "outputs": [
    {
     "data": {
      "text/plain": [
       "native-country  income\n",
       "?               0           343\n",
       "                1           115\n",
       "Americas        0          1146\n",
       "                1           123\n",
       "Asia            0           380\n",
       "                1           158\n",
       "Europe          0           292\n",
       "                1           124\n",
       "South           0            53\n",
       "                1            14\n",
       "United-States   0         17546\n",
       "                1          5729\n",
       "Name: age, dtype: int64"
      ]
     },
     "execution_count": 72,
     "metadata": {},
     "output_type": "execute_result"
    }
   ],
   "source": [
    "df.groupby(['native-country', 'income']).count().age"
   ]
  },
  {
   "cell_type": "markdown",
   "id": "6706c021",
   "metadata": {},
   "source": [
    "### Nan\\`s"
   ]
  },
  {
   "cell_type": "code",
   "execution_count": 73,
   "id": "48381502",
   "metadata": {},
   "outputs": [],
   "source": [
    "# df = df.replace('?', np.nan).dropna();"
   ]
  },
  {
   "cell_type": "code",
   "execution_count": 74,
   "id": "4a31dc62",
   "metadata": {},
   "outputs": [],
   "source": [
    "# col_with_symbol = ['workclass', 'occupation', 'native-country']\n",
    "# for col in col_with_symbol:\n",
    "#     df[col].fillna(df[col].mode()[0], inplace=True)"
   ]
  },
  {
   "cell_type": "code",
   "execution_count": 75,
   "id": "4c812a07",
   "metadata": {},
   "outputs": [],
   "source": [
    "# # Filling the missing values in Age with the medians of Sex and Pclass groups\n",
    "# df.workclass = df.groupby(['age'])['workclass'].apply(lambda x: x.fillna(x.mode()))\n",
    "# df.occupation = df.groupby(['age'])['workclass'].apply(lambda x: x.fillna(x.mode()))\n",
    "# df['native-country'] = df.groupby(['age'])['workclass'].apply(lambda x: x.fillna(x.mode()))"
   ]
  },
  {
   "cell_type": "code",
   "execution_count": 76,
   "id": "c13f9093",
   "metadata": {},
   "outputs": [],
   "source": [
    "df.workclass = ['nan' if value == '?' else value for value in df.workclass]\n",
    "df.occupation = ['nan' if value == '?' else value for value in df.occupation]\n",
    "df['native-country'] = ['nan' if value == '?' else value for value in df['native-country']]"
   ]
  },
  {
   "cell_type": "code",
   "execution_count": 77,
   "id": "987b6ced",
   "metadata": {},
   "outputs": [
    {
     "data": {
      "text/plain": [
       "(26023, 12)"
      ]
     },
     "execution_count": 77,
     "metadata": {},
     "output_type": "execute_result"
    }
   ],
   "source": [
    "df.shape"
   ]
  },
  {
   "cell_type": "markdown",
   "id": "96a103ce",
   "metadata": {},
   "source": [
    "### End of data manipulation"
   ]
  },
  {
   "cell_type": "markdown",
   "id": "f63adcce",
   "metadata": {},
   "source": [
    "# Data preprocessing and modelling"
   ]
  },
  {
   "cell_type": "code",
   "execution_count": 78,
   "id": "eb644d4c",
   "metadata": {},
   "outputs": [
    {
     "data": {
      "text/html": [
       "<div>\n",
       "<style scoped>\n",
       "    .dataframe tbody tr th:only-of-type {\n",
       "        vertical-align: middle;\n",
       "    }\n",
       "\n",
       "    .dataframe tbody tr th {\n",
       "        vertical-align: top;\n",
       "    }\n",
       "\n",
       "    .dataframe thead th {\n",
       "        text-align: right;\n",
       "    }\n",
       "</style>\n",
       "<table border=\"1\" class=\"dataframe\">\n",
       "  <thead>\n",
       "    <tr style=\"text-align: right;\">\n",
       "      <th></th>\n",
       "      <th>age</th>\n",
       "      <th>workclass</th>\n",
       "      <th>education</th>\n",
       "      <th>marital-status</th>\n",
       "      <th>occupation</th>\n",
       "      <th>relationship</th>\n",
       "      <th>race</th>\n",
       "      <th>sex</th>\n",
       "      <th>hours-per-week</th>\n",
       "      <th>native-country</th>\n",
       "      <th>income</th>\n",
       "      <th>diff</th>\n",
       "    </tr>\n",
       "  </thead>\n",
       "  <tbody>\n",
       "    <tr>\n",
       "      <th>0</th>\n",
       "      <td>33.0</td>\n",
       "      <td>Local-gov</td>\n",
       "      <td>Bachelors</td>\n",
       "      <td>Never-married</td>\n",
       "      <td>Prof-specialty</td>\n",
       "      <td>Not-in-family</td>\n",
       "      <td>White</td>\n",
       "      <td>Female</td>\n",
       "      <td>50.0</td>\n",
       "      <td>United-States</td>\n",
       "      <td>1</td>\n",
       "      <td>0.0</td>\n",
       "    </tr>\n",
       "    <tr>\n",
       "      <th>1</th>\n",
       "      <td>36.0</td>\n",
       "      <td>Private</td>\n",
       "      <td>Assoc</td>\n",
       "      <td>Married-civ-spouse</td>\n",
       "      <td>Exec-managerial</td>\n",
       "      <td>Husband</td>\n",
       "      <td>White</td>\n",
       "      <td>Male</td>\n",
       "      <td>50.0</td>\n",
       "      <td>United-States</td>\n",
       "      <td>1</td>\n",
       "      <td>-1887.0</td>\n",
       "    </tr>\n",
       "    <tr>\n",
       "      <th>2</th>\n",
       "      <td>58.0</td>\n",
       "      <td>Self-emp-not-inc</td>\n",
       "      <td>9th-12th</td>\n",
       "      <td>Separated</td>\n",
       "      <td>Craft-repair</td>\n",
       "      <td>Not-in-family</td>\n",
       "      <td>White</td>\n",
       "      <td>Male</td>\n",
       "      <td>40.0</td>\n",
       "      <td>United-States</td>\n",
       "      <td>0</td>\n",
       "      <td>0.0</td>\n",
       "    </tr>\n",
       "    <tr>\n",
       "      <th>3</th>\n",
       "      <td>21.0</td>\n",
       "      <td>Private</td>\n",
       "      <td>Assoc</td>\n",
       "      <td>Married-civ-spouse</td>\n",
       "      <td>Farming-fishing</td>\n",
       "      <td>Husband</td>\n",
       "      <td>White</td>\n",
       "      <td>Male</td>\n",
       "      <td>46.0</td>\n",
       "      <td>United-States</td>\n",
       "      <td>0</td>\n",
       "      <td>0.0</td>\n",
       "    </tr>\n",
       "    <tr>\n",
       "      <th>4</th>\n",
       "      <td>27.0</td>\n",
       "      <td>Private</td>\n",
       "      <td>Some-college</td>\n",
       "      <td>Divorced</td>\n",
       "      <td>Other-service</td>\n",
       "      <td>Not-in-family</td>\n",
       "      <td>White</td>\n",
       "      <td>Male</td>\n",
       "      <td>40.0</td>\n",
       "      <td>United-States</td>\n",
       "      <td>0</td>\n",
       "      <td>0.0</td>\n",
       "    </tr>\n",
       "    <tr>\n",
       "      <th>...</th>\n",
       "      <td>...</td>\n",
       "      <td>...</td>\n",
       "      <td>...</td>\n",
       "      <td>...</td>\n",
       "      <td>...</td>\n",
       "      <td>...</td>\n",
       "      <td>...</td>\n",
       "      <td>...</td>\n",
       "      <td>...</td>\n",
       "      <td>...</td>\n",
       "      <td>...</td>\n",
       "      <td>...</td>\n",
       "    </tr>\n",
       "    <tr>\n",
       "      <th>26043</th>\n",
       "      <td>47.0</td>\n",
       "      <td>Private</td>\n",
       "      <td>Bachelors</td>\n",
       "      <td>Married-civ-spouse</td>\n",
       "      <td>Craft-repair</td>\n",
       "      <td>Husband</td>\n",
       "      <td>White</td>\n",
       "      <td>Male</td>\n",
       "      <td>40.0</td>\n",
       "      <td>United-States</td>\n",
       "      <td>0</td>\n",
       "      <td>0.0</td>\n",
       "    </tr>\n",
       "    <tr>\n",
       "      <th>26044</th>\n",
       "      <td>31.0</td>\n",
       "      <td>Private</td>\n",
       "      <td>9th-12th</td>\n",
       "      <td>Divorced</td>\n",
       "      <td>Other-service</td>\n",
       "      <td>Unmarried</td>\n",
       "      <td>White</td>\n",
       "      <td>Female</td>\n",
       "      <td>21.0</td>\n",
       "      <td>United-States</td>\n",
       "      <td>0</td>\n",
       "      <td>0.0</td>\n",
       "    </tr>\n",
       "    <tr>\n",
       "      <th>26045</th>\n",
       "      <td>18.0</td>\n",
       "      <td>Private</td>\n",
       "      <td>9th-12th</td>\n",
       "      <td>Never-married</td>\n",
       "      <td>Adm-clerical</td>\n",
       "      <td>Own-child</td>\n",
       "      <td>White</td>\n",
       "      <td>Female</td>\n",
       "      <td>20.0</td>\n",
       "      <td>United-States</td>\n",
       "      <td>0</td>\n",
       "      <td>0.0</td>\n",
       "    </tr>\n",
       "    <tr>\n",
       "      <th>26046</th>\n",
       "      <td>50.0</td>\n",
       "      <td>Self-emp-not-inc</td>\n",
       "      <td>HS-grad</td>\n",
       "      <td>Married-civ-spouse</td>\n",
       "      <td>Farming-fishing</td>\n",
       "      <td>Husband</td>\n",
       "      <td>White</td>\n",
       "      <td>Male</td>\n",
       "      <td>84.0</td>\n",
       "      <td>United-States</td>\n",
       "      <td>0</td>\n",
       "      <td>0.0</td>\n",
       "    </tr>\n",
       "    <tr>\n",
       "      <th>26047</th>\n",
       "      <td>34.0</td>\n",
       "      <td>Self-emp-inc</td>\n",
       "      <td>Bachelors</td>\n",
       "      <td>Divorced</td>\n",
       "      <td>Farming-fishing</td>\n",
       "      <td>Not-in-family</td>\n",
       "      <td>White</td>\n",
       "      <td>Male</td>\n",
       "      <td>60.0</td>\n",
       "      <td>United-States</td>\n",
       "      <td>0</td>\n",
       "      <td>0.0</td>\n",
       "    </tr>\n",
       "  </tbody>\n",
       "</table>\n",
       "<p>26023 rows × 12 columns</p>\n",
       "</div>"
      ],
      "text/plain": [
       "        age         workclass     education      marital-status  \\\n",
       "0      33.0         Local-gov     Bachelors       Never-married   \n",
       "1      36.0           Private         Assoc  Married-civ-spouse   \n",
       "2      58.0  Self-emp-not-inc      9th-12th           Separated   \n",
       "3      21.0           Private         Assoc  Married-civ-spouse   \n",
       "4      27.0           Private  Some-college            Divorced   \n",
       "...     ...               ...           ...                 ...   \n",
       "26043  47.0           Private     Bachelors  Married-civ-spouse   \n",
       "26044  31.0           Private      9th-12th            Divorced   \n",
       "26045  18.0           Private      9th-12th       Never-married   \n",
       "26046  50.0  Self-emp-not-inc       HS-grad  Married-civ-spouse   \n",
       "26047  34.0      Self-emp-inc     Bachelors            Divorced   \n",
       "\n",
       "            occupation   relationship   race     sex  hours-per-week  \\\n",
       "0       Prof-specialty  Not-in-family  White  Female            50.0   \n",
       "1      Exec-managerial        Husband  White    Male            50.0   \n",
       "2         Craft-repair  Not-in-family  White    Male            40.0   \n",
       "3      Farming-fishing        Husband  White    Male            46.0   \n",
       "4        Other-service  Not-in-family  White    Male            40.0   \n",
       "...                ...            ...    ...     ...             ...   \n",
       "26043     Craft-repair        Husband  White    Male            40.0   \n",
       "26044    Other-service      Unmarried  White  Female            21.0   \n",
       "26045     Adm-clerical      Own-child  White  Female            20.0   \n",
       "26046  Farming-fishing        Husband  White    Male            84.0   \n",
       "26047  Farming-fishing  Not-in-family  White    Male            60.0   \n",
       "\n",
       "      native-country income    diff  \n",
       "0      United-States      1     0.0  \n",
       "1      United-States      1 -1887.0  \n",
       "2      United-States      0     0.0  \n",
       "3      United-States      0     0.0  \n",
       "4      United-States      0     0.0  \n",
       "...              ...    ...     ...  \n",
       "26043  United-States      0     0.0  \n",
       "26044  United-States      0     0.0  \n",
       "26045  United-States      0     0.0  \n",
       "26046  United-States      0     0.0  \n",
       "26047  United-States      0     0.0  \n",
       "\n",
       "[26023 rows x 12 columns]"
      ]
     },
     "execution_count": 78,
     "metadata": {},
     "output_type": "execute_result"
    }
   ],
   "source": [
    "df"
   ]
  },
  {
   "cell_type": "code",
   "execution_count": 79,
   "id": "eadd895a",
   "metadata": {},
   "outputs": [],
   "source": [
    "# ct = ColumnTransformer([\n",
    "#       ('onehot',\n",
    "#       OneHotEncoder(), [1,2,3,4,5,6,7,9]),\n",
    "# #       ('ordinal',\n",
    "# #       OrdinalEncoder(), [1,3,4,5,6,7,9\n",
    "# #                         ]),\n",
    "#        ('scaler',\n",
    "#        RobustScaler(), [0,8]),\n",
    "#        ('scaler2',\n",
    "#        MinMaxScaler(), [10])\n",
    "#        ])\n",
    "\n",
    "X_train, X_test, y_train, y_test = train_test_split(df.drop('income', axis=1), \n",
    "                                                    df['income'], test_size=0.2, random_state = 21)"
   ]
  },
  {
   "cell_type": "code",
   "execution_count": 80,
   "id": "d3b06183",
   "metadata": {},
   "outputs": [
    {
     "data": {
      "text/plain": [
       "(20818, 11)"
      ]
     },
     "execution_count": 80,
     "metadata": {},
     "output_type": "execute_result"
    }
   ],
   "source": [
    "X_train.shape"
   ]
  },
  {
   "cell_type": "code",
   "execution_count": 81,
   "id": "5ae6b9d2",
   "metadata": {},
   "outputs": [
    {
     "data": {
      "text/plain": [
       "(20818,)"
      ]
     },
     "execution_count": 81,
     "metadata": {},
     "output_type": "execute_result"
    }
   ],
   "source": [
    "y_train.shape"
   ]
  },
  {
   "cell_type": "code",
   "execution_count": 82,
   "id": "0ff19ea2",
   "metadata": {},
   "outputs": [],
   "source": [
    "cat_col = ['workclass', 'education','marital-status', 'occupation', 'relationship', 'race', 'sex' ,'native-country']\n",
    "num_col = ['age', 'hours-per-week']\n",
    "trans = make_column_transformer(\n",
    "    (OneHotEncoder(), cat_col),\n",
    "    (RobustScaler(), num_col),\n",
    "    (MinMaxScaler(), ['diff']),\n",
    "    remainder='drop')"
   ]
  },
  {
   "cell_type": "code",
   "execution_count": 83,
   "id": "02f710e6",
   "metadata": {},
   "outputs": [],
   "source": [
    "le = LabelEncoder()\n",
    "le.fit(y_train)\n",
    "y_train = le.transform(y_train)\n",
    "y_test = le.transform(y_test)\n",
    "\n",
    "# ct.fit(X_train)\n",
    "# X_train = ct.transform(X_train)\n",
    "# X_test = ct.transform(X_test)\n",
    "\n",
    "\n",
    "trans.fit(X_train)\n",
    "X_train = trans.transform(X_train)\n",
    "X_test = trans.transform(X_test)"
   ]
  },
  {
   "cell_type": "code",
   "execution_count": 84,
   "id": "9070e498",
   "metadata": {},
   "outputs": [
    {
     "data": {
      "text/plain": [
       "(20818, 60)"
      ]
     },
     "execution_count": 84,
     "metadata": {},
     "output_type": "execute_result"
    }
   ],
   "source": [
    "X_train.shape"
   ]
  },
  {
   "cell_type": "code",
   "execution_count": 85,
   "id": "80b8ec2a",
   "metadata": {},
   "outputs": [
    {
     "data": {
      "text/plain": [
       "(20818,)"
      ]
     },
     "execution_count": 85,
     "metadata": {},
     "output_type": "execute_result"
    }
   ],
   "source": [
    "y_train.shape"
   ]
  },
  {
   "cell_type": "code",
   "execution_count": 95,
   "id": "0a21bdc7",
   "metadata": {},
   "outputs": [
    {
     "name": "stdout",
     "output_type": "stream",
     "text": [
      "----------------- Обучили и тестировали (knk) -------------------\n",
      "Наилучшие параметры:\n",
      "{'metric': 'manhattan', 'n_neighbors': 70, 'p': 1, 'weights': 'uniform'}\n",
      "\n",
      "Средняя точность для наилучшей модели кроссвалидации на валидационных тестовых наборах: 0.834230\n",
      "\n",
      "Точность для наилучшей модели на тестовом наборе: 0.828434\n",
      "\n"
     ]
    }
   ],
   "source": [
    "# knk = KNeighborsClassifier()\n",
    "\n",
    "# Strat_KFold = StratifiedKFold(n_splits=3, random_state = 42, shuffle = True) \n",
    "\n",
    "# n_neighbors = [50,70]\n",
    "# p = [1, 2, 3,]\n",
    "# weights = ['uniform', # 'distance'\n",
    "#           ]\n",
    "# metrics = [# 'euclidean', \n",
    "#            'manhattan']\n",
    "\n",
    "# params = {'n_neighbors': n_neighbors, \"p\":p, \n",
    "#           \"weights\":weights, \n",
    "#           'metric':metrics}\n",
    "\n",
    "# grid = GridSearchCV(knk, params, scoring='accuracy', # n_jobs=-1, \n",
    "#                     cv=Strat_KFold, return_train_score=True, verbose = 3)\n",
    "# grid.fit(X_train, y_train)\n",
    "\n",
    "print(\"----------------- Обучили и тестировали (knk) -------------------\")\n",
    "print(\"Наилучшие параметры:\\n{}\\n\".format(grid.best_params_))\n",
    "print(\"Средняя точность для наилучшей модели кроссвалидации на валидационных тестовых наборах: {:.6f}\\n\".format(grid.best_score_)) \n",
    "print(\"Точность для наилучшей модели на тестовом наборе: {:.6f}\\n\".format(grid.score(X_test, y_test)))"
   ]
  },
  {
   "cell_type": "code",
   "execution_count": 94,
   "id": "9d600f85",
   "metadata": {},
   "outputs": [
    {
     "name": "stdout",
     "output_type": "stream",
     "text": [
      "----------------- Обучили и тестировали (logistic regression) -------------------\n",
      "Наилучшие параметры:\n",
      "{'C': 100, 'l1_ratio': 0.01, 'multi_class': 'ovr', 'penalty': 'l2', 'solver': 'sag'}\n",
      "\n",
      "Средняя точность для наилучшей модели кроссвалидации на валидационных тестовых наборах: 0.847776\n",
      "\n",
      "Точность для наилучшей модели на тестовом наборе: 0.845725\n",
      "\n"
     ]
    }
   ],
   "source": [
    "\n",
    "\n",
    "# param_grid = {'penalty':['l1', 'l2', 'elasticnet'], 'C':[100, 150,200,250,300,400,450],\n",
    "#              'solver':['lbfgs', 'liblinear', 'sag'], 'l1_ratio':[0.001, 0.01, 0.1],\n",
    "#              'multi_class': ['ovr', 'multinomial']}\n",
    "\n",
    "# grid1 = GridSearchCV(LogisticRegression(), \n",
    "#                      param_grid=param_grid, verbose=3,cv=Strat_KFold, # n_jobs=-1\n",
    "#                     )\n",
    "\n",
    "# grid1.fit(X_train, y_train)\n",
    "\n",
    "print(\"----------------- Обучили и тестировали (logistic regression) -------------------\")\n",
    "print(\"Наилучшие параметры:\\n{}\\n\".format(grid1.best_params_))\n",
    "print(\"Средняя точность для наилучшей модели кроссвалидации на валидационных тестовых наборах: {:.6f}\\n\".format(grid1.best_score_)) \n",
    "print(\"Точность для наилучшей модели на тестовом наборе: {:.6f}\\n\".format(grid1.score(X_test, y_test)))"
   ]
  },
  {
   "cell_type": "code",
   "execution_count": 93,
   "id": "d0359d9f",
   "metadata": {},
   "outputs": [
    {
     "name": "stdout",
     "output_type": "stream",
     "text": [
      "----------------- Обучили и тестировали (rangom forest) -------------------\n",
      "Наилучшие параметры:\n",
      "{'bootstrap': True, 'criterion': 'entropy', 'max_depth': 18, 'max_features': 'auto', 'min_samples_leaf': 3, 'min_samples_split': 14, 'n_estimators': 50}\n",
      "\n",
      "Средняя точность для наилучшей модели кроссвалидации на валидационных тестовых наборах: 0.860553\n",
      "\n",
      "Точность для наилучшей модели на тестовом наборе: 0.862248\n",
      "\n"
     ]
    }
   ],
   "source": [
    "# rfc=RandomForestClassifier(random_state=42)\n",
    "\n",
    "# Strat_KFold = StratifiedKFold(n_splits=3, random_state = 42, shuffle = True) \n",
    "\n",
    "# param_grid = { \n",
    "#     'n_estimators': [40,50,70],\n",
    "#     'max_features': ['auto', 'log2'],\n",
    "#     'max_depth' : [14,16,18],\n",
    "#     'criterion' :['gini','entropy'],\n",
    "#     'min_samples_split' : [10,12,14],\n",
    "#     'min_samples_leaf' : [1,2,3],\n",
    "#     'bootstrap' : [True, False]\n",
    "# }\n",
    "\n",
    "# grid3 = GridSearchCV(estimator=rfc, param_grid=param_grid, # n_jobs=-1, \n",
    "#                      scoring = 'accuracy', cv=Strat_KFold, verbose = 3)\n",
    "\n",
    "# grid3.fit(X_train, y_train)\n",
    "\n",
    "print(\"----------------- Обучили и тестировали (rangom forest) -------------------\")\n",
    "print(\"Наилучшие параметры:\\n{}\\n\".format(grid3.best_params_))\n",
    "print(\"Средняя точность для наилучшей модели кроссвалидации на валидационных тестовых наборах: {:.6f}\\n\".format(grid3.best_score_)) \n",
    "print(\"Точность для наилучшей модели на тестовом наборе: {:.6f}\\n\".format(grid3.score(X_test, y_test)))"
   ]
  },
  {
   "cell_type": "code",
   "execution_count": 92,
   "id": "9053fbad",
   "metadata": {},
   "outputs": [
    {
     "name": "stdout",
     "output_type": "stream",
     "text": [
      "----------------- Обучили и тестировали (Decision Tree) -------------------\n",
      "Наилучшие параметры:\n",
      "{'criterion': 'entropy', 'max_depth': 15, 'max_leaf_nodes': 67, 'min_samples_split': 2, 'splitter': 'best'}\n",
      "\n",
      "Средняя точность для наилучшей модели кроссвалидации на валидационных тестовых наборах: 0.851619\n",
      "\n",
      "Точность для наилучшей модели на тестовом наборе: 0.863593\n",
      "\n"
     ]
    }
   ],
   "source": [
    "# dtc = DecisionTreeClassifier(random_state=42)\n",
    "# tree_param = {'criterion':['gini','entropy'],\n",
    "#               'max_depth':[4,7,10,12,15],\n",
    "#               'splitter': ['best','random'],\n",
    "#               'max_leaf_nodes': list(range(2, 100)), \n",
    "#               'min_samples_split': [1, 2, 3, 4]}\n",
    "\n",
    "\n",
    "# grid4 = GridSearchCV(estimator=dtc, param_grid=tree_param, #n_jobs=-1, \n",
    "#                      scoring = 'accuracy', cv=Strat_KFold, verbose = 3)\n",
    "\n",
    "# grid4.fit(X_train, y_train)\n",
    "\n",
    "print(\"----------------- Обучили и тестировали (Decision Tree) -------------------\")\n",
    "print(\"Наилучшие параметры:\\n{}\\n\".format(grid4.best_params_))\n",
    "print(\"Средняя точность для наилучшей модели кроссвалидации на валидационных тестовых наборах: {:.6f}\\n\".format(grid4.best_score_)) \n",
    "print(\"Точность для наилучшей модели на тестовом наборе: {:.6f}\\n\".format(grid4.score(X_test, y_test)))"
   ]
  },
  {
   "cell_type": "code",
   "execution_count": 90,
   "id": "121d31a6",
   "metadata": {},
   "outputs": [
    {
     "name": "stdout",
     "output_type": "stream",
     "text": [
      "Classification report\n",
      "\n",
      "              precision    recall  f1-score   support\n",
      "\n",
      "           0       0.88      0.95      0.91      3994\n",
      "           1       0.77      0.59      0.67      1211\n",
      "\n",
      "    accuracy                           0.86      5205\n",
      "   macro avg       0.83      0.77      0.79      5205\n",
      "weighted avg       0.86      0.86      0.86      5205\n",
      "\n",
      "Confusion matrix\n",
      "\n"
     ]
    },
    {
     "data": {
      "image/png": "[encoded data removed]",
      "text/plain": [
       "<Figure size 432x288 with 2 Axes>"
      ]
     },
     "metadata": {
      "needs_background": "light"
     },
     "output_type": "display_data"
    },
    {
     "name": "stdout",
     "output_type": "stream",
     "text": [
      "Accuracy score is 0.8636\n"
     ]
    }
   ],
   "source": [
    "\n",
    "y_pred = grid4.predict(X_test)\n",
    "print('Classification report\\n')\n",
    "print(classification_report(y_test, y_pred))\n",
    "print('Confusion matrix\\n')\n",
    "disp = ConfusionMatrixDisplay(confusion_matrix=confusion_matrix(y_test, y_pred),\n",
    "                               #display_labels=['No', 'Yes']\n",
    "                             );\n",
    "disp.plot()\n",
    "plt.show()\n",
    "print('Accuracy score is {}'.format(round(accuracy_score(y_test, y_pred),4)))"
   ]
  },
  {
   "cell_type": "markdown",
   "id": "ca0be65a",
   "metadata": {},
   "source": [
    "## FOR TESTING \n",
    "\n",
    "**1. read packages** <br>\n",
    "2. go down"
   ]
  },
  {
   "cell_type": "code",
   "execution_count": 14,
   "id": "ddd853b7",
   "metadata": {},
   "outputs": [],
   "source": [
    "test_df = pd.read_csv('income_train.txt')\n",
    "df = pd.read_csv('income_train.txt')\n",
    "# df нужно прочесть для фита и трансформа test_df"
   ]
  },
  {
   "cell_type": "markdown",
   "id": "41deb29c",
   "metadata": {},
   "source": [
    "**Если в тестовом датасете есть income**"
   ]
  },
  {
   "cell_type": "code",
   "execution_count": 15,
   "id": "85e7d9e0",
   "metadata": {},
   "outputs": [],
   "source": [
    "def preprocess(test_df):\n",
    "    test_df.loc[test_df.income == '>50K', 'income'] = 1\n",
    "    test_df.loc[test_df.income == '<=50K', 'income'] = 0\n",
    "    test_df.income = test_df.income.astype('category')\n",
    "    # # 1. varik : Классы without pay и never worked сами по себе достаточно небольшие и будут создавать дисбаланс в моделях\n",
    "    test_df.workclass = ['no money' if value == 'Without-pay' or value == 'Never-worked' \n",
    "                         else value for value in test_df.workclass]\n",
    "    # ???? что с этим делать\n",
    "    test_df.drop('fnlwgt', axis = 1, inplace = True);\n",
    "    test_df.education = ['pre-4th' if value == 'Preschool' or value == '1st-4th' else value for value in test_df.education]\n",
    "    test_df.education = ['5th-8th' if value == '5th-6th' or value == '7th-8th' else value for value in test_df.education]\n",
    "    test_df.education = ['9th-12th' if value == '9th' or value == '10th' or value == '11th' or value == '12th'\n",
    "                    else value for value in test_df.education]\n",
    "    test_df.education = ['Assoc' if value == 'Assoc-acdm' or value == 'Assoc-voc' else value for value in test_df.education]\n",
    "    # labeled 'education'\n",
    "    test_df.drop('education-num', axis = 1, inplace = True)\n",
    "    test_df = test_df.loc[~(test_df['marital-status'] == 'Married-AF-spouse'), :]\n",
    "    test_df = test_df.loc[~(test_df.occupation == 'Armed-Forces'), :]\n",
    "    test_df['diff'] = test_df['capital-gain'] - test_df['capital-loss']\n",
    "    test_df.drop(['capital-gain', 'capital-loss'], axis=1, inplace = True);\n",
    "\n",
    "    # Разобьем по регионам\n",
    "    d = dict()\n",
    "    for i in test_df['native-country'].unique():\n",
    "        try:\n",
    "            region = CountryInfo(i).region()\n",
    "            if region in d.keys() : \n",
    "                d.update({region:d[region] + [i]})\n",
    "            else : \n",
    "                d[region] = [i]\n",
    "        except KeyError: \n",
    "            pass\n",
    "\n",
    "    region = CountryInfo('Colombia').region()\n",
    "    d.update({region:d[region] + ['Columbia']})\n",
    "    region = CountryInfo('El Salvador').region()\n",
    "    d.update({region:d[region] + ['El-Salvador']})\n",
    "    #\n",
    "    region = CountryInfo('Dominican Republic').region()\n",
    "    d.update({region:d[region] + ['Dominican-Republic']})\n",
    "    region = CountryInfo('UK').region()\n",
    "    d.update({region:d[region] + ['England']})\n",
    "    region = CountryInfo('Puerto Rico').region()\n",
    "    d.update({region:d[region] + ['Puerto-Rico']})\n",
    "    #\n",
    "    d.update({'Europe': d['Europe'] + ['Scotland']})\n",
    "    d.update({'Europe': d['Europe'] + ['Yugoslavia']})\n",
    "    d.update({'Asia': d['Asia'] + ['Hong']})\n",
    "    #\n",
    "    region = CountryInfo('Trinidad and Tobago').region()\n",
    "    d.update({region:d[region] + ['Trinadad&Tobago']})\n",
    "    region = CountryInfo('United States').region()\n",
    "    d.update({region:d[region] + ['Outlying-US(Guam-USVI-etc)']})\n",
    "    region = CountryInfo('Netherlands').region()\n",
    "    d.update({region:d[region] + ['Holand-Netherlands']})\n",
    "\n",
    "    new_dict = {vi: k  for k, v in d.items() for vi in v}\n",
    "    new_dict['South'] = 'South'\n",
    "    new_dict['United-States'] = 'United-States'\n",
    "    new_dict['?'] = '?'\n",
    "    test_df['native-country'] = test_df['native-country'].map(new_dict)\n",
    "    return test_df"
   ]
  },
  {
   "cell_type": "markdown",
   "id": "40a69481",
   "metadata": {},
   "source": [
    "**Если в тестовом датасете нет income**<br>\n",
    "(Тогда весь test_df является тестовой выборкой - X_test)"
   ]
  },
  {
   "cell_type": "code",
   "execution_count": 16,
   "id": "53b5dce3",
   "metadata": {},
   "outputs": [],
   "source": [
    "def preprocess1(test_df):\n",
    "    # # 1. varik : Классы without pay и never worked сами по себе достаточно небольшие и будут создавать дисбаланс в моделях\n",
    "    test_df.workclass = ['no money' if value == 'Without-pay' or value == 'Never-worked' \n",
    "                         else value for value in test_df.workclass]\n",
    "    # ???? что с этим делать\n",
    "    test_df.drop('fnlwgt', axis = 1, inplace = True);\n",
    "    test_df.education = ['pre-4th' if value == 'Preschool' or value == '1st-4th' else value for value in test_df.education]\n",
    "    test_df.education = ['5th-8th' if value == '5th-6th' or value == '7th-8th' else value for value in test_df.education]\n",
    "    test_df.education = ['9th-12th' if value == '9th' or value == '10th' or value == '11th' or value == '12th'\n",
    "                    else value for value in test_df.education]\n",
    "    test_df.education = ['Assoc' if value == 'Assoc-acdm' or value == 'Assoc-voc' else value for value in test_df.education]\n",
    "    # labeled 'education'\n",
    "    test_df.drop('education-num', axis = 1, inplace = True)\n",
    "    test_df = test_df.loc[~(test_df['marital-status'] == 'Married-AF-spouse'), :]\n",
    "    test_df = test_df.loc[~(test_df.occupation == 'Armed-Forces'), :]\n",
    "    test_df['diff'] = test_df['capital-gain'] - test_df['capital-loss']\n",
    "    test_df.drop(['capital-gain', 'capital-loss'], axis=1, inplace = True);\n",
    "\n",
    "    # Разобьем по регионам\n",
    "    d = dict()\n",
    "    for i in test_df['native-country'].unique():\n",
    "        try:\n",
    "            region = CountryInfo(i).region()\n",
    "            if region in d.keys() : \n",
    "                d.update({region:d[region] + [i]})\n",
    "            else : \n",
    "                d[region] = [i]\n",
    "        except KeyError: \n",
    "            pass\n",
    "\n",
    "    region = CountryInfo('Colombia').region()\n",
    "    d.update({region:d[region] + ['Columbia']})\n",
    "    region = CountryInfo('El Salvador').region()\n",
    "    d.update({region:d[region] + ['El-Salvador']})\n",
    "    #\n",
    "    region = CountryInfo('Dominican Republic').region()\n",
    "    d.update({region:d[region] + ['Dominican-Republic']})\n",
    "    region = CountryInfo('UK').region()\n",
    "    d.update({region:d[region] + ['England']})\n",
    "    region = CountryInfo('Puerto Rico').region()\n",
    "    d.update({region:d[region] + ['Puerto-Rico']})\n",
    "    #\n",
    "    d.update({'Europe': d['Europe'] + ['Scotland']})\n",
    "    d.update({'Europe': d['Europe'] + ['Yugoslavia']})\n",
    "    d.update({'Asia': d['Asia'] + ['Hong']})\n",
    "    #\n",
    "    region = CountryInfo('Trinidad and Tobago').region()\n",
    "    d.update({region:d[region] + ['Trinadad&Tobago']})\n",
    "    region = CountryInfo('United States').region()\n",
    "    d.update({region:d[region] + ['Outlying-US(Guam-USVI-etc)']})\n",
    "    region = CountryInfo('Netherlands').region()\n",
    "    d.update({region:d[region] + ['Holand-Netherlands']})\n",
    "\n",
    "    new_dict = {vi: k  for k, v in d.items() for vi in v}\n",
    "    new_dict['South'] = 'South'\n",
    "    new_dict['United-States'] = 'United-States'\n",
    "    new_dict['?'] = '?'\n",
    "    test_df['native-country'] = test_df['native-country'].map(new_dict)\n",
    "    return test_df"
   ]
  },
  {
   "cell_type": "code",
   "execution_count": 17,
   "id": "2ebe965c",
   "metadata": {},
   "outputs": [],
   "source": [
    "test_df = preprocess(test_df)\n",
    "df = preprocess(df)\n",
    "# или\n",
    "# test_df = preprocess1(test_df)\n",
    "# df = preprocess(df)"
   ]
  },
  {
   "cell_type": "code",
   "execution_count": 22,
   "id": "3f4dfa2d",
   "metadata": {},
   "outputs": [],
   "source": [
    "cat_col = ['workclass', 'education','marital-status', 'occupation', 'relationship', 'race', 'sex' ,'native-country']\n",
    "num_col = ['age', 'hours-per-week']\n",
    "trans = make_column_transformer(\n",
    "    (OneHotEncoder(), cat_col),\n",
    "    (RobustScaler(), num_col),\n",
    "    (MinMaxScaler(), ['diff']),\n",
    "    remainder='drop')\n",
    "le = LabelEncoder()\n",
    "\n",
    "\n",
    "X_train = df.drop('income', axis=1)\n",
    "y_train = df['income']\n",
    "\n",
    "X_test = test_df.drop('income', axis=1)\n",
    "y_test = test_df['income']\n",
    "\n",
    "le.fit(y_train)\n",
    "y_train = le.transform(y_train)\n",
    "y_test = le.transform(y_test)\n",
    "\n",
    "trans.fit(X_train)\n",
    "X_test = trans.transform(X_test)\n",
    "X_train = trans.transform(X_train)"
   ]
  },
  {
   "cell_type": "code",
   "execution_count": 23,
   "id": "2b170e17",
   "metadata": {},
   "outputs": [],
   "source": [
    "# grid4.best_estimator_ \n",
    "\n",
    "# DecisionTreeClassifier(criterion='entropy', max_depth=15, max_leaf_nodes=67,\n",
    "#                        random_state=42)"
   ]
  },
  {
   "cell_type": "code",
   "execution_count": 24,
   "id": "ba3fc971",
   "metadata": {},
   "outputs": [
    {
     "name": "stdout",
     "output_type": "stream",
     "text": [
      "Accuracy score is 0.8613\n"
     ]
    }
   ],
   "source": [
    "best_model = DecisionTreeClassifier(criterion='entropy', max_depth=15, max_leaf_nodes=67,\n",
    "                       random_state=42)\n",
    "best_model.fit(X_train, y_train)\n",
    "y_pred = best_model.predict(X_test)\n",
    "print('Accuracy score is {}'.format(round(accuracy_score(y_test, y_pred), 4)))"
   ]
  }
 ],
 "metadata": {
  "kernelspec": {
   "display_name": "Python 3",
   "language": "python",
   "name": "python3"
  },
  "language_info": {
   "codemirror_mode": {
    "name": "ipython",
    "version": 3
   },
   "file_extension": ".py",
   "mimetype": "text/x-python",
   "name": "python",
   "nbconvert_exporter": "python",
   "pygments_lexer": "ipython3",
   "version": "3.8.8"
  }
 },
 "nbformat": 4,
 "nbformat_minor": 5
}
